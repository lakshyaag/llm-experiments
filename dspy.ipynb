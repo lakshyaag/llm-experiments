{
 "cells": [
  {
   "cell_type": "code",
   "execution_count": 4,
   "metadata": {},
   "outputs": [],
   "source": [
    "import dspy as ds\n",
    "import pandas as pd\n",
    "import numpy as np\n",
    "from rich import print\n",
    "from dspy.datasets.gsm8k import GSM8K, gsm8k_metric\n",
    "from tqdm import tqdm\n",
    "from dspy.evaluate import Evaluate\n",
    "from dspy.teleprompt import BootstrapFewShot\n",
    "from dspy.datasets import HotPotQA\n",
    "from dsp.utils import deduplicate\n",
    "\n",
    "tqdm.pandas()\n",
    "\n",
    "%load_ext rich\n"
   ]
  },
  {
   "cell_type": "markdown",
   "metadata": {},
   "source": [
    "## GSM8K\n"
   ]
  },
  {
   "cell_type": "code",
   "execution_count": 5,
   "metadata": {},
   "outputs": [],
   "source": [
    "turbo = ds.OpenAI(model=\"gpt-3.5-turbo-instruct\", max_tokens=250)\n",
    "ds.settings.configure(lm=turbo, log_openai_usage=True)"
   ]
  },
  {
   "cell_type": "code",
   "execution_count": 6,
   "metadata": {},
   "outputs": [
    {
     "name": "stderr",
     "output_type": "stream",
     "text": [
      "100%|██████████| 7473/7473 [00:00<00:00, 17836.72it/s]\n",
      "100%|██████████| 1319/1319 [00:00<00:00, 21621.31it/s]\n"
     ]
    },
    {
     "data": {
      "text/html": [
       "<pre style=\"white-space:pre;overflow-x:auto;line-height:normal;font-family:Menlo,'DejaVu Sans Mono',consolas,'Courier New',monospace\"><span style=\"font-weight: bold\">[</span>\n",
       "    <span style=\"color: #800080; text-decoration-color: #800080; font-weight: bold\">Example</span><span style=\"font-weight: bold\">({</span><span style=\"color: #008000; text-decoration-color: #008000\">'question'</span>: <span style=\"color: #008000; text-decoration-color: #008000\">\"The result from the 40-item Statistics exam Marion and Ella took already came out. Ella </span>\n",
       "<span style=\"color: #008000; text-decoration-color: #008000\">got 4 incorrect answers while Marion got 6 more than half the score of Ella. What is Marion's score?\"</span>, \n",
       "<span style=\"color: #008000; text-decoration-color: #008000\">'gold_reasoning'</span>: <span style=\"color: #008000; text-decoration-color: #008000\">\"Ella's score is 40 items - 4 items = &lt;&lt;40-4=36&gt;&gt;36 items. Half of Ella's score is 36 items / 2 =</span>\n",
       "<span style=\"color: #008000; text-decoration-color: #008000\">&lt;&lt;36/2=18&gt;&gt;18 items. So, Marion's score is 18 items + 6 items = &lt;&lt;18+6=24&gt;&gt;24 items.\"</span><span style=\"color: #000000; text-decoration-color: #000000\">, </span><span style=\"color: #008000; text-decoration-color: #008000\">'answer'</span><span style=\"color: #000000; text-decoration-color: #000000\">: </span><span style=\"color: #008000; text-decoration-color: #008000\">'24'</span><span style=\"color: #000000; text-decoration-color: #000000; font-weight: bold\">})</span><span style=\"color: #000000; text-decoration-color: #000000\"> </span>\n",
       "<span style=\"color: #000000; text-decoration-color: #000000; font-weight: bold\">(</span><span style=\"color: #808000; text-decoration-color: #808000\">input_keys</span><span style=\"color: #000000; text-decoration-color: #000000\">=</span><span style=\"color: #000000; text-decoration-color: #000000; font-weight: bold\">{</span><span style=\"color: #008000; text-decoration-color: #008000\">'question'</span><span style=\"color: #000000; text-decoration-color: #000000; font-weight: bold\">})</span><span style=\"color: #000000; text-decoration-color: #000000\">,</span>\n",
       "<span style=\"color: #000000; text-decoration-color: #000000\">    </span><span style=\"color: #800080; text-decoration-color: #800080; font-weight: bold\">Example</span><span style=\"color: #000000; text-decoration-color: #000000; font-weight: bold\">({</span><span style=\"color: #008000; text-decoration-color: #008000\">'question'</span><span style=\"color: #000000; text-decoration-color: #000000\">: </span><span style=\"color: #008000; text-decoration-color: #008000\">\"Stephen made 10 round trips up and down a 40,000 foot tall mountain. If he reached 3/4 of</span>\n",
       "<span style=\"color: #008000; text-decoration-color: #008000\">the mountain's height on each of his trips, calculate the total distance he covered.\"</span><span style=\"color: #000000; text-decoration-color: #000000\">, </span><span style=\"color: #008000; text-decoration-color: #008000\">'gold_reasoning'</span><span style=\"color: #000000; text-decoration-color: #000000\">: </span><span style=\"color: #008000; text-decoration-color: #008000\">'Up a </span>\n",
       "<span style=\"color: #008000; text-decoration-color: #008000\">mountain, Stephen covered 3/4*40000 = &lt;&lt;3/4*40000=30000&gt;&gt;30000 feet. Coming down, Stephen covered another 30000 </span>\n",
       "<span style=\"color: #008000; text-decoration-color: #008000\">feet, making the total distance covered in one round to be 30000+30000 = &lt;&lt;30000+30000=60000&gt;&gt;60000. Since Stephen </span>\n",
       "<span style=\"color: #008000; text-decoration-color: #008000\">made 10 round trips up and down the mountain, he covered 10*60000 = &lt;&lt;10*60000=600000&gt;&gt;600000'</span><span style=\"color: #000000; text-decoration-color: #000000\">, </span><span style=\"color: #008000; text-decoration-color: #008000\">'answer'</span><span style=\"color: #000000; text-decoration-color: #000000\">: </span>\n",
       "<span style=\"color: #008000; text-decoration-color: #008000\">'600000'</span><span style=\"color: #000000; text-decoration-color: #000000; font-weight: bold\">})</span><span style=\"color: #000000; text-decoration-color: #000000\"> </span><span style=\"color: #000000; text-decoration-color: #000000; font-weight: bold\">(</span><span style=\"color: #808000; text-decoration-color: #808000\">input_keys</span><span style=\"color: #000000; text-decoration-color: #000000\">=</span><span style=\"color: #000000; text-decoration-color: #000000; font-weight: bold\">{</span><span style=\"color: #008000; text-decoration-color: #008000\">'question'</span><span style=\"color: #000000; text-decoration-color: #000000; font-weight: bold\">})</span><span style=\"color: #000000; text-decoration-color: #000000\">,</span>\n",
       "<span style=\"color: #000000; text-decoration-color: #000000\">    </span><span style=\"color: #800080; text-decoration-color: #800080; font-weight: bold\">Example</span><span style=\"color: #000000; text-decoration-color: #000000; font-weight: bold\">({</span><span style=\"color: #008000; text-decoration-color: #008000\">'question'</span><span style=\"color: #000000; text-decoration-color: #000000\">: </span><span style=\"color: #008000; text-decoration-color: #008000\">'Bridget counted 14 shooting stars in the night sky.  Reginald counted two fewer shooting </span>\n",
       "<span style=\"color: #008000; text-decoration-color: #008000\">stars than did Bridget, but Sam counted four more shooting stars than did Reginald.  How many more shooting stars </span>\n",
       "<span style=\"color: #008000; text-decoration-color: #008000\">did Sam count in the night sky than was the average number of shooting stars observed for the three of them?'</span><span style=\"color: #000000; text-decoration-color: #000000\">, </span>\n",
       "<span style=\"color: #008000; text-decoration-color: #008000\">'gold_reasoning'</span><span style=\"color: #000000; text-decoration-color: #000000\">: </span><span style=\"color: #008000; text-decoration-color: #008000\">'Reginald counted two fewer shooting stars than did Bridget, or a total of 14-2=&lt;&lt;14-2=12&gt;&gt;12 </span>\n",
       "<span style=\"color: #008000; text-decoration-color: #008000\">shooting stars. Sam counted 4 more shooting stars than did Reginald, or a total of 12+4=16 shooting stars. The </span>\n",
       "<span style=\"color: #008000; text-decoration-color: #008000\">average number of shooting stars observed for the three of them was (14+12+16)/3 = &lt;&lt;14=14&gt;&gt;14 shooting stars. </span>\n",
       "<span style=\"color: #008000; text-decoration-color: #008000\">Thus, Sam counted 16-14=2 more shooting stars than was the average number of shooting stars observed for the three </span>\n",
       "<span style=\"color: #008000; text-decoration-color: #008000\">of them.'</span><span style=\"color: #000000; text-decoration-color: #000000\">, </span><span style=\"color: #008000; text-decoration-color: #008000\">'answer'</span><span style=\"color: #000000; text-decoration-color: #000000\">: </span><span style=\"color: #008000; text-decoration-color: #008000\">'2'</span><span style=\"color: #000000; text-decoration-color: #000000; font-weight: bold\">})</span><span style=\"color: #000000; text-decoration-color: #000000\"> </span><span style=\"color: #000000; text-decoration-color: #000000; font-weight: bold\">(</span><span style=\"color: #808000; text-decoration-color: #808000\">input_keys</span><span style=\"color: #000000; text-decoration-color: #000000\">=</span><span style=\"color: #000000; text-decoration-color: #000000; font-weight: bold\">{</span><span style=\"color: #008000; text-decoration-color: #008000\">'question'</span><span style=\"color: #000000; text-decoration-color: #000000; font-weight: bold\">})</span><span style=\"color: #000000; text-decoration-color: #000000\">,</span>\n",
       "<span style=\"color: #000000; text-decoration-color: #000000\">    </span><span style=\"color: #800080; text-decoration-color: #800080; font-weight: bold\">Example</span><span style=\"color: #000000; text-decoration-color: #000000; font-weight: bold\">({</span><span style=\"color: #008000; text-decoration-color: #008000\">'question'</span><span style=\"color: #000000; text-decoration-color: #000000\">: </span><span style=\"color: #008000; text-decoration-color: #008000\">'Sarah buys 20 pencils on Monday. Then she buys 18 more pencils on Tuesday. On Wednesday </span>\n",
       "<span style=\"color: #008000; text-decoration-color: #008000\">she buys triple the number of pencils she did on Tuesday. How many pencils does she have?'</span><span style=\"color: #000000; text-decoration-color: #000000\">, </span><span style=\"color: #008000; text-decoration-color: #008000\">'gold_reasoning'</span><span style=\"color: #000000; text-decoration-color: #000000\">: </span><span style=\"color: #008000; text-decoration-color: #008000\">'By </span>\n",
       "<span style=\"color: #008000; text-decoration-color: #008000\">adding together Monday and Tuesday, Saah has 20+18= &lt;&lt;20+18=38&gt;&gt;38 pencils On Wednesday, she buys 3 * 18= </span>\n",
       "<span style=\"color: #008000; text-decoration-color: #008000\">&lt;&lt;3*18=54&gt;&gt;54 pencils All together, Sarah has 38+54= &lt;&lt;38+54=92&gt;&gt;92 pencils'</span><span style=\"color: #000000; text-decoration-color: #000000\">, </span><span style=\"color: #008000; text-decoration-color: #008000\">'answer'</span><span style=\"color: #000000; text-decoration-color: #000000\">: </span><span style=\"color: #008000; text-decoration-color: #008000\">'92'</span><span style=\"color: #000000; text-decoration-color: #000000; font-weight: bold\">})</span><span style=\"color: #000000; text-decoration-color: #000000\"> </span>\n",
       "<span style=\"color: #000000; text-decoration-color: #000000; font-weight: bold\">(</span><span style=\"color: #808000; text-decoration-color: #808000\">input_keys</span><span style=\"color: #000000; text-decoration-color: #000000\">=</span><span style=\"color: #000000; text-decoration-color: #000000; font-weight: bold\">{</span><span style=\"color: #008000; text-decoration-color: #008000\">'question'</span><span style=\"color: #000000; text-decoration-color: #000000; font-weight: bold\">})</span><span style=\"color: #000000; text-decoration-color: #000000\">,</span>\n",
       "<span style=\"color: #000000; text-decoration-color: #000000\">    </span><span style=\"color: #800080; text-decoration-color: #800080; font-weight: bold\">Example</span><span style=\"color: #000000; text-decoration-color: #000000; font-weight: bold\">({</span><span style=\"color: #008000; text-decoration-color: #008000\">'question'</span><span style=\"color: #000000; text-decoration-color: #000000\">: </span><span style=\"color: #008000; text-decoration-color: #008000\">'Rookie police officers have to buy duty shoes at the full price of $85, but officers who </span>\n",
       "<span style=\"color: #008000; text-decoration-color: #008000\">have served at least a year get a 20% discount. Officers who have served at least three years get an additional 25%</span>\n",
       "<span style=\"color: #008000; text-decoration-color: #008000\">off the discounted price. How much does an officer who has served at least three years have to pay for shoes?'</span><span style=\"color: #000000; text-decoration-color: #000000\">, </span>\n",
       "<span style=\"color: #008000; text-decoration-color: #008000\">'gold_reasoning'</span><span style=\"color: #000000; text-decoration-color: #000000\">: </span><span style=\"color: #008000; text-decoration-color: #008000\">'Cops that served a year pay $85 * 0.2 = $&lt;&lt;85*0.2=17&gt;&gt;17 less. Cops that served a year pay $85 -</span>\n",
       "<span style=\"color: #008000; text-decoration-color: #008000\">$17 = $&lt;&lt;85-17=68&gt;&gt;68. Cops that served at least 3 years get a $68 * 0.25 = $&lt;&lt;68*0.25=17&gt;&gt;17 discount. Cops that </span>\n",
       "<span style=\"color: #008000; text-decoration-color: #008000\">served at least 3 years pay $68 - $17 = $&lt;&lt;68-17=51&gt;&gt;51 for shoes.'</span><span style=\"color: #000000; text-decoration-color: #000000\">, </span><span style=\"color: #008000; text-decoration-color: #008000\">'answer'</span><span style=\"color: #000000; text-decoration-color: #000000\">: </span><span style=\"color: #008000; text-decoration-color: #008000\">'51'</span><span style=\"color: #000000; text-decoration-color: #000000; font-weight: bold\">})</span><span style=\"color: #000000; text-decoration-color: #000000\"> </span><span style=\"color: #000000; text-decoration-color: #000000; font-weight: bold\">(</span><span style=\"color: #808000; text-decoration-color: #808000\">input_keys</span><span style=\"color: #000000; text-decoration-color: #000000\">=</span><span style=\"color: #000000; text-decoration-color: #000000; font-weight: bold\">{</span><span style=\"color: #008000; text-decoration-color: #008000\">'question'</span><span style=\"color: #000000; text-decoration-color: #000000; font-weight: bold\">})</span><span style=\"color: #000000; text-decoration-color: #000000\">,</span>\n",
       "<span style=\"color: #000000; text-decoration-color: #000000\">    </span><span style=\"color: #800080; text-decoration-color: #800080; font-weight: bold\">Example</span><span style=\"color: #000000; text-decoration-color: #000000; font-weight: bold\">({</span><span style=\"color: #008000; text-decoration-color: #008000\">'question'</span><span style=\"color: #000000; text-decoration-color: #000000\">: </span><span style=\"color: #008000; text-decoration-color: #008000\">\"The average score on last week's Spanish test was 90.  Marco scored 10% less than the </span>\n",
       "<span style=\"color: #008000; text-decoration-color: #008000\">average test score and Margaret received 5 more points than Marco.  What score did Margaret receive on her test?\"</span><span style=\"color: #000000; text-decoration-color: #000000\">, </span>\n",
       "<span style=\"color: #008000; text-decoration-color: #008000\">'gold_reasoning'</span><span style=\"color: #000000; text-decoration-color: #000000\">: </span><span style=\"color: #008000; text-decoration-color: #008000\">'The average test score was 90 and Marco scored 10% less so 90*.10 = &lt;&lt;90*.10=9&gt;&gt;9 points lower </span>\n",
       "<span style=\"color: #008000; text-decoration-color: #008000\">The average test score was 90 and Marco scored 9 points less so his test score was 90-9 = &lt;&lt;90-9=81&gt;&gt;81 Margret </span>\n",
       "<span style=\"color: #008000; text-decoration-color: #008000\">received 5 more points than Marco whose test score was 81 so she made 5+81 = &lt;&lt;5+81=86&gt;&gt;86 on her test'</span><span style=\"color: #000000; text-decoration-color: #000000\">, </span><span style=\"color: #008000; text-decoration-color: #008000\">'answer'</span><span style=\"color: #000000; text-decoration-color: #000000\">: </span>\n",
       "<span style=\"color: #008000; text-decoration-color: #008000\">'86'</span><span style=\"color: #000000; text-decoration-color: #000000; font-weight: bold\">})</span><span style=\"color: #000000; text-decoration-color: #000000\"> </span><span style=\"color: #000000; text-decoration-color: #000000; font-weight: bold\">(</span><span style=\"color: #808000; text-decoration-color: #808000\">input_keys</span><span style=\"color: #000000; text-decoration-color: #000000\">=</span><span style=\"color: #000000; text-decoration-color: #000000; font-weight: bold\">{</span><span style=\"color: #008000; text-decoration-color: #008000\">'question'</span><span style=\"color: #000000; text-decoration-color: #000000; font-weight: bold\">})</span><span style=\"color: #000000; text-decoration-color: #000000\">,</span>\n",
       "<span style=\"color: #000000; text-decoration-color: #000000\">    </span><span style=\"color: #800080; text-decoration-color: #800080; font-weight: bold\">Example</span><span style=\"color: #000000; text-decoration-color: #000000; font-weight: bold\">({</span><span style=\"color: #008000; text-decoration-color: #008000\">'question'</span><span style=\"color: #000000; text-decoration-color: #000000\">: </span><span style=\"color: #008000; text-decoration-color: #008000\">'A third of the contestants at a singing competition are female, and the rest are male. If</span>\n",
       "<span style=\"color: #008000; text-decoration-color: #008000\">there are 18 contestants in total, how many of them are male?'</span><span style=\"color: #000000; text-decoration-color: #000000\">, </span><span style=\"color: #008000; text-decoration-color: #008000\">'gold_reasoning'</span><span style=\"color: #000000; text-decoration-color: #000000\">: </span><span style=\"color: #008000; text-decoration-color: #008000\">'There are 18/3 = &lt;&lt;18/3=6&gt;&gt;6 </span>\n",
       "<span style=\"color: #008000; text-decoration-color: #008000\">female contestants. There are 18-6 = &lt;&lt;18-6=12&gt;&gt;12 male contestants.'</span><span style=\"color: #000000; text-decoration-color: #000000\">, </span><span style=\"color: #008000; text-decoration-color: #008000\">'answer'</span><span style=\"color: #000000; text-decoration-color: #000000\">: </span><span style=\"color: #008000; text-decoration-color: #008000\">'12'</span><span style=\"color: #000000; text-decoration-color: #000000; font-weight: bold\">})</span><span style=\"color: #000000; text-decoration-color: #000000\"> </span><span style=\"color: #000000; text-decoration-color: #000000; font-weight: bold\">(</span><span style=\"color: #808000; text-decoration-color: #808000\">input_keys</span><span style=\"color: #000000; text-decoration-color: #000000\">=</span><span style=\"color: #000000; text-decoration-color: #000000; font-weight: bold\">{</span><span style=\"color: #008000; text-decoration-color: #008000\">'question'</span><span style=\"color: #000000; text-decoration-color: #000000; font-weight: bold\">})</span><span style=\"color: #000000; text-decoration-color: #000000\">,</span>\n",
       "<span style=\"color: #000000; text-decoration-color: #000000\">    </span><span style=\"color: #800080; text-decoration-color: #800080; font-weight: bold\">Example</span><span style=\"color: #000000; text-decoration-color: #000000; font-weight: bold\">({</span><span style=\"color: #008000; text-decoration-color: #008000\">'question'</span><span style=\"color: #000000; text-decoration-color: #000000\">: </span><span style=\"color: #008000; text-decoration-color: #008000\">'Nancy bought a pie sliced it into 8 pieces. She gave 1/2 to Joe and Darcy, and she gave </span>\n",
       "<span style=\"color: #008000; text-decoration-color: #008000\">1/4 to Carl. How many slices were left?'</span><span style=\"color: #000000; text-decoration-color: #000000\">, </span><span style=\"color: #008000; text-decoration-color: #008000\">'gold_reasoning'</span><span style=\"color: #000000; text-decoration-color: #000000\">: </span><span style=\"color: #008000; text-decoration-color: #008000\">'The total number of slices she gave to Joe and Darcy </span>\n",
       "<span style=\"color: #008000; text-decoration-color: #008000\">is 1/2 x 8 = &lt;&lt;1/2*8=4&gt;&gt;4. The total slice she gave to Carl is 1/4 x 8 = &lt;&lt;1/4*8=2&gt;&gt;2. Therefore, the total slices </span>\n",
       "<span style=\"color: #008000; text-decoration-color: #008000\">left is 8 - 4 - 2 = &lt;&lt;8-4-2=2&gt;&gt;2.'</span><span style=\"color: #000000; text-decoration-color: #000000\">, </span><span style=\"color: #008000; text-decoration-color: #008000\">'answer'</span><span style=\"color: #000000; text-decoration-color: #000000\">: </span><span style=\"color: #008000; text-decoration-color: #008000\">'2'</span><span style=\"color: #000000; text-decoration-color: #000000; font-weight: bold\">})</span><span style=\"color: #000000; text-decoration-color: #000000\"> </span><span style=\"color: #000000; text-decoration-color: #000000; font-weight: bold\">(</span><span style=\"color: #808000; text-decoration-color: #808000\">input_keys</span><span style=\"color: #000000; text-decoration-color: #000000\">=</span><span style=\"color: #000000; text-decoration-color: #000000; font-weight: bold\">{</span><span style=\"color: #008000; text-decoration-color: #008000\">'question'</span><span style=\"color: #000000; text-decoration-color: #000000; font-weight: bold\">})</span><span style=\"color: #000000; text-decoration-color: #000000\">,</span>\n",
       "<span style=\"color: #000000; text-decoration-color: #000000\">    </span><span style=\"color: #800080; text-decoration-color: #800080; font-weight: bold\">Example</span><span style=\"color: #000000; text-decoration-color: #000000; font-weight: bold\">({</span><span style=\"color: #008000; text-decoration-color: #008000\">'question'</span><span style=\"color: #000000; text-decoration-color: #000000\">: </span><span style=\"color: #008000; text-decoration-color: #008000\">'Megan pays $16 for a shirt that costs $22 before sales. What is the amount of the </span>\n",
       "<span style=\"color: #008000; text-decoration-color: #008000\">discount?'</span><span style=\"color: #000000; text-decoration-color: #000000\">, </span><span style=\"color: #008000; text-decoration-color: #008000\">'gold_reasoning'</span><span style=\"color: #000000; text-decoration-color: #000000\">: </span><span style=\"color: #008000; text-decoration-color: #008000\">'Let x be the amount of the discount. We have, 22 - x = $16 We change the writing of </span>\n",
       "<span style=\"color: #008000; text-decoration-color: #008000\">the equation: 22 - x + x = 16 + x So, 22 = 16 + x We then Remove 16 from both sides: 22 - 16 = 16 + x - 16 So, 22 -</span>\n",
       "<span style=\"color: #008000; text-decoration-color: #008000\">16 = x So, the amount of the discount is x = $&lt;&lt;6=6&gt;&gt;6.'</span><span style=\"color: #000000; text-decoration-color: #000000\">, </span><span style=\"color: #008000; text-decoration-color: #008000\">'answer'</span><span style=\"color: #000000; text-decoration-color: #000000\">: </span><span style=\"color: #008000; text-decoration-color: #008000\">'6'</span><span style=\"color: #000000; text-decoration-color: #000000; font-weight: bold\">})</span><span style=\"color: #000000; text-decoration-color: #000000\"> </span><span style=\"color: #000000; text-decoration-color: #000000; font-weight: bold\">(</span><span style=\"color: #808000; text-decoration-color: #808000\">input_keys</span><span style=\"color: #000000; text-decoration-color: #000000\">=</span><span style=\"color: #000000; text-decoration-color: #000000; font-weight: bold\">{</span><span style=\"color: #008000; text-decoration-color: #008000\">'question'</span><span style=\"color: #000000; text-decoration-color: #000000; font-weight: bold\">})</span><span style=\"color: #000000; text-decoration-color: #000000\">,</span>\n",
       "<span style=\"color: #000000; text-decoration-color: #000000\">    </span><span style=\"color: #800080; text-decoration-color: #800080; font-weight: bold\">Example</span><span style=\"color: #000000; text-decoration-color: #000000; font-weight: bold\">({</span><span style=\"color: #008000; text-decoration-color: #008000\">'question'</span><span style=\"color: #000000; text-decoration-color: #000000\">: </span><span style=\"color: #008000; text-decoration-color: #008000\">\"Amaya scored 20 marks fewer in Maths than she scored in Arts. She also got 10 marks more </span>\n",
       "<span style=\"color: #008000; text-decoration-color: #008000\">in Social Studies than she got in Music. If she scored 70 in Music and scored 1/10 less in Maths, what's the total </span>\n",
       "<span style=\"color: #008000; text-decoration-color: #008000\">number of marks she scored in all the subjects?\"</span><span style=\"color: #000000; text-decoration-color: #000000\">, </span><span style=\"color: #008000; text-decoration-color: #008000\">'gold_reasoning'</span><span style=\"color: #000000; text-decoration-color: #000000\">: </span><span style=\"color: #008000; text-decoration-color: #008000\">'The total marks Amaya scored more in Music </span>\n",
       "<span style=\"color: #008000; text-decoration-color: #008000\">than in Maths is 1/10 * 70 = &lt;&lt;1/10*70=7&gt;&gt;7 marks. So the total marks she scored in Maths is 70 - 7 = &lt;&lt;70-7=63&gt;&gt;63</span>\n",
       "<span style=\"color: #008000; text-decoration-color: #008000\">marks. If she scored 20 marks fewer in Maths than in Arts, then he scored 63 + 20 = &lt;&lt;63+20=83&gt;&gt;83 in Arts. If she </span>\n",
       "<span style=\"color: #008000; text-decoration-color: #008000\">scored 10 marks more in Social Studies than in Music, then she scored 70 + 10 = &lt;&lt;10+70=80&gt;&gt;80 marks in Social </span>\n",
       "<span style=\"color: #008000; text-decoration-color: #008000\">Studies. The total number of marks for all the subjects is 70 + 63 + 83 + 80 = &lt;&lt;70+63+83+80=296&gt;&gt;296 marks.'</span>, \n",
       "<span style=\"color: #008000; text-decoration-color: #008000\">'answer'</span>: <span style=\"color: #008000; text-decoration-color: #008000\">'296'</span><span style=\"font-weight: bold\">})</span> <span style=\"font-weight: bold\">(</span><span style=\"color: #808000; text-decoration-color: #808000\">input_keys</span>=<span style=\"font-weight: bold\">{</span><span style=\"color: #008000; text-decoration-color: #008000\">'question'</span><span style=\"font-weight: bold\">})</span>\n",
       "<span style=\"font-weight: bold\">]</span>\n",
       "</pre>\n"
      ],
      "text/plain": [
       "\u001b[1m[\u001b[0m\n",
       "    \u001b[1;35mExample\u001b[0m\u001b[1m(\u001b[0m\u001b[1m{\u001b[0m\u001b[32m'question'\u001b[0m: \u001b[32m\"The result from the 40-item Statistics exam Marion and Ella took already came out. Ella \u001b[0m\n",
       "\u001b[32mgot 4 incorrect answers while Marion got 6 more than half the score of Ella. What is Marion's score?\"\u001b[0m, \n",
       "\u001b[32m'gold_reasoning'\u001b[0m: \u001b[32m\"Ella's score is 40 items - 4 items = \u001b[0m\u001b[32m<\u001b[0m\u001b[32m<40-\u001b[0m\u001b[32m4\u001b[0m\u001b[32m=\u001b[0m\u001b[32m36\u001b[0m\u001b[32m>>36 items. Half of Ella's score is 36 items / 2 =\u001b[0m\n",
       "\u001b[32m<<36/\u001b[0m\u001b[32m2\u001b[0m\u001b[32m=\u001b[0m\u001b[32m18\u001b[0m\u001b[32m>>18 items. So, Marion's score is 18 items + 6 items = <<18+\u001b[0m\u001b[32m6\u001b[0m\u001b[32m=\u001b[0m\u001b[32m24\u001b[0m\u001b[32m>>24 items.\"\u001b[0m\u001b[39m, \u001b[0m\u001b[32m'answer'\u001b[0m\u001b[39m: \u001b[0m\u001b[32m'24'\u001b[0m\u001b[1;39m}\u001b[0m\u001b[1;39m)\u001b[0m\u001b[39m \u001b[0m\n",
       "\u001b[1;39m(\u001b[0m\u001b[33minput_keys\u001b[0m\u001b[39m=\u001b[0m\u001b[1;39m{\u001b[0m\u001b[32m'question'\u001b[0m\u001b[1;39m}\u001b[0m\u001b[1;39m)\u001b[0m\u001b[39m,\u001b[0m\n",
       "\u001b[39m    \u001b[0m\u001b[1;35mExample\u001b[0m\u001b[1;39m(\u001b[0m\u001b[1;39m{\u001b[0m\u001b[32m'question'\u001b[0m\u001b[39m: \u001b[0m\u001b[32m\"Stephen made 10 round trips up and down a 40,000 foot tall mountain. If he reached 3/4 of\u001b[0m\n",
       "\u001b[32mthe mountain's height on each of his trips, calculate the total distance he covered.\"\u001b[0m\u001b[39m, \u001b[0m\u001b[32m'gold_reasoning'\u001b[0m\u001b[39m: \u001b[0m\u001b[32m'Up a \u001b[0m\n",
       "\u001b[32mmountain, Stephen covered 3/4*40000 = <<3/4*\u001b[0m\u001b[32m40000\u001b[0m\u001b[32m=\u001b[0m\u001b[32m30000\u001b[0m\u001b[32m>>30000 feet. Coming down, Stephen covered another 30000 \u001b[0m\n",
       "\u001b[32mfeet, making the total distance covered in one round to be 30000+30000 = <<30000+\u001b[0m\u001b[32m30000\u001b[0m\u001b[32m=\u001b[0m\u001b[32m60000\u001b[0m\u001b[32m>>60000. Since Stephen \u001b[0m\n",
       "\u001b[32mmade 10 round trips up and down the mountain, he covered 10*60000 = <<10*\u001b[0m\u001b[32m60000\u001b[0m\u001b[32m=\u001b[0m\u001b[32m600000\u001b[0m\u001b[32m>>600000'\u001b[0m\u001b[39m, \u001b[0m\u001b[32m'answer'\u001b[0m\u001b[39m: \u001b[0m\n",
       "\u001b[32m'600000'\u001b[0m\u001b[1;39m}\u001b[0m\u001b[1;39m)\u001b[0m\u001b[39m \u001b[0m\u001b[1;39m(\u001b[0m\u001b[33minput_keys\u001b[0m\u001b[39m=\u001b[0m\u001b[1;39m{\u001b[0m\u001b[32m'question'\u001b[0m\u001b[1;39m}\u001b[0m\u001b[1;39m)\u001b[0m\u001b[39m,\u001b[0m\n",
       "\u001b[39m    \u001b[0m\u001b[1;35mExample\u001b[0m\u001b[1;39m(\u001b[0m\u001b[1;39m{\u001b[0m\u001b[32m'question'\u001b[0m\u001b[39m: \u001b[0m\u001b[32m'Bridget counted 14 shooting stars in the night sky.  Reginald counted two fewer shooting \u001b[0m\n",
       "\u001b[32mstars than did Bridget, but Sam counted four more shooting stars than did Reginald.  How many more shooting stars \u001b[0m\n",
       "\u001b[32mdid Sam count in the night sky than was the average number of shooting stars observed for the three of them?'\u001b[0m\u001b[39m, \u001b[0m\n",
       "\u001b[32m'gold_reasoning'\u001b[0m\u001b[39m: \u001b[0m\u001b[32m'Reginald counted two fewer shooting stars than did Bridget, or a total of 14-\u001b[0m\u001b[32m2\u001b[0m\u001b[32m=<<14-\u001b[0m\u001b[32m2\u001b[0m\u001b[32m=\u001b[0m\u001b[32m12\u001b[0m\u001b[32m>>12 \u001b[0m\n",
       "\u001b[32mshooting stars. Sam counted 4 more shooting stars than did Reginald, or a total of 12+\u001b[0m\u001b[32m4\u001b[0m\u001b[32m=\u001b[0m\u001b[32m16\u001b[0m\u001b[32m shooting stars. The \u001b[0m\n",
       "\u001b[32maverage number of shooting stars observed for the three of them was \u001b[0m\u001b[32m(\u001b[0m\u001b[32m14+12+16\u001b[0m\u001b[32m)\u001b[0m\u001b[32m/3 = <<\u001b[0m\u001b[32m14\u001b[0m\u001b[32m=\u001b[0m\u001b[32m14\u001b[0m\u001b[32m>>14 shooting stars. \u001b[0m\n",
       "\u001b[32mThus, Sam counted 16-\u001b[0m\u001b[32m14\u001b[0m\u001b[32m=\u001b[0m\u001b[32m2\u001b[0m\u001b[32m more shooting stars than was the average number of shooting stars observed for the three \u001b[0m\n",
       "\u001b[32mof them.'\u001b[0m\u001b[39m, \u001b[0m\u001b[32m'answer'\u001b[0m\u001b[39m: \u001b[0m\u001b[32m'2'\u001b[0m\u001b[1;39m}\u001b[0m\u001b[1;39m)\u001b[0m\u001b[39m \u001b[0m\u001b[1;39m(\u001b[0m\u001b[33minput_keys\u001b[0m\u001b[39m=\u001b[0m\u001b[1;39m{\u001b[0m\u001b[32m'question'\u001b[0m\u001b[1;39m}\u001b[0m\u001b[1;39m)\u001b[0m\u001b[39m,\u001b[0m\n",
       "\u001b[39m    \u001b[0m\u001b[1;35mExample\u001b[0m\u001b[1;39m(\u001b[0m\u001b[1;39m{\u001b[0m\u001b[32m'question'\u001b[0m\u001b[39m: \u001b[0m\u001b[32m'Sarah buys 20 pencils on Monday. Then she buys 18 more pencils on Tuesday. On Wednesday \u001b[0m\n",
       "\u001b[32mshe buys triple the number of pencils she did on Tuesday. How many pencils does she have?'\u001b[0m\u001b[39m, \u001b[0m\u001b[32m'gold_reasoning'\u001b[0m\u001b[39m: \u001b[0m\u001b[32m'By \u001b[0m\n",
       "\u001b[32madding together Monday and Tuesday, Saah has 20+\u001b[0m\u001b[32m18\u001b[0m\u001b[32m= <<20+\u001b[0m\u001b[32m18\u001b[0m\u001b[32m=\u001b[0m\u001b[32m38\u001b[0m\u001b[32m>>38 pencils On Wednesday, she buys 3 * \u001b[0m\u001b[32m18\u001b[0m\u001b[32m= \u001b[0m\n",
       "\u001b[32m<<3*\u001b[0m\u001b[32m18\u001b[0m\u001b[32m=\u001b[0m\u001b[32m54\u001b[0m\u001b[32m>>54 pencils All together, Sarah has 38+\u001b[0m\u001b[32m54\u001b[0m\u001b[32m= <<38+\u001b[0m\u001b[32m54\u001b[0m\u001b[32m=\u001b[0m\u001b[32m92\u001b[0m\u001b[32m>>92 pencils'\u001b[0m\u001b[39m, \u001b[0m\u001b[32m'answer'\u001b[0m\u001b[39m: \u001b[0m\u001b[32m'92'\u001b[0m\u001b[1;39m}\u001b[0m\u001b[1;39m)\u001b[0m\u001b[39m \u001b[0m\n",
       "\u001b[1;39m(\u001b[0m\u001b[33minput_keys\u001b[0m\u001b[39m=\u001b[0m\u001b[1;39m{\u001b[0m\u001b[32m'question'\u001b[0m\u001b[1;39m}\u001b[0m\u001b[1;39m)\u001b[0m\u001b[39m,\u001b[0m\n",
       "\u001b[39m    \u001b[0m\u001b[1;35mExample\u001b[0m\u001b[1;39m(\u001b[0m\u001b[1;39m{\u001b[0m\u001b[32m'question'\u001b[0m\u001b[39m: \u001b[0m\u001b[32m'Rookie police officers have to buy duty shoes at the full price of $85, but officers who \u001b[0m\n",
       "\u001b[32mhave served at least a year get a 20% discount. Officers who have served at least three years get an additional 25%\u001b[0m\n",
       "\u001b[32moff the discounted price. How much does an officer who has served at least three years have to pay for shoes?'\u001b[0m\u001b[39m, \u001b[0m\n",
       "\u001b[32m'gold_reasoning'\u001b[0m\u001b[39m: \u001b[0m\u001b[32m'Cops that served a year pay $85 * 0.2 = $<<85*0.\u001b[0m\u001b[32m2\u001b[0m\u001b[32m=\u001b[0m\u001b[32m17\u001b[0m\u001b[32m>>17 less. Cops that served a year pay $85 -\u001b[0m\n",
       "\u001b[32m$17 = $<<85-\u001b[0m\u001b[32m17\u001b[0m\u001b[32m=\u001b[0m\u001b[32m68\u001b[0m\u001b[32m>>68. Cops that served at least 3 years get a $68 * 0.25 = $<<68*0.\u001b[0m\u001b[32m25\u001b[0m\u001b[32m=\u001b[0m\u001b[32m17\u001b[0m\u001b[32m>>17 discount. Cops that \u001b[0m\n",
       "\u001b[32mserved at least 3 years pay $68 - $17 = $<<68-\u001b[0m\u001b[32m17\u001b[0m\u001b[32m=\u001b[0m\u001b[32m51\u001b[0m\u001b[32m>>51 for shoes.'\u001b[0m\u001b[39m, \u001b[0m\u001b[32m'answer'\u001b[0m\u001b[39m: \u001b[0m\u001b[32m'51'\u001b[0m\u001b[1;39m}\u001b[0m\u001b[1;39m)\u001b[0m\u001b[39m \u001b[0m\u001b[1;39m(\u001b[0m\u001b[33minput_keys\u001b[0m\u001b[39m=\u001b[0m\u001b[1;39m{\u001b[0m\u001b[32m'question'\u001b[0m\u001b[1;39m}\u001b[0m\u001b[1;39m)\u001b[0m\u001b[39m,\u001b[0m\n",
       "\u001b[39m    \u001b[0m\u001b[1;35mExample\u001b[0m\u001b[1;39m(\u001b[0m\u001b[1;39m{\u001b[0m\u001b[32m'question'\u001b[0m\u001b[39m: \u001b[0m\u001b[32m\"The average score on last week's Spanish test was 90.  Marco scored 10% less than the \u001b[0m\n",
       "\u001b[32maverage test score and Margaret received 5 more points than Marco.  What score did Margaret receive on her test?\"\u001b[0m\u001b[39m, \u001b[0m\n",
       "\u001b[32m'gold_reasoning'\u001b[0m\u001b[39m: \u001b[0m\u001b[32m'The average test score was 90 and Marco scored 10% less so 90*.10 = <<90*.\u001b[0m\u001b[32m10\u001b[0m\u001b[32m=\u001b[0m\u001b[32m9\u001b[0m\u001b[32m>>9 points lower \u001b[0m\n",
       "\u001b[32mThe average test score was 90 and Marco scored 9 points less so his test score was 90-9 = <<90-\u001b[0m\u001b[32m9\u001b[0m\u001b[32m=\u001b[0m\u001b[32m81\u001b[0m\u001b[32m>>81 Margret \u001b[0m\n",
       "\u001b[32mreceived 5 more points than Marco whose test score was 81 so she made 5+81 = <<5+\u001b[0m\u001b[32m81\u001b[0m\u001b[32m=\u001b[0m\u001b[32m86\u001b[0m\u001b[32m>>86 on her test'\u001b[0m\u001b[39m, \u001b[0m\u001b[32m'answer'\u001b[0m\u001b[39m: \u001b[0m\n",
       "\u001b[32m'86'\u001b[0m\u001b[1;39m}\u001b[0m\u001b[1;39m)\u001b[0m\u001b[39m \u001b[0m\u001b[1;39m(\u001b[0m\u001b[33minput_keys\u001b[0m\u001b[39m=\u001b[0m\u001b[1;39m{\u001b[0m\u001b[32m'question'\u001b[0m\u001b[1;39m}\u001b[0m\u001b[1;39m)\u001b[0m\u001b[39m,\u001b[0m\n",
       "\u001b[39m    \u001b[0m\u001b[1;35mExample\u001b[0m\u001b[1;39m(\u001b[0m\u001b[1;39m{\u001b[0m\u001b[32m'question'\u001b[0m\u001b[39m: \u001b[0m\u001b[32m'A third of the contestants at a singing competition are female, and the rest are male. If\u001b[0m\n",
       "\u001b[32mthere are 18 contestants in total, how many of them are male?'\u001b[0m\u001b[39m, \u001b[0m\u001b[32m'gold_reasoning'\u001b[0m\u001b[39m: \u001b[0m\u001b[32m'There are 18/3 = <<18/\u001b[0m\u001b[32m3\u001b[0m\u001b[32m=\u001b[0m\u001b[32m6\u001b[0m\u001b[32m>>6 \u001b[0m\n",
       "\u001b[32mfemale contestants. There are 18-6 = <<18-\u001b[0m\u001b[32m6\u001b[0m\u001b[32m=\u001b[0m\u001b[32m12\u001b[0m\u001b[32m>>12 male contestants.'\u001b[0m\u001b[39m, \u001b[0m\u001b[32m'answer'\u001b[0m\u001b[39m: \u001b[0m\u001b[32m'12'\u001b[0m\u001b[1;39m}\u001b[0m\u001b[1;39m)\u001b[0m\u001b[39m \u001b[0m\u001b[1;39m(\u001b[0m\u001b[33minput_keys\u001b[0m\u001b[39m=\u001b[0m\u001b[1;39m{\u001b[0m\u001b[32m'question'\u001b[0m\u001b[1;39m}\u001b[0m\u001b[1;39m)\u001b[0m\u001b[39m,\u001b[0m\n",
       "\u001b[39m    \u001b[0m\u001b[1;35mExample\u001b[0m\u001b[1;39m(\u001b[0m\u001b[1;39m{\u001b[0m\u001b[32m'question'\u001b[0m\u001b[39m: \u001b[0m\u001b[32m'Nancy bought a pie sliced it into 8 pieces. She gave 1/2 to Joe and Darcy, and she gave \u001b[0m\n",
       "\u001b[32m1/4 to Carl. How many slices were left?'\u001b[0m\u001b[39m, \u001b[0m\u001b[32m'gold_reasoning'\u001b[0m\u001b[39m: \u001b[0m\u001b[32m'The total number of slices she gave to Joe and Darcy \u001b[0m\n",
       "\u001b[32mis 1/2 x 8 = <<1/2*\u001b[0m\u001b[32m8\u001b[0m\u001b[32m=\u001b[0m\u001b[32m4\u001b[0m\u001b[32m>>4. The total slice she gave to Carl is 1/4 x 8 = <<1/4*\u001b[0m\u001b[32m8\u001b[0m\u001b[32m=\u001b[0m\u001b[32m2\u001b[0m\u001b[32m>>2. Therefore, the total slices \u001b[0m\n",
       "\u001b[32mleft is 8 - 4 - 2 = <<8-4-\u001b[0m\u001b[32m2\u001b[0m\u001b[32m=\u001b[0m\u001b[32m2\u001b[0m\u001b[32m>>2.'\u001b[0m\u001b[39m, \u001b[0m\u001b[32m'answer'\u001b[0m\u001b[39m: \u001b[0m\u001b[32m'2'\u001b[0m\u001b[1;39m}\u001b[0m\u001b[1;39m)\u001b[0m\u001b[39m \u001b[0m\u001b[1;39m(\u001b[0m\u001b[33minput_keys\u001b[0m\u001b[39m=\u001b[0m\u001b[1;39m{\u001b[0m\u001b[32m'question'\u001b[0m\u001b[1;39m}\u001b[0m\u001b[1;39m)\u001b[0m\u001b[39m,\u001b[0m\n",
       "\u001b[39m    \u001b[0m\u001b[1;35mExample\u001b[0m\u001b[1;39m(\u001b[0m\u001b[1;39m{\u001b[0m\u001b[32m'question'\u001b[0m\u001b[39m: \u001b[0m\u001b[32m'Megan pays $16 for a shirt that costs $22 before sales. What is the amount of the \u001b[0m\n",
       "\u001b[32mdiscount?'\u001b[0m\u001b[39m, \u001b[0m\u001b[32m'gold_reasoning'\u001b[0m\u001b[39m: \u001b[0m\u001b[32m'Let x be the amount of the discount. We have, 22 - x = $16 We change the writing of \u001b[0m\n",
       "\u001b[32mthe equation: 22 - x + x = 16 + x So, 22 = 16 + x We then Remove 16 from both sides: 22 - 16 = 16 + x - 16 So, 22 -\u001b[0m\n",
       "\u001b[32m16 = x So, the amount of the discount is x = $<<\u001b[0m\u001b[32m6\u001b[0m\u001b[32m=\u001b[0m\u001b[32m6\u001b[0m\u001b[32m>>6.'\u001b[0m\u001b[39m, \u001b[0m\u001b[32m'answer'\u001b[0m\u001b[39m: \u001b[0m\u001b[32m'6'\u001b[0m\u001b[1;39m}\u001b[0m\u001b[1;39m)\u001b[0m\u001b[39m \u001b[0m\u001b[1;39m(\u001b[0m\u001b[33minput_keys\u001b[0m\u001b[39m=\u001b[0m\u001b[1;39m{\u001b[0m\u001b[32m'question'\u001b[0m\u001b[1;39m}\u001b[0m\u001b[1;39m)\u001b[0m\u001b[39m,\u001b[0m\n",
       "\u001b[39m    \u001b[0m\u001b[1;35mExample\u001b[0m\u001b[1;39m(\u001b[0m\u001b[1;39m{\u001b[0m\u001b[32m'question'\u001b[0m\u001b[39m: \u001b[0m\u001b[32m\"Amaya scored 20 marks fewer in Maths than she scored in Arts. She also got 10 marks more \u001b[0m\n",
       "\u001b[32min Social Studies than she got in Music. If she scored 70 in Music and scored 1/10 less in Maths, what's the total \u001b[0m\n",
       "\u001b[32mnumber of marks she scored in all the subjects?\"\u001b[0m\u001b[39m, \u001b[0m\u001b[32m'gold_reasoning'\u001b[0m\u001b[39m: \u001b[0m\u001b[32m'The total marks Amaya scored more in Music \u001b[0m\n",
       "\u001b[32mthan in Maths is 1/10 * 70 = <<1/10*\u001b[0m\u001b[32m70\u001b[0m\u001b[32m=\u001b[0m\u001b[32m7\u001b[0m\u001b[32m>>7 marks. So the total marks she scored in Maths is 70 - 7 = <<70-\u001b[0m\u001b[32m7\u001b[0m\u001b[32m=\u001b[0m\u001b[32m63\u001b[0m\u001b[32m>>63\u001b[0m\n",
       "\u001b[32mmarks. If she scored 20 marks fewer in Maths than in Arts, then he scored 63 + 20 = <<63+\u001b[0m\u001b[32m20\u001b[0m\u001b[32m=\u001b[0m\u001b[32m83\u001b[0m\u001b[32m>>83 in Arts. If she \u001b[0m\n",
       "\u001b[32mscored 10 marks more in Social Studies than in Music, then she scored 70 + 10 = <<10+\u001b[0m\u001b[32m70\u001b[0m\u001b[32m=\u001b[0m\u001b[32m80\u001b[0m\u001b[32m>>80 marks in Social \u001b[0m\n",
       "\u001b[32mStudies. The total number of marks for all the subjects is 70 + 63 + 83 + 80 = <<70+63+83+\u001b[0m\u001b[32m80\u001b[0m\u001b[32m=\u001b[0m\u001b[32m296\u001b[0m\u001b[32m>\u001b[0m\u001b[32m>\u001b[0m\u001b[32m296 marks.'\u001b[0m, \n",
       "\u001b[32m'answer'\u001b[0m: \u001b[32m'296'\u001b[0m\u001b[1m}\u001b[0m\u001b[1m)\u001b[0m \u001b[1m(\u001b[0m\u001b[33minput_keys\u001b[0m=\u001b[1m{\u001b[0m\u001b[32m'question'\u001b[0m\u001b[1m}\u001b[0m\u001b[1m)\u001b[0m\n",
       "\u001b[1m]\u001b[0m\n"
      ]
     },
     "metadata": {},
     "output_type": "display_data"
    }
   ],
   "source": [
    "gsm8k = GSM8K()\n",
    "\n",
    "train_gsm8k, dev_gsm8k = gsm8k.train[:10], gsm8k.dev[:10]\n",
    "\n",
    "print(train_gsm8k)\n"
   ]
  },
  {
   "cell_type": "code",
   "execution_count": 7,
   "metadata": {},
   "outputs": [
    {
     "data": {
      "text/html": [
       "<pre style=\"white-space:pre;overflow-x:auto;line-height:normal;font-family:Menlo,'DejaVu Sans Mono',consolas,'Courier New',monospace\"><span style=\"color: #800080; text-decoration-color: #800080; font-weight: bold\">Example</span><span style=\"font-weight: bold\">({</span><span style=\"color: #008000; text-decoration-color: #008000\">'question'</span>: <span style=\"color: #008000; text-decoration-color: #008000\">\"The result from the 40-item Statistics exam Marion and Ella took already came out. Ella got 4</span>\n",
       "<span style=\"color: #008000; text-decoration-color: #008000\">incorrect answers while Marion got 6 more than half the score of Ella. What is Marion's score?\"</span>, <span style=\"color: #008000; text-decoration-color: #008000\">'gold_reasoning'</span>: \n",
       "<span style=\"color: #008000; text-decoration-color: #008000\">\"Ella's score is 40 items - 4 items = &lt;&lt;40-4=36&gt;&gt;36 items. Half of Ella's score is 36 items / 2 = &lt;&lt;36/2=18&gt;&gt;18 </span>\n",
       "<span style=\"color: #008000; text-decoration-color: #008000\">items. So, Marion's score is 18 items + 6 items = &lt;&lt;18+6=24&gt;&gt;24 items.\"</span>, <span style=\"color: #008000; text-decoration-color: #008000\">'answer'</span>: <span style=\"color: #008000; text-decoration-color: #008000\">'24'</span><span style=\"font-weight: bold\">})</span> <span style=\"font-weight: bold\">(</span><span style=\"color: #808000; text-decoration-color: #808000\">input_keys</span>=<span style=\"font-weight: bold\">{</span><span style=\"color: #008000; text-decoration-color: #008000\">'question'</span><span style=\"font-weight: bold\">})</span>\n",
       "</pre>\n"
      ],
      "text/plain": [
       "\u001b[1;35mExample\u001b[0m\u001b[1m(\u001b[0m\u001b[1m{\u001b[0m\u001b[32m'question'\u001b[0m: \u001b[32m\"The result from the 40-item Statistics exam Marion and Ella took already came out. Ella got 4\u001b[0m\n",
       "\u001b[32mincorrect answers while Marion got 6 more than half the score of Ella. What is Marion's score?\"\u001b[0m, \u001b[32m'gold_reasoning'\u001b[0m: \n",
       "\u001b[32m\"Ella's score is 40 items - 4 items = \u001b[0m\u001b[32m<\u001b[0m\u001b[32m<40-\u001b[0m\u001b[32m4\u001b[0m\u001b[32m=\u001b[0m\u001b[32m36\u001b[0m\u001b[32m>>36 items. Half of Ella's score is 36 items / 2 = <<36/\u001b[0m\u001b[32m2\u001b[0m\u001b[32m=\u001b[0m\u001b[32m18\u001b[0m\u001b[32m>>18 \u001b[0m\n",
       "\u001b[32mitems. So, Marion's score is 18 items + 6 items = <<18+\u001b[0m\u001b[32m6\u001b[0m\u001b[32m=\u001b[0m\u001b[32m24\u001b[0m\u001b[32m>\u001b[0m\u001b[32m>\u001b[0m\u001b[32m24 items.\"\u001b[0m, \u001b[32m'answer'\u001b[0m: \u001b[32m'24'\u001b[0m\u001b[1m}\u001b[0m\u001b[1m)\u001b[0m \u001b[1m(\u001b[0m\u001b[33minput_keys\u001b[0m=\u001b[1m{\u001b[0m\u001b[32m'question'\u001b[0m\u001b[1m}\u001b[0m\u001b[1m)\u001b[0m\n"
      ]
     },
     "metadata": {},
     "output_type": "display_data"
    }
   ],
   "source": [
    "print(train_gsm8k[0])"
   ]
  },
  {
   "cell_type": "markdown",
   "metadata": {},
   "source": [
    "### Define the modules\n"
   ]
  },
  {
   "cell_type": "code",
   "execution_count": 8,
   "metadata": {},
   "outputs": [],
   "source": [
    "class CoT(ds.Module):\n",
    "    def __init__(self):\n",
    "        super().__init__()\n",
    "        self.prog = ds.ChainOfThought(\"question -> answer\")\n",
    "\n",
    "    def forward(self, question):\n",
    "        return self.prog(question=question)"
   ]
  },
  {
   "cell_type": "code",
   "execution_count": 9,
   "metadata": {},
   "outputs": [
    {
     "name": "stderr",
     "output_type": "stream",
     "text": [
      " 50%|█████     | 5/10 [00:00<00:00, 37.59it/s]\n"
     ]
    },
    {
     "name": "stdout",
     "output_type": "stream",
     "text": [
      "Bootstrapped 4 full traces after 6 examples in round 0.\n"
     ]
    }
   ],
   "source": [
    "teleprompter = BootstrapFewShot(\n",
    "    metric=gsm8k_metric, max_bootstrapped_demos=4, max_labeled_demos=4\n",
    ")\n",
    "\n",
    "optimized_cot = teleprompter.compile(CoT(), trainset=train_gsm8k, valset=dev_gsm8k)\n"
   ]
  },
  {
   "cell_type": "code",
   "execution_count": 10,
   "metadata": {},
   "outputs": [
    {
     "data": {
      "text/html": [
       "<pre style=\"white-space:pre;overflow-x:auto;line-height:normal;font-family:Menlo,'DejaVu Sans Mono',consolas,'Courier New',monospace\"></pre>\n"
      ],
      "text/plain": []
     },
     "metadata": {},
     "output_type": "display_data"
    },
    {
     "data": {
      "text/plain": [
       "\n",
       "\u001b[1;35mPrediction\u001b[0m\u001b[1m(\u001b[0m\n",
       "    \u001b[33mrationale\u001b[0m=\u001b[32m'find the answer. First, we know that the country is France. Then, we know that the capital is the most important city in a country. Therefore, the capital of France is Paris.'\u001b[0m,\n",
       "    \u001b[33manswer\u001b[0m=\u001b[32m'Paris'\u001b[0m\n",
       "\u001b[1m)\u001b[0m"
      ]
     },
     "execution_count": 10,
     "metadata": {},
     "output_type": "execute_result"
    }
   ],
   "source": [
    "optimized_cot(question=\"What is the capital of France?\")"
   ]
  },
  {
   "cell_type": "code",
   "execution_count": 11,
   "metadata": {},
   "outputs": [],
   "source": [
    "evalute = Evaluate(\n",
    "    devset=dev_gsm8k,\n",
    "    metric=gsm8k_metric,\n",
    "    num_threads=4,\n",
    "    display_progress=True,\n",
    "    display_table=1,\n",
    ")"
   ]
  },
  {
   "cell_type": "code",
   "execution_count": 12,
   "metadata": {},
   "outputs": [
    {
     "name": "stderr",
     "output_type": "stream",
     "text": [
      "Average Metric: 9 / 10  (90.0): 100%|██████████| 10/10 [00:00<00:00, 104.17it/s]\n"
     ]
    },
    {
     "name": "stdout",
     "output_type": "stream",
     "text": [
      "Average Metric: 9 / 10  (90.0%)\n"
     ]
    },
    {
     "name": "stderr",
     "output_type": "stream",
     "text": [
      "e:\\Projects\\langchain_rag\\venv\\lib\\site-packages\\dspy\\evaluate\\evaluate.py:266: FutureWarning: Setting an item of incompatible dtype is deprecated and will raise in a future error of pandas. Value '['✔️ [True]']' has dtype incompatible with bool, please explicitly cast to a compatible dtype first.\n",
      "  df.loc[:, metric_name] = df[metric_name].apply(\n"
     ]
    },
    {
     "data": {
      "text/html": [
       "<pre style=\"white-space:pre;overflow-x:auto;line-height:normal;font-family:Menlo,'DejaVu Sans Mono',consolas,'Courier New',monospace\"></pre>\n"
      ],
      "text/plain": []
     },
     "metadata": {},
     "output_type": "display_data"
    },
    {
     "data": {
      "text/html": [
       "<style type=\"text/css\">\n",
       "#T_d47c3 th {\n",
       "  text-align: left;\n",
       "}\n",
       "#T_d47c3 td {\n",
       "  text-align: left;\n",
       "}\n",
       "#T_d47c3_row0_col0, #T_d47c3_row0_col1, #T_d47c3_row0_col2, #T_d47c3_row0_col3, #T_d47c3_row0_col4, #T_d47c3_row0_col5 {\n",
       "  text-align: left;\n",
       "  white-space: pre-wrap;\n",
       "  word-wrap: break-word;\n",
       "  max-width: 400px;\n",
       "}\n",
       "</style>\n",
       "<table id=\"T_d47c3\">\n",
       "  <thead>\n",
       "    <tr>\n",
       "      <th class=\"blank level0\" >&nbsp;</th>\n",
       "      <th id=\"T_d47c3_level0_col0\" class=\"col_heading level0 col0\" >question</th>\n",
       "      <th id=\"T_d47c3_level0_col1\" class=\"col_heading level0 col1\" >gold_reasoning</th>\n",
       "      <th id=\"T_d47c3_level0_col2\" class=\"col_heading level0 col2\" >example_answer</th>\n",
       "      <th id=\"T_d47c3_level0_col3\" class=\"col_heading level0 col3\" >rationale</th>\n",
       "      <th id=\"T_d47c3_level0_col4\" class=\"col_heading level0 col4\" >pred_answer</th>\n",
       "      <th id=\"T_d47c3_level0_col5\" class=\"col_heading level0 col5\" >gsm8k_metric</th>\n",
       "    </tr>\n",
       "  </thead>\n",
       "  <tbody>\n",
       "    <tr>\n",
       "      <th id=\"T_d47c3_level0_row0\" class=\"row_heading level0 row0\" >0</th>\n",
       "      <td id=\"T_d47c3_row0_col0\" class=\"data row0 col0\" >20 birds migrate on a seasonal basis from one lake to another, searching for food. If they fly from lake Jim to lake Disney in...</td>\n",
       "      <td id=\"T_d47c3_row0_col1\" class=\"data row0 col1\" >The birds' flying distance between Lake Jim through lake Disney to lake London is 50+60 = <<50+60=110>>110 miles. Since each bird flies the 110 miles...</td>\n",
       "      <td id=\"T_d47c3_row0_col2\" class=\"data row0 col2\" >2200</td>\n",
       "      <td id=\"T_d47c3_row0_col3\" class=\"data row0 col3\" >calculate the combined distance traveled by the birds. First, we know that the birds flew 50 miles from lake Jim to lake Disney and then...</td>\n",
       "      <td id=\"T_d47c3_row0_col4\" class=\"data row0 col4\" >2200 miles</td>\n",
       "      <td id=\"T_d47c3_row0_col5\" class=\"data row0 col5\" >✔️ [True]</td>\n",
       "    </tr>\n",
       "  </tbody>\n",
       "</table>\n"
      ],
      "text/plain": [
       "\u001b[1m<\u001b[0m\u001b[1;95mpandas.io.formats.style.Styler\u001b[0m\u001b[39m object at \u001b[0m\u001b[1;36m0x0000023C783756F0\u001b[0m\u001b[1m>\u001b[0m"
      ]
     },
     "metadata": {},
     "output_type": "display_data"
    },
    {
     "data": {
      "text/html": [
       "<pre style=\"white-space:pre;overflow-x:auto;line-height:normal;font-family:Menlo,'DejaVu Sans Mono',consolas,'Courier New',monospace\"></pre>\n"
      ],
      "text/plain": []
     },
     "metadata": {},
     "output_type": "display_data"
    },
    {
     "data": {
      "text/html": [
       "\n",
       "                <div style='\n",
       "                    text-align: center;\n",
       "                    font-size: 16px;\n",
       "                    font-weight: bold;\n",
       "                    color: #555;\n",
       "                    margin: 10px 0;'>\n",
       "                    ... 9 more rows not displayed ...\n",
       "                </div>\n",
       "                "
      ],
      "text/plain": [
       "\u001b[1m<\u001b[0m\u001b[1;95mIPython.core.display.HTML\u001b[0m\u001b[39m object\u001b[0m\u001b[1m>\u001b[0m"
      ]
     },
     "metadata": {},
     "output_type": "display_data"
    },
    {
     "data": {
      "text/html": [
       "<pre style=\"white-space:pre;overflow-x:auto;line-height:normal;font-family:Menlo,'DejaVu Sans Mono',consolas,'Courier New',monospace\"></pre>\n"
      ],
      "text/plain": []
     },
     "metadata": {},
     "output_type": "display_data"
    },
    {
     "data": {
      "text/plain": [
       "\u001b[1;36m90.0\u001b[0m"
      ]
     },
     "execution_count": 12,
     "metadata": {},
     "output_type": "execute_result"
    }
   ],
   "source": [
    "evalute(optimized_cot)"
   ]
  },
  {
   "cell_type": "code",
   "execution_count": 13,
   "metadata": {},
   "outputs": [
    {
     "name": "stdout",
     "output_type": "stream",
     "text": [
      "\n",
      "\n",
      "\n",
      "Given the fields `question`, produce the fields `answer`.\n",
      "\n",
      "---\n",
      "\n",
      "Follow the following format.\n",
      "\n",
      "Question: ${question}\n",
      "Reasoning: Let's think step by step in order to ${produce the answer}. We ...\n",
      "Answer: ${answer}\n",
      "\n",
      "---\n",
      "\n",
      "Question: The result from the 40-item Statistics exam Marion and Ella took already came out. Ella got 4 incorrect answers while Marion got 6 more than half the score of Ella. What is Marion's score?\n",
      "Reasoning: Let's think step by step in order to find Marion's score. We know that Ella got 4 incorrect answers, which means she got 36 correct answers out of 40. We also know that Marion got 6 more than half of Ella's score, which is 6 more than 36/2 = 18. Therefore, Marion's score is 18 + 6 = 24.\n",
      "Answer: 24\n",
      "\n",
      "---\n",
      "\n",
      "Question: Bridget counted 14 shooting stars in the night sky. Reginald counted two fewer shooting stars than did Bridget, but Sam counted four more shooting stars than did Reginald. How many more shooting stars did Sam count in the night sky than was the average number of shooting stars observed for the three of them?\n",
      "Reasoning: Let's think step by step in order to find the answer. First, we know that Bridget counted 14 shooting stars. Then, we know that Reginald counted two fewer than Bridget, so he counted 12 shooting stars. Finally, we know that Sam counted four more than Reginald, so he counted 16 shooting stars. To find the average number of shooting stars, we add up the total number of shooting stars (14 + 12 + 16 = 42) and divide by the number of people (3). This gives us an average of 14 shooting stars per person. Since Sam counted 16 shooting stars, he counted 2 more than the average.\n",
      "Answer: 2\n",
      "\n",
      "---\n",
      "\n",
      "Question: Sarah buys 20 pencils on Monday. Then she buys 18 more pencils on Tuesday. On Wednesday she buys triple the number of pencils she did on Tuesday. How many pencils does she have?\n",
      "Reasoning: Let's think step by step in order to find out how many pencils Sarah has. First, we know that she bought 20 pencils on Monday and 18 more on Tuesday, so she has 20 + 18 = 38 pencils. Then, on Wednesday she bought triple the number of pencils she did on Tuesday, which is 3 * 18 = 54 pencils. Therefore, Sarah has a total of 38 + 54 = 92 pencils.\n",
      "Answer: 92\n",
      "\n",
      "---\n",
      "\n",
      "Question: Rookie police officers have to buy duty shoes at the full price of $85, but officers who have served at least a year get a 20% discount. Officers who have served at least three years get an additional 25% off the discounted price. How much does an officer who has served at least three years have to pay for shoes?\n",
      "Reasoning: Let's think step by step in order to calculate the final price. First, we calculate the discounted price for an officer who has served at least a year. This is 85 * 0.8 = 68. Then, we calculate the additional discount for an officer who has served at least three years. This is 68 * 0.75 = 51. Finally, the officer has to pay this final price of 51.\n",
      "Answer: $51\n",
      "\n",
      "---\n",
      "\n",
      "Question: Martha's cat catches 3 rats and 7 birds. Cara's cat catches 3 less than five times as many animals as Martha's cat. How many animals does Cara's cat catch?\n",
      "Reasoning: Let's think step by step in order to find out how many animals Cara's cat catches. First, we know that Martha's cat catches 3 rats and 7 birds, for a total of 10 animals. Then, we know that Cara's cat catches 3 less than five times as many animals as Martha's cat, which is 5 * 10 - 3 = 47 animals.\n",
      "Answer: 47\n",
      "\n",
      "\n",
      "\n"
     ]
    },
    {
     "data": {
      "text/html": [
       "<pre style=\"white-space:pre;overflow-x:auto;line-height:normal;font-family:Menlo,'DejaVu Sans Mono',consolas,'Courier New',monospace\"></pre>\n"
      ],
      "text/plain": []
     },
     "metadata": {},
     "output_type": "display_data"
    },
    {
     "data": {
      "text/plain": [
       "\u001b[32m\"\\n\\n\\nGiven the fields `question`, produce the fields `answer`.\\n\\n---\\n\\nFollow the following format.\\n\\nQuestion: $\u001b[0m\u001b[32m{\u001b[0m\u001b[32mquestion\u001b[0m\u001b[32m}\u001b[0m\u001b[32m\\nReasoning: Let's think step by step in order to $\u001b[0m\u001b[32m{\u001b[0m\u001b[32mproduce the answer\u001b[0m\u001b[32m}\u001b[0m\u001b[32m. We ...\\nAnswer: $\u001b[0m\u001b[32m{\u001b[0m\u001b[32manswer\u001b[0m\u001b[32m}\u001b[0m\u001b[32m\\n\\n---\\n\\nQuestion: The result from the 40-item Statistics exam Marion and Ella took already came out. Ella got 4 incorrect answers while Marion got 6 more than half the score of Ella. What is Marion's score?\\nReasoning: Let's think step by step in order to find Marion's score. We know that Ella got 4 incorrect answers, which means she got 36 correct answers out of 40. We also know that Marion got 6 more than half of Ella's score, which is 6 more than 36/2 = 18. Therefore, Marion's score is 18 + 6 = 24.\\nAnswer: 24\\n\\n---\\n\\nQuestion: Bridget counted 14 shooting stars in the night sky. Reginald counted two fewer shooting stars than did Bridget, but Sam counted four more shooting stars than did Reginald. How many more shooting stars did Sam count in the night sky than was the average number of shooting stars observed for the three of them?\\nReasoning: Let's think step by step in order to find the answer. First, we know that Bridget counted 14 shooting stars. Then, we know that Reginald counted two fewer than Bridget, so he counted 12 shooting stars. Finally, we know that Sam counted four more than Reginald, so he counted 16 shooting stars. To find the average number of shooting stars, we add up the total number of shooting stars \u001b[0m\u001b[32m(\u001b[0m\u001b[32m14 + 12 + 16 = 42\u001b[0m\u001b[32m)\u001b[0m\u001b[32m and divide by the number of people \u001b[0m\u001b[32m(\u001b[0m\u001b[32m3\u001b[0m\u001b[32m)\u001b[0m\u001b[32m. This gives us an average of 14 shooting stars per person. Since Sam counted 16 shooting stars, he counted 2 more than the average.\\nAnswer: 2\\n\\n---\\n\\nQuestion: Sarah buys 20 pencils on Monday. Then she buys 18 more pencils on Tuesday. On Wednesday she buys triple the number of pencils she did on Tuesday. How many pencils does she have?\\nReasoning: Let's think step by step in order to find out how many pencils Sarah has. First, we know that she bought 20 pencils on Monday and 18 more on Tuesday, so she has 20 + 18 = 38 pencils. Then, on Wednesday she bought triple the number of pencils she did on Tuesday, which is 3 * 18 = 54 pencils. Therefore, Sarah has a total of 38 + 54 = 92 pencils.\\nAnswer: 92\\n\\n---\\n\\nQuestion: Rookie police officers have to buy duty shoes at the full price of $85, but officers who have served at least a year get a 20% discount. Officers who have served at least three years get an additional 25% off the discounted price. How much does an officer who has served at least three years have to pay for shoes?\\nReasoning: Let's think step by step in order to calculate the final price. First, we calculate the discounted price for an officer who has served at least a year. This is 85 * 0.8 = 68. Then, we calculate the additional discount for an officer who has served at least three years. This is 68 * 0.75 = 51. Finally, the officer has to pay this final price of 51.\\nAnswer: $51\\n\\n---\\n\\nQuestion: Martha's cat catches 3 rats and 7 birds. Cara's cat catches 3 less than five times as many animals as Martha's cat. How many animals does Cara's cat catch?\\nReasoning: Let's think step by step in order to\\x1b\u001b[0m\u001b[32m[\u001b[0m\u001b[32m32m find out how many animals Cara's cat catches. First, we know that Martha's cat catches 3 rats and 7 birds, for a total of 10 animals. Then, we know that Cara's cat catches 3 less than five times as many animals as Martha's cat, which is 5 * 10 - 3 = 47 animals.\\nAnswer: 47\\x1b\u001b[0m\u001b[32m[\u001b[0m\u001b[32m0m\\n\\n\\n\"\u001b[0m"
      ]
     },
     "execution_count": 13,
     "metadata": {},
     "output_type": "execute_result"
    }
   ],
   "source": [
    "turbo.inspect_history()"
   ]
  },
  {
   "cell_type": "markdown",
   "metadata": {},
   "source": [
    "## With retrieval module\n"
   ]
  },
  {
   "cell_type": "code",
   "execution_count": 14,
   "metadata": {},
   "outputs": [],
   "source": [
    "turbo = ds.OpenAI(model=\"gpt-3.5-turbo\")\n",
    "colbertv2_wiki17_abstracts = ds.ColBERTv2(\n",
    "    url=\"http://20.102.90.50:2017/wiki17_abstracts\"\n",
    ")\n",
    "\n",
    "ds.settings.configure(lm=turbo, rm=colbertv2_wiki17_abstracts, log_openai_usage=True)\n"
   ]
  },
  {
   "cell_type": "code",
   "execution_count": 15,
   "metadata": {},
   "outputs": [
    {
     "name": "stderr",
     "output_type": "stream",
     "text": [
      "e:\\Projects\\langchain_rag\\venv\\lib\\site-packages\\datasets\\table.py:1421: FutureWarning: promote has been superseded by promote_options='default'.\n",
      "  table = cls._concat_blocks(blocks, axis=0)\n"
     ]
    }
   ],
   "source": [
    "dataset_hpqa = HotPotQA(\n",
    "    train_seed=1, train_size=20, eval_seed=2023, dev_size=50, test_size=0\n",
    ")"
   ]
  },
  {
   "cell_type": "code",
   "execution_count": 16,
   "metadata": {},
   "outputs": [
    {
     "data": {
      "text/html": [
       "<pre style=\"white-space:pre;overflow-x:auto;line-height:normal;font-family:Menlo,'DejaVu Sans Mono',consolas,'Courier New',monospace\"></pre>\n"
      ],
      "text/plain": []
     },
     "metadata": {},
     "output_type": "display_data"
    },
    {
     "data": {
      "text/plain": [
       "\u001b[1m(\u001b[0m\u001b[1;36m20\u001b[0m, \u001b[1;36m50\u001b[0m\u001b[1m)\u001b[0m"
      ]
     },
     "execution_count": 16,
     "metadata": {},
     "output_type": "execute_result"
    }
   ],
   "source": [
    "trainset_hpqa = [x.with_inputs(\"question\") for x in dataset_hpqa.train]\n",
    "devset_hpqa = [x.with_inputs(\"question\") for x in dataset_hpqa.dev]\n",
    "\n",
    "len(trainset_hpqa), len(devset_hpqa)\n"
   ]
  },
  {
   "cell_type": "code",
   "execution_count": 17,
   "metadata": {},
   "outputs": [
    {
     "data": {
      "text/html": [
       "<pre style=\"white-space:pre;overflow-x:auto;line-height:normal;font-family:Menlo,'DejaVu Sans Mono',consolas,'Courier New',monospace\"><span style=\"color: #800080; text-decoration-color: #800080; font-weight: bold\">Example</span><span style=\"font-weight: bold\">({</span><span style=\"color: #008000; text-decoration-color: #008000\">'question'</span>: <span style=\"color: #008000; text-decoration-color: #008000\">'Which of these publications was most recently published, Who Put the Bomp or Self?'</span>, \n",
       "<span style=\"color: #008000; text-decoration-color: #008000\">'answer'</span>: <span style=\"color: #008000; text-decoration-color: #008000\">'Self'</span><span style=\"font-weight: bold\">})</span> <span style=\"font-weight: bold\">(</span><span style=\"color: #808000; text-decoration-color: #808000\">input_keys</span>=<span style=\"font-weight: bold\">{</span><span style=\"color: #008000; text-decoration-color: #008000\">'question'</span><span style=\"font-weight: bold\">})</span>\n",
       "</pre>\n"
      ],
      "text/plain": [
       "\u001b[1;35mExample\u001b[0m\u001b[1m(\u001b[0m\u001b[1m{\u001b[0m\u001b[32m'question'\u001b[0m: \u001b[32m'Which of these publications was most recently published, Who Put the Bomp or Self?'\u001b[0m, \n",
       "\u001b[32m'answer'\u001b[0m: \u001b[32m'Self'\u001b[0m\u001b[1m}\u001b[0m\u001b[1m)\u001b[0m \u001b[1m(\u001b[0m\u001b[33minput_keys\u001b[0m=\u001b[1m{\u001b[0m\u001b[32m'question'\u001b[0m\u001b[1m}\u001b[0m\u001b[1m)\u001b[0m\n"
      ]
     },
     "metadata": {},
     "output_type": "display_data"
    }
   ],
   "source": [
    "print(trainset_hpqa[2])"
   ]
  },
  {
   "cell_type": "code",
   "execution_count": 18,
   "metadata": {},
   "outputs": [
    {
     "data": {
      "text/html": [
       "<pre style=\"white-space:pre;overflow-x:auto;line-height:normal;font-family:Menlo,'DejaVu Sans Mono',consolas,'Courier New',monospace\"><span style=\"color: #800080; text-decoration-color: #800080; font-weight: bold\">Example</span><span style=\"font-weight: bold\">({</span><span style=\"color: #008000; text-decoration-color: #008000\">'question'</span>: <span style=\"color: #008000; text-decoration-color: #008000\">'Are both Cangzhou and Qionghai in the Hebei province of China?'</span>, <span style=\"color: #008000; text-decoration-color: #008000\">'answer'</span>: <span style=\"color: #008000; text-decoration-color: #008000\">'no'</span>, \n",
       "<span style=\"color: #008000; text-decoration-color: #008000\">'gold_titles'</span>: <span style=\"font-weight: bold\">{</span><span style=\"color: #008000; text-decoration-color: #008000\">'Cangzhou'</span>, <span style=\"color: #008000; text-decoration-color: #008000\">'Qionghai'</span><span style=\"font-weight: bold\">}})</span> <span style=\"font-weight: bold\">(</span><span style=\"color: #808000; text-decoration-color: #808000\">input_keys</span>=<span style=\"font-weight: bold\">{</span><span style=\"color: #008000; text-decoration-color: #008000\">'question'</span><span style=\"font-weight: bold\">})</span>\n",
       "</pre>\n"
      ],
      "text/plain": [
       "\u001b[1;35mExample\u001b[0m\u001b[1m(\u001b[0m\u001b[1m{\u001b[0m\u001b[32m'question'\u001b[0m: \u001b[32m'Are both Cangzhou and Qionghai in the Hebei province of China?'\u001b[0m, \u001b[32m'answer'\u001b[0m: \u001b[32m'no'\u001b[0m, \n",
       "\u001b[32m'gold_titles'\u001b[0m: \u001b[1m{\u001b[0m\u001b[32m'Cangzhou'\u001b[0m, \u001b[32m'Qionghai'\u001b[0m\u001b[1m}\u001b[0m\u001b[1m}\u001b[0m\u001b[1m)\u001b[0m \u001b[1m(\u001b[0m\u001b[33minput_keys\u001b[0m=\u001b[1m{\u001b[0m\u001b[32m'question'\u001b[0m\u001b[1m}\u001b[0m\u001b[1m)\u001b[0m\n"
      ]
     },
     "metadata": {},
     "output_type": "display_data"
    }
   ],
   "source": [
    "print(devset_hpqa[0])"
   ]
  },
  {
   "cell_type": "markdown",
   "metadata": {},
   "source": [
    "### Signature"
   ]
  },
  {
   "cell_type": "code",
   "execution_count": 19,
   "metadata": {},
   "outputs": [],
   "source": [
    "class BasicQA(ds.Signature):\n",
    "    \"\"\"Answer questions with short factoid layers\"\"\"\n",
    "\n",
    "    question = ds.InputField()\n",
    "    answer = ds.OutputField(desc='often between 1 and 5 words')"
   ]
  },
  {
   "cell_type": "code",
   "execution_count": 20,
   "metadata": {},
   "outputs": [
    {
     "data": {
      "text/html": [
       "<pre style=\"white-space:pre;overflow-x:auto;line-height:normal;font-family:Menlo,'DejaVu Sans Mono',consolas,'Courier New',monospace\"></pre>\n"
      ],
      "text/plain": []
     },
     "metadata": {},
     "output_type": "display_data"
    },
    {
     "data": {
      "text/plain": [
       "\n",
       "\u001b[1;35mBasicQA\u001b[0m\u001b[1m(\u001b[0mquestion -> answer\n",
       "    \u001b[33minstructions\u001b[0m=\u001b[32m'Answer questions with short factoid layers'\u001b[0m\n",
       "    question = \u001b[1;35mField\u001b[0m\u001b[1m(\u001b[0m\u001b[33mannotation\u001b[0m=\u001b[35mstr\u001b[0m \u001b[33mrequired\u001b[0m=\u001b[3;92mTrue\u001b[0m \u001b[33mjson_schema_extra\u001b[0m=\u001b[1m{\u001b[0m\u001b[32m'__dspy_field_type'\u001b[0m: \u001b[32m'input'\u001b[0m, \u001b[32m'prefix'\u001b[0m: \u001b[32m'Question:'\u001b[0m, \u001b[32m'desc'\u001b[0m: \u001b[32m'$\u001b[0m\u001b[32m{\u001b[0m\u001b[32mquestion\u001b[0m\u001b[32m}\u001b[0m\u001b[32m'\u001b[0m\u001b[1m}\u001b[0m\u001b[1m)\u001b[0m\n",
       "    answer = \u001b[1;35mField\u001b[0m\u001b[1m(\u001b[0m\u001b[33mannotation\u001b[0m=\u001b[35mstr\u001b[0m \u001b[33mrequired\u001b[0m=\u001b[3;92mTrue\u001b[0m \u001b[33mjson_schema_extra\u001b[0m=\u001b[1m{\u001b[0m\u001b[32m'desc'\u001b[0m: \u001b[32m'often between 1 and 5 words'\u001b[0m, \u001b[32m'__dspy_field_type'\u001b[0m: \u001b[32m'output'\u001b[0m, \u001b[32m'prefix'\u001b[0m: \u001b[32m'Answer:'\u001b[0m\u001b[1m}\u001b[0m\u001b[1m)\u001b[0m\n",
       "\u001b[1m)\u001b[0m"
      ]
     },
     "execution_count": 20,
     "metadata": {},
     "output_type": "execute_result"
    }
   ],
   "source": [
    "BasicQA"
   ]
  },
  {
   "cell_type": "code",
   "execution_count": 21,
   "metadata": {},
   "outputs": [],
   "source": [
    "generate_answer = ds.Predict(BasicQA)"
   ]
  },
  {
   "cell_type": "code",
   "execution_count": 22,
   "metadata": {},
   "outputs": [],
   "source": [
    "pred = generate_answer(question=devset_hpqa[3].question)"
   ]
  },
  {
   "cell_type": "code",
   "execution_count": 23,
   "metadata": {},
   "outputs": [
    {
     "data": {
      "text/html": [
       "<pre style=\"white-space:pre;overflow-x:auto;line-height:normal;font-family:Menlo,'DejaVu Sans Mono',consolas,'Courier New',monospace\">Question: What river is near the Crichton Collegiate Church?\n",
       "</pre>\n"
      ],
      "text/plain": [
       "Question: What river is near the Crichton Collegiate Church?\n"
      ]
     },
     "metadata": {},
     "output_type": "display_data"
    },
    {
     "data": {
      "text/html": [
       "<pre style=\"white-space:pre;overflow-x:auto;line-height:normal;font-family:Menlo,'DejaVu Sans Mono',consolas,'Courier New',monospace\">Answer: River Nith\n",
       "</pre>\n"
      ],
      "text/plain": [
       "Answer: River Nith\n"
      ]
     },
     "metadata": {},
     "output_type": "display_data"
    }
   ],
   "source": [
    "print(f'Question: {devset_hpqa[3].question}')\n",
    "print(f'Answer: {pred.answer}')"
   ]
  },
  {
   "cell_type": "code",
   "execution_count": 24,
   "metadata": {},
   "outputs": [
    {
     "name": "stdout",
     "output_type": "stream",
     "text": [
      "\n",
      "\n",
      "\n",
      "Answer questions with short factoid layers\n",
      "\n",
      "---\n",
      "\n",
      "Follow the following format.\n",
      "\n",
      "Question: ${question}\n",
      "Answer: often between 1 and 5 words\n",
      "\n",
      "---\n",
      "\n",
      "Question: What river is near the Crichton Collegiate Church?\n",
      "Answer: River Nith\n",
      "\n",
      "\n",
      "\n"
     ]
    },
    {
     "data": {
      "text/html": [
       "<pre style=\"white-space:pre;overflow-x:auto;line-height:normal;font-family:Menlo,'DejaVu Sans Mono',consolas,'Courier New',monospace\"></pre>\n"
      ],
      "text/plain": []
     },
     "metadata": {},
     "output_type": "display_data"
    },
    {
     "data": {
      "text/plain": [
       "\u001b[32m'\\n\\n\\nAnswer questions with short factoid layers\\n\\n---\\n\\nFollow the following format.\\n\\nQuestion: $\u001b[0m\u001b[32m{\u001b[0m\u001b[32mquestion\u001b[0m\u001b[32m}\u001b[0m\u001b[32m\\nAnswer: often between 1 and 5 words\\n\\n---\\n\\nQuestion: What river is near the Crichton Collegiate Church?\\nAnswer:\\x1b\u001b[0m\u001b[32m[\u001b[0m\u001b[32m32m River Nith\\x1b\u001b[0m\u001b[32m[\u001b[0m\u001b[32m0m\\n\\n\\n'\u001b[0m"
      ]
     },
     "execution_count": 24,
     "metadata": {},
     "output_type": "execute_result"
    }
   ],
   "source": [
    "turbo.inspect_history(n=3)"
   ]
  },
  {
   "cell_type": "code",
   "execution_count": 25,
   "metadata": {},
   "outputs": [
    {
     "data": {
      "text/html": [
       "<pre style=\"white-space:pre;overflow-x:auto;line-height:normal;font-family:Menlo,'DejaVu Sans Mono',consolas,'Courier New',monospace\">Question: Lord North Street has a resident in which former Conservative MP who received an <span style=\"color: #008080; text-decoration-color: #008080; font-weight: bold\">18</span>-month prison sentence\n",
       "for perjury in <span style=\"color: #008080; text-decoration-color: #008080; font-weight: bold\">1999</span>?\n",
       "</pre>\n"
      ],
      "text/plain": [
       "Question: Lord North Street has a resident in which former Conservative MP who received an \u001b[1;36m18\u001b[0m-month prison sentence\n",
       "for perjury in \u001b[1;36m1999\u001b[0m?\n"
      ]
     },
     "metadata": {},
     "output_type": "display_data"
    },
    {
     "data": {
      "text/html": [
       "<pre style=\"white-space:pre;overflow-x:auto;line-height:normal;font-family:Menlo,'DejaVu Sans Mono',consolas,'Courier New',monospace\">Thought: We know that Lord North Street is a prestigious address in London, and the former Conservative MP who \n",
       "received an <span style=\"color: #008080; text-decoration-color: #008080; font-weight: bold\">18</span>-month prison sentence for perjury in <span style=\"color: #008080; text-decoration-color: #008080; font-weight: bold\">1999</span> is Jonathan Aitken.\n",
       "</pre>\n"
      ],
      "text/plain": [
       "Thought: We know that Lord North Street is a prestigious address in London, and the former Conservative MP who \n",
       "received an \u001b[1;36m18\u001b[0m-month prison sentence for perjury in \u001b[1;36m1999\u001b[0m is Jonathan Aitken.\n"
      ]
     },
     "metadata": {},
     "output_type": "display_data"
    },
    {
     "data": {
      "text/html": [
       "<pre style=\"white-space:pre;overflow-x:auto;line-height:normal;font-family:Menlo,'DejaVu Sans Mono',consolas,'Courier New',monospace\">Answer: Jonathan Aitken\n",
       "</pre>\n"
      ],
      "text/plain": [
       "Answer: Jonathan Aitken\n"
      ]
     },
     "metadata": {},
     "output_type": "display_data"
    }
   ],
   "source": [
    "generate_cot = ds.ChainOfThought(BasicQA)\n",
    "\n",
    "pred = generate_cot(question=devset_hpqa[14].question)\n",
    "\n",
    "print(f'Question: {devset_hpqa[14].question}')\n",
    "print(f'Thought: {pred.rationale.split(\".\", 1)[1].strip()}')\n",
    "print(f'Answer: {pred.answer}')\n"
   ]
  },
  {
   "cell_type": "code",
   "execution_count": 26,
   "metadata": {},
   "outputs": [
    {
     "data": {
      "text/html": [
       "<pre style=\"white-space:pre;overflow-x:auto;line-height:normal;font-family:Menlo,'DejaVu Sans Mono',consolas,'Courier New',monospace\">Top <span style=\"color: #008080; text-decoration-color: #008080; font-weight: bold\">3</span> passages for question: Lord North Street has a resident in which former Conservative MP who received an \n",
       "<span style=\"color: #008080; text-decoration-color: #008080; font-weight: bold\">18</span>-month prison sentence for perjury in <span style=\"color: #008080; text-decoration-color: #008080; font-weight: bold\">1999</span>? \n",
       " ------------------------------ \n",
       "\n",
       "</pre>\n"
      ],
      "text/plain": [
       "Top \u001b[1;36m3\u001b[0m passages for question: Lord North Street has a resident in which former Conservative MP who received an \n",
       "\u001b[1;36m18\u001b[0m-month prison sentence for perjury in \u001b[1;36m1999\u001b[0m? \n",
       " ------------------------------ \n",
       "\n"
      ]
     },
     "metadata": {},
     "output_type": "display_data"
    },
    {
     "data": {
      "text/html": [
       "<pre style=\"white-space:pre;overflow-x:auto;line-height:normal;font-family:Menlo,'DejaVu Sans Mono',consolas,'Courier New',monospace\"><span style=\"color: #008080; text-decoration-color: #008080; font-weight: bold\">1</span><span style=\"font-weight: bold\">]</span> Jonathan Aitken | Jonathan William Patrick Aitken <span style=\"font-weight: bold\">(</span>born <span style=\"color: #008080; text-decoration-color: #008080; font-weight: bold\">30</span> August <span style=\"color: #008080; text-decoration-color: #008080; font-weight: bold\">1942</span><span style=\"font-weight: bold\">)</span> is a former Conservative Member of \n",
       "Parliament in the United Kingdom <span style=\"font-weight: bold\">(</span><span style=\"color: #008080; text-decoration-color: #008080; font-weight: bold\">1974</span>–<span style=\"color: #008080; text-decoration-color: #008080; font-weight: bold\">97</span><span style=\"font-weight: bold\">)</span>, and a former Cabinet minister. He was convicted of perjury in <span style=\"color: #008080; text-decoration-color: #008080; font-weight: bold\">1999</span> and \n",
       "received an <span style=\"color: #008080; text-decoration-color: #008080; font-weight: bold\">18</span>-month prison sentence, of which he served seven months. He is currently president of Christian \n",
       "Solidarity Worldwide. Aitken was also a member of the Privy Council of the United Kingdom. \n",
       "\n",
       "</pre>\n"
      ],
      "text/plain": [
       "\u001b[1;36m1\u001b[0m\u001b[1m]\u001b[0m Jonathan Aitken | Jonathan William Patrick Aitken \u001b[1m(\u001b[0mborn \u001b[1;36m30\u001b[0m August \u001b[1;36m1942\u001b[0m\u001b[1m)\u001b[0m is a former Conservative Member of \n",
       "Parliament in the United Kingdom \u001b[1m(\u001b[0m\u001b[1;36m1974\u001b[0m–\u001b[1;36m97\u001b[0m\u001b[1m)\u001b[0m, and a former Cabinet minister. He was convicted of perjury in \u001b[1;36m1999\u001b[0m and \n",
       "received an \u001b[1;36m18\u001b[0m-month prison sentence, of which he served seven months. He is currently president of Christian \n",
       "Solidarity Worldwide. Aitken was also a member of the Privy Council of the United Kingdom. \n",
       "\n"
      ]
     },
     "metadata": {},
     "output_type": "display_data"
    },
    {
     "data": {
      "text/html": [
       "<pre style=\"white-space:pre;overflow-x:auto;line-height:normal;font-family:Menlo,'DejaVu Sans Mono',consolas,'Courier New',monospace\"><span style=\"color: #008080; text-decoration-color: #008080; font-weight: bold\">2</span><span style=\"font-weight: bold\">]</span> David Chaytor | David Michael Chaytor <span style=\"font-weight: bold\">(</span>born <span style=\"color: #008080; text-decoration-color: #008080; font-weight: bold\">3</span> August <span style=\"color: #008080; text-decoration-color: #008080; font-weight: bold\">1949</span><span style=\"font-weight: bold\">)</span> is a former British Labour Party politician, who was \n",
       "the Member of Parliament <span style=\"font-weight: bold\">(</span>MP<span style=\"font-weight: bold\">)</span> for Bury North from <span style=\"color: #008080; text-decoration-color: #008080; font-weight: bold\">1997</span> to <span style=\"color: #008080; text-decoration-color: #008080; font-weight: bold\">2010</span>. He was the first member of Parliament to be \n",
       "sentenced following the United Kingdom Parliamentary expenses scandal of <span style=\"color: #008080; text-decoration-color: #008080; font-weight: bold\">2009</span>. \n",
       "\n",
       "</pre>\n"
      ],
      "text/plain": [
       "\u001b[1;36m2\u001b[0m\u001b[1m]\u001b[0m David Chaytor | David Michael Chaytor \u001b[1m(\u001b[0mborn \u001b[1;36m3\u001b[0m August \u001b[1;36m1949\u001b[0m\u001b[1m)\u001b[0m is a former British Labour Party politician, who was \n",
       "the Member of Parliament \u001b[1m(\u001b[0mMP\u001b[1m)\u001b[0m for Bury North from \u001b[1;36m1997\u001b[0m to \u001b[1;36m2010\u001b[0m. He was the first member of Parliament to be \n",
       "sentenced following the United Kingdom Parliamentary expenses scandal of \u001b[1;36m2009\u001b[0m. \n",
       "\n"
      ]
     },
     "metadata": {},
     "output_type": "display_data"
    },
    {
     "data": {
      "text/html": [
       "<pre style=\"white-space:pre;overflow-x:auto;line-height:normal;font-family:Menlo,'DejaVu Sans Mono',consolas,'Courier New',monospace\"><span style=\"color: #008080; text-decoration-color: #008080; font-weight: bold\">3</span><span style=\"font-weight: bold\">]</span> Elliot Morley | Elliot Anthony Morley <span style=\"font-weight: bold\">(</span>born <span style=\"color: #008080; text-decoration-color: #008080; font-weight: bold\">6</span> July <span style=\"color: #008080; text-decoration-color: #008080; font-weight: bold\">1952</span><span style=\"font-weight: bold\">)</span> is a British former Labour Party politician, who was \n",
       "the Member of Parliament for Glanford and Scunthorpe from <span style=\"color: #008080; text-decoration-color: #008080; font-weight: bold\">1987</span> to <span style=\"color: #008080; text-decoration-color: #008080; font-weight: bold\">1997</span> and then Scunthorpe from <span style=\"color: #008080; text-decoration-color: #008080; font-weight: bold\">1997</span> to <span style=\"color: #008080; text-decoration-color: #008080; font-weight: bold\">2010</span>. In \n",
       "<span style=\"color: #008080; text-decoration-color: #008080; font-weight: bold\">2009</span>, he was accused by <span style=\"color: #008000; text-decoration-color: #008000\">\"The Daily Telegraph\"</span> of continuing to claim parliamentary expenses for a mortgage that had\n",
       "already been repaid. Morley was prosecuted and on <span style=\"color: #008080; text-decoration-color: #008080; font-weight: bold\">7</span> April <span style=\"color: #008080; text-decoration-color: #008080; font-weight: bold\">2011</span> pleaded guilty in Southwark Crown Court to two \n",
       "counts of false accounting, involving over £<span style=\"color: #008080; text-decoration-color: #008080; font-weight: bold\">30</span>,<span style=\"color: #008080; text-decoration-color: #008080; font-weight: bold\">000</span>. On <span style=\"color: #008080; text-decoration-color: #008080; font-weight: bold\">20</span> May <span style=\"color: #008080; text-decoration-color: #008080; font-weight: bold\">2011</span>, he was sentenced to <span style=\"color: #008080; text-decoration-color: #008080; font-weight: bold\">16</span> months' imprisonment. He\n",
       "was released from prison on <span style=\"color: #008080; text-decoration-color: #008080; font-weight: bold\">20</span> September <span style=\"color: #008080; text-decoration-color: #008080; font-weight: bold\">2011</span> having served a quarter of his sentence. \n",
       "\n",
       "</pre>\n"
      ],
      "text/plain": [
       "\u001b[1;36m3\u001b[0m\u001b[1m]\u001b[0m Elliot Morley | Elliot Anthony Morley \u001b[1m(\u001b[0mborn \u001b[1;36m6\u001b[0m July \u001b[1;36m1952\u001b[0m\u001b[1m)\u001b[0m is a British former Labour Party politician, who was \n",
       "the Member of Parliament for Glanford and Scunthorpe from \u001b[1;36m1987\u001b[0m to \u001b[1;36m1997\u001b[0m and then Scunthorpe from \u001b[1;36m1997\u001b[0m to \u001b[1;36m2010\u001b[0m. In \n",
       "\u001b[1;36m2009\u001b[0m, he was accused by \u001b[32m\"The Daily Telegraph\"\u001b[0m of continuing to claim parliamentary expenses for a mortgage that had\n",
       "already been repaid. Morley was prosecuted and on \u001b[1;36m7\u001b[0m April \u001b[1;36m2011\u001b[0m pleaded guilty in Southwark Crown Court to two \n",
       "counts of false accounting, involving over £\u001b[1;36m30\u001b[0m,\u001b[1;36m000\u001b[0m. On \u001b[1;36m20\u001b[0m May \u001b[1;36m2011\u001b[0m, he was sentenced to \u001b[1;36m16\u001b[0m months' imprisonment. He\n",
       "was released from prison on \u001b[1;36m20\u001b[0m September \u001b[1;36m2011\u001b[0m having served a quarter of his sentence. \n",
       "\n"
      ]
     },
     "metadata": {},
     "output_type": "display_data"
    }
   ],
   "source": [
    "retrieve = ds.Retrieve(k=3)\n",
    "\n",
    "top_k_passages = retrieve(devset_hpqa[14].question).passages\n",
    "\n",
    "print(\n",
    "    f\"Top {retrieve.k} passages for question: {devset_hpqa[14].question} \\n\",\n",
    "    \"-\" * 30,\n",
    "    \"\\n\",\n",
    ")\n",
    "\n",
    "for idx, passage in enumerate(top_k_passages):\n",
    "    print(f\"{idx+1}]\", passage, \"\\n\")\n"
   ]
  },
  {
   "cell_type": "code",
   "execution_count": 27,
   "metadata": {},
   "outputs": [
    {
     "data": {
      "text/html": [
       "<pre style=\"white-space:pre;overflow-x:auto;line-height:normal;font-family:Menlo,'DejaVu Sans Mono',consolas,'Courier New',monospace\"></pre>\n"
      ],
      "text/plain": []
     },
     "metadata": {},
     "output_type": "display_data"
    },
    {
     "data": {
      "text/plain": [
       "\n",
       "\u001b[1m[\u001b[0m\n",
       "    \u001b[32m'President of the United States \u001b[0m\u001b[32m(\u001b[0m\u001b[32mdisambiguation\u001b[0m\u001b[32m)\u001b[0m\u001b[32m | The President of the United States \u001b[0m\u001b[32m(\u001b[0m\u001b[32mof America\u001b[0m\u001b[32m)\u001b[0m\u001b[32m has been chief of the United States executive branch since 1789. The current U.S. President is Donald Trump.'\u001b[0m,\n",
       "    \u001b[32m'President of the United States | The President of the United States \u001b[0m\u001b[32m(\u001b[0m\u001b[32minformally referred to as \"POTUS\"\u001b[0m\u001b[32m)\u001b[0m\u001b[32m is the head of state and head of government of the United States. The president directs the executive branch of the federal government and is the commander-in-chief of the United States Armed Forces.'\u001b[0m,\n",
       "    \u001b[32m'List of Presidents of the United States | The President of the United States is the elected head of state and head of government of the United States. The president leads the executive branch of the federal government and is the commander-in-chief of the United States Armed Forces. The president is indirectly elected to a four-year term by the people through the Electoral College \u001b[0m\u001b[32m(\u001b[0m\u001b[32mor by the House of Representatives, should the Electoral College fail to award an absolute majority of votes to any person\u001b[0m\u001b[32m)\u001b[0m\u001b[32m.'\u001b[0m\n",
       "\u001b[1m]\u001b[0m"
      ]
     },
     "execution_count": 27,
     "metadata": {},
     "output_type": "execute_result"
    }
   ],
   "source": [
    "retrieve(\"Who is the president of the United States?\").passages"
   ]
  },
  {
   "cell_type": "markdown",
   "metadata": {},
   "source": [
    "## Program 1: Basic RAG"
   ]
  },
  {
   "cell_type": "code",
   "execution_count": 28,
   "metadata": {},
   "outputs": [],
   "source": [
    "class GenerateAnswer(ds.Signature):\n",
    "    \"\"\"Answer question with short factoid layers\"\"\"\n",
    "\n",
    "    question = ds.InputField()\n",
    "    context = ds.InputField(desc=\"may contain relevant facts\")\n",
    "    answer = ds.OutputField(desc=\"often between 1 and 5 words\")"
   ]
  },
  {
   "cell_type": "code",
   "execution_count": 29,
   "metadata": {},
   "outputs": [],
   "source": [
    "class RAG(ds.Module):\n",
    "    def __init__(self, num_passages=3):\n",
    "        super().__init__()\n",
    "        \n",
    "        self.retrieve = ds.Retrieve(k=num_passages)\n",
    "        self.generate_answer = ds.ChainOfThought(GenerateAnswer)\n",
    "\n",
    "    def forward(self, question):\n",
    "        context = self.retrieve(question).passages\n",
    "        prediction = self.generate_answer(context=context, question=question)\n",
    "\n",
    "        return ds.Prediction(context=context, answer=prediction.answer)"
   ]
  },
  {
   "cell_type": "code",
   "execution_count": 30,
   "metadata": {},
   "outputs": [],
   "source": [
    "def validate_context_and_answer(example, pred, trace=None):\n",
    "    answer_EM = ds.evaluate.answer_exact_match(example, pred)\n",
    "    answer_PM = ds.evaluate.answer_passage_match(example, pred)\n",
    "\n",
    "    return answer_EM and answer_PM"
   ]
  },
  {
   "cell_type": "code",
   "execution_count": 31,
   "metadata": {},
   "outputs": [
    {
     "name": "stderr",
     "output_type": "stream",
     "text": [
      " 55%|█████▌    | 11/20 [00:00<00:00, 139.23it/s]\n"
     ]
    },
    {
     "name": "stdout",
     "output_type": "stream",
     "text": [
      "Bootstrapped 4 full traces after 12 examples in round 0.\n"
     ]
    }
   ],
   "source": [
    "teleprompter = BootstrapFewShot(metric=validate_context_and_answer)\n",
    "compiled_rag = teleprompter.compile(RAG(), trainset=trainset_hpqa)"
   ]
  },
  {
   "cell_type": "code",
   "execution_count": 32,
   "metadata": {},
   "outputs": [
    {
     "data": {
      "text/html": [
       "<pre style=\"white-space:pre;overflow-x:auto;line-height:normal;font-family:Menlo,'DejaVu Sans Mono',consolas,'Courier New',monospace\"></pre>\n"
      ],
      "text/plain": []
     },
     "metadata": {},
     "output_type": "display_data"
    },
    {
     "data": {
      "text/plain": [
       "\n",
       "generate_answer = \u001b[1;35mChainOfThought\u001b[0m\u001b[1m(\u001b[0m\u001b[1;35mGenerateAnswer\u001b[0m\u001b[1m(\u001b[0mquestion, context -> answer\n",
       "    \u001b[33minstructions\u001b[0m=\u001b[32m'Answer question with short factoid layers'\u001b[0m\n",
       "    question = \u001b[1;35mField\u001b[0m\u001b[1m(\u001b[0m\u001b[33mannotation\u001b[0m=\u001b[35mstr\u001b[0m \u001b[33mrequired\u001b[0m=\u001b[3;92mTrue\u001b[0m \u001b[33mjson_schema_extra\u001b[0m=\u001b[1m{\u001b[0m\u001b[32m'__dspy_field_type'\u001b[0m: \u001b[32m'input'\u001b[0m, \u001b[32m'prefix'\u001b[0m: \u001b[32m'Question:'\u001b[0m, \u001b[32m'desc'\u001b[0m: \u001b[32m'$\u001b[0m\u001b[32m{\u001b[0m\u001b[32mquestion\u001b[0m\u001b[32m}\u001b[0m\u001b[32m'\u001b[0m\u001b[1m}\u001b[0m\u001b[1m)\u001b[0m\n",
       "    context = \u001b[1;35mField\u001b[0m\u001b[1m(\u001b[0m\u001b[33mannotation\u001b[0m=\u001b[35mstr\u001b[0m \u001b[33mrequired\u001b[0m=\u001b[3;92mTrue\u001b[0m \u001b[33mjson_schema_extra\u001b[0m=\u001b[1m{\u001b[0m\u001b[32m'desc'\u001b[0m: \u001b[32m'may contain relevant facts'\u001b[0m, \u001b[32m'__dspy_field_type'\u001b[0m: \u001b[32m'input'\u001b[0m, \u001b[32m'prefix'\u001b[0m: \u001b[32m'Context:'\u001b[0m\u001b[1m}\u001b[0m\u001b[1m)\u001b[0m\n",
       "    answer = \u001b[1;35mField\u001b[0m\u001b[1m(\u001b[0m\u001b[33mannotation\u001b[0m=\u001b[35mstr\u001b[0m \u001b[33mrequired\u001b[0m=\u001b[3;92mTrue\u001b[0m \u001b[33mjson_schema_extra\u001b[0m=\u001b[1m{\u001b[0m\u001b[32m'desc'\u001b[0m: \u001b[32m'often between 1 and 5 words'\u001b[0m, \u001b[32m'__dspy_field_type'\u001b[0m: \u001b[32m'output'\u001b[0m, \u001b[32m'prefix'\u001b[0m: \u001b[32m'Answer:'\u001b[0m\u001b[1m}\u001b[0m\u001b[1m)\u001b[0m\n",
       "\u001b[1m)\u001b[0m\u001b[1m)\u001b[0m"
      ]
     },
     "execution_count": 32,
     "metadata": {},
     "output_type": "execute_result"
    }
   ],
   "source": [
    "compiled_rag"
   ]
  },
  {
   "cell_type": "code",
   "execution_count": 33,
   "metadata": {},
   "outputs": [
    {
     "data": {
      "text/html": [
       "<pre style=\"white-space:pre;overflow-x:auto;line-height:normal;font-family:Menlo,'DejaVu Sans Mono',consolas,'Courier New',monospace\">Question: Who is the current president of the United States?\n",
       "</pre>\n"
      ],
      "text/plain": [
       "Question: Who is the current president of the United States?\n"
      ]
     },
     "metadata": {},
     "output_type": "display_data"
    },
    {
     "data": {
      "text/html": [
       "<pre style=\"white-space:pre;overflow-x:auto;line-height:normal;font-family:Menlo,'DejaVu Sans Mono',consolas,'Courier New',monospace\">Context: <span style=\"font-weight: bold\">[</span><span style=\"color: #008000; text-decoration-color: #008000\">'President of the United States (disambiguation) | The President of the United States (of America) has </span>\n",
       "<span style=\"color: #008000; text-decoration-color: #008000\">been chief of the United States executive branch since 1789. The current U.S. President is Donald ...'</span>, <span style=\"color: #008000; text-decoration-color: #008000\">'Donald </span>\n",
       "<span style=\"color: #008000; text-decoration-color: #008000\">Trump | Donald John Trump (born June 14, 1946) is the 45th and current President of the United States, in office </span>\n",
       "<span style=\"color: #008000; text-decoration-color: #008000\">since January 20, 2017. Before entering politics, he was a businessman and telev...'</span>, <span style=\"color: #008000; text-decoration-color: #008000\">'President of Mexico | The </span>\n",
       "<span style=\"color: #008000; text-decoration-color: #008000\">President of the United Mexican States (Spanish: \"Presidente de los Estados Unidos Mexicanos\" ) is the head of </span>\n",
       "<span style=\"color: #008000; text-decoration-color: #008000\">state and government of Mexico. Under the Constitution, the pre...'</span><span style=\"font-weight: bold\">]</span>\n",
       "</pre>\n"
      ],
      "text/plain": [
       "Context: \u001b[1m[\u001b[0m\u001b[32m'President of the United States \u001b[0m\u001b[32m(\u001b[0m\u001b[32mdisambiguation\u001b[0m\u001b[32m)\u001b[0m\u001b[32m | The President of the United States \u001b[0m\u001b[32m(\u001b[0m\u001b[32mof America\u001b[0m\u001b[32m)\u001b[0m\u001b[32m has \u001b[0m\n",
       "\u001b[32mbeen chief of the United States executive branch since 1789. The current U.S. President is Donald ...'\u001b[0m, \u001b[32m'Donald \u001b[0m\n",
       "\u001b[32mTrump | Donald John Trump \u001b[0m\u001b[32m(\u001b[0m\u001b[32mborn June 14, 1946\u001b[0m\u001b[32m)\u001b[0m\u001b[32m is the 45th and current President of the United States, in office \u001b[0m\n",
       "\u001b[32msince January 20, 2017. Before entering politics, he was a businessman and telev...'\u001b[0m, \u001b[32m'President of Mexico | The \u001b[0m\n",
       "\u001b[32mPresident of the United Mexican States \u001b[0m\u001b[32m(\u001b[0m\u001b[32mSpanish: \"Presidente de los Estados Unidos Mexicanos\" \u001b[0m\u001b[32m)\u001b[0m\u001b[32m is the head of \u001b[0m\n",
       "\u001b[32mstate and government of Mexico. Under the Constitution, the pre...'\u001b[0m\u001b[1m]\u001b[0m\n"
      ]
     },
     "metadata": {},
     "output_type": "display_data"
    },
    {
     "data": {
      "text/html": [
       "<pre style=\"white-space:pre;overflow-x:auto;line-height:normal;font-family:Menlo,'DejaVu Sans Mono',consolas,'Courier New',monospace\">Answer: Donald Trump\n",
       "</pre>\n"
      ],
      "text/plain": [
       "Answer: Donald Trump\n"
      ]
     },
     "metadata": {},
     "output_type": "display_data"
    }
   ],
   "source": [
    "question = \"Who is the current president of the United States?\"\n",
    "\n",
    "pred = compiled_rag(question)\n",
    "\n",
    "print(f\"Question: {question}\")\n",
    "print(f'Context: {[c[:200] + \"...\" for c in pred.context]}')\n",
    "print(f\"Answer: {pred.answer}\")"
   ]
  },
  {
   "cell_type": "code",
   "execution_count": 34,
   "metadata": {},
   "outputs": [
    {
     "name": "stdout",
     "output_type": "stream",
     "text": [
      "\n",
      "\n",
      "\n",
      "Answer question with short factoid layers\n",
      "\n",
      "---\n",
      "\n",
      "Question: At My Window was released by which American singer-songwriter?\n",
      "Answer: John Townes Van Zandt\n",
      "\n",
      "Question: \"Everything Has Changed\" is a song from an album released under which record label ?\n",
      "Answer: Big Machine Records\n",
      "\n",
      "Question: The Victorians - Their Story In Pictures is a documentary series written by an author born in what year?\n",
      "Answer: 1950\n",
      "\n",
      "Question: Which Pakistani cricket umpire who won 3 consecutive ICC umpire of the year awards in 2009, 2010, and 2011 will be in the ICC World Twenty20?\n",
      "Answer: Aleem Sarwar Dar\n",
      "\n",
      "Question: Having the combination of excellent foot speed and bat speed helped Eric Davis, create what kind of outfield for the Los Angeles Dodgers?\n",
      "Answer: \"Outfield of Dreams\"\n",
      "\n",
      "Question: Who is older, Aleksandr Danilovich Aleksandrov or Anatoly Fomenko?\n",
      "Answer: Aleksandr Danilovich Aleksandrov\n",
      "\n",
      "Question: The Organisation that allows a community to influence their operation or use and to enjoy the benefits arisingwas founded in what year?\n",
      "Answer: 2010\n",
      "\n",
      "Question: Tombstone stared an actor born May 17, 1955 known as who?\n",
      "Answer: Bill Paxton\n",
      "\n",
      "Question: In what year was the club founded that played Manchester City in the 1972 FA Charity Shield\n",
      "Answer: 1874\n",
      "\n",
      "Question: which American actor was Candace Kita guest starred with\n",
      "Answer: Bill Murray\n",
      "\n",
      "Question: Which is taller, the Empire State Building or the Bank of America Tower?\n",
      "Answer: The Empire State Building\n",
      "\n",
      "Question: Which company distributed this 1977 American animated film produced by Walt Disney Productions for which Sherman Brothers wrote songs?\n",
      "Answer: Buena Vista Distribution\n",
      "\n",
      "---\n",
      "\n",
      "Follow the following format.\n",
      "\n",
      "Question: ${question}\n",
      "\n",
      "Context: may contain relevant facts\n",
      "\n",
      "Reasoning: Let's think step by step in order to ${produce the answer}. We ...\n",
      "\n",
      "Answer: often between 1 and 5 words\n",
      "\n",
      "---\n",
      "\n",
      "Question: Which magazine has published articles by Scott Shaw, Tae Kwon Do Times or Southwest Art?\n",
      "\n",
      "Context:\n",
      "[1] «Tae Kwon Do Times | Tae Kwon Do Times is a magazine devoted to the martial art of taekwondo, and is published in the United States of America. While the title suggests that it focuses on taekwondo exclusively, the magazine also covers other Korean martial arts. \"Tae Kwon Do Times\" has published articles by a wide range of authors, including He-Young Kimm, Thomas Kurz, Scott Shaw, and Mark Van Schuyver.»\n",
      "[2] «Kwon Tae-man | Kwon Tae-man (born 1941) was an early Korean hapkido practitioner and a pioneer of the art, first in Korea and then in the United States. He formed one of the earliest dojang's for hapkido in the United States in Torrance, California, and has been featured in many magazine articles promoting the art.»\n",
      "[3] «Hee Il Cho | Cho Hee Il (born October 13, 1940) is a prominent Korean-American master of taekwondo, holding the rank of 9th \"dan\" in the martial art. He has written 11 martial art books, produced 70 martial art training videos, and has appeared on more than 70 martial arts magazine covers. Cho won several national and international competitions as a taekwondo competitor, and has appeared in several films, including \"Fight to Win\", \"Best of the Best\", \"Bloodsport II\", and \"Bloodsport III\". He founded the Action International Martial Arts Association (AIMAA) in 1980, and is its President. Cho is a member of both \"Black Belt\" magazine's Hall of Fame and \"Tae Kwon Do Times\" magazine's Hall of Fame.»\n",
      "\n",
      "Reasoning: Let's think step by step in order to determine which magazine has published articles by Scott Shaw. We know that \"Tae Kwon Do Times\" has published articles by Scott Shaw, so the answer is:\n",
      "\n",
      "Answer: Tae Kwon Do Times\n",
      "\n",
      "---\n",
      "\n",
      "Question: Which American actress who made their film debut in the 1995 teen drama \"Kids\" was the co-founder of Voto Latino?\n",
      "\n",
      "Context:\n",
      "[1] «Rosario Dawson | Rosario Isabel Dawson (born May 9, 1979) is an American actress, producer, singer, comic book writer, and political activist. She made her film debut in the 1995 teen drama \"Kids\". Her subsequent film roles include \"He Got Game\", \"Men in Black II\", \"25th Hour\", \"Rent\", \"Sin City\", \"Death Proof\", \"Seven Pounds\", \"\", and \"Top Five\". Dawson has also provided voice-over work for Disney and DC.»\n",
      "[2] «Sarai Gonzalez | Sarai Isaura Gonzalez (born 2005) is an American Latina child actress who made her professional debut at the age of 11 on the Spanish-language \"\"Soy Yo\"\" (\"That's Me\") music video by Bomba Estéreo. Cast as a \"nerdy\" tween with a \"sassy\" and \"confident\" attitude, her performance turned her into a \"Latina icon\" for \"female empowerment, identity and self-worth\". She subsequently appeared in two get out the vote videos for Latinos in advance of the 2016 United States elections.»\n",
      "[3] «Gabriela (2001 film) | Gabriela is a 2001 American romance film, starring Seidy Lopez in the title role alongside Jaime Gomez as her admirer Mike. The film has been cited as an inspiration behind the Premiere Weekend Club, which supports Latino film-making.»\n",
      "\n",
      "Reasoning: Let's think step by step in order to produce the answer. We know that the actress made her film debut in the 1995 teen drama \"Kids\" and is also the co-founder of Voto Latino.\n",
      "\n",
      "Answer: Rosario Dawson\n",
      "\n",
      "---\n",
      "\n",
      "Question: What is the code name for the German offensive that started this Second World War engagement on the Eastern Front (a few hundred kilometers from Moscow) between Soviet and German forces, which included 102nd Infantry Division?\n",
      "\n",
      "Context:\n",
      "[1] «Battle of Kursk | The Battle of Kursk was a Second World War engagement between German and Soviet forces on the Eastern Front near Kursk (450 km south-west of Moscow) in the Soviet Union during July and August 1943. The battle began with the launch of the German offensive, Operation Citadel (German: \"Unternehmen Zitadelle\" ), on 5 July, which had the objective of pinching off the Kursk salient with attacks on the base of the salient from north and south simultaneously. After the German offensive stalled on the northern side of the salient, on 12 July the Soviets commenced their Kursk Strategic Offensive Operation with the launch of Operation Kutuzov (Russian: Кутузов ) against the rear of the German forces in the northern side. On the southern side, the Soviets also launched powerful counterattacks the same day, one of which led to a large armoured clash, the Battle of Prokhorovka. On 3 August, the Soviets began the second phase of the Kursk Strategic Offensive Operation with the launch of Operation Polkovodets Rumyantsev (Russian: Полководец Румянцев ) against the German forces in the southern side of the Kursk salient.»\n",
      "[2] «Operation Mars | Operation Mars, also known as the Second Rzhev-Sychevka Offensive Operation (Russian: Вторая Ржевско-Сычёвская наступательная операция), was the codename for an offensive launched by Soviet forces against German forces during World War II. It took place between 25 November and 20 December 1942 around the Rzhev salient in the vicinity of Moscow.»\n",
      "[3] «Kholm Pocket | The Kholm Pocket (German: \"Kessel von Cholm\" ; Russian: Холмский котёл ) was the name given for the encirclement of German troops by the Red Army around Kholm south of Leningrad, during World War II on the Eastern Front, from 23 January 1942 until 5 May 1942. A much larger pocket was simultaneously surrounded in Demyansk, about 100 km to the northeast. These were the results of German retreat following their defeat during the Battle of Moscow.»\n",
      "\n",
      "Reasoning: Let's think step by step in order to produce the answer. We know that the German offensive that started this Second World War engagement on the Eastern Front was called Operation Citadel, also known as \"Unternehmen Zitadelle.\"\n",
      "\n",
      "Answer: Operation Citadel\n",
      "\n",
      "---\n",
      "\n",
      "Question: Who acted in the shot film The Shore and is also the youngest actress ever to play Ophelia in a Royal Shakespeare Company production of \"Hamlet.\" ?\n",
      "\n",
      "Context:\n",
      "[1] «Kerry Condon | Kerry Condon (born 4 January 1983) is an Irish television and film actress, best known for her role as Octavia of the Julii in the HBO/BBC series \"Rome,\" as Stacey Ehrmantraut in AMC's \"Better Call Saul\" and as the voice of F.R.I.D.A.Y. in various films in the Marvel Cinematic Universe. She is also the youngest actress ever to play Ophelia in a Royal Shakespeare Company production of \"Hamlet.\"»\n",
      "[2] «Corona Riccardo | Corona Riccardo (c. 1878October 15, 1917) was an Italian born American actress who had a brief Broadway stage career before leaving to become a wife and mother. Born in Naples she came to acting in 1894 playing a Mexican girl in a play at the Empire Theatre. Wilson Barrett engaged her for a role in his play \"The Sign of the Cross\" which he took on tour of the United States. Riccardo played the role of Ancaria and later played Berenice in the same play. Robert B. Mantell in 1898 who struck by her beauty also cast her in two Shakespeare plays, \"Romeo and Juliet\" and \"Othello\". Author Lewis Strang writing in 1899 said Riccardo was the most promising actress in America at the time. Towards the end of 1898 Mantell chose her for another Shakespeare part, Ophelia im Hamlet. Afterwards she was due to join Augustin Daly's Theatre Company but Daly died in 1899. In 1899 she gained her biggest fame by playing Iras in the first stage production of Ben-Hur.»\n",
      "[3] «Judi Dench | Dame Judith Olivia \"Judi\" Dench, {'1': \", '2': \", '3': \", '4': \"} (born 9 December 1934) is an English actress and author. Dench made her professional debut in 1957 with the Old Vic Company. Over the following few years, she performed in several of Shakespeare's plays in such roles as Ophelia in \"Hamlet\", Juliet in \"Romeo and Juliet\", and Lady Macbeth in \"Macbeth\". Although most of her work during this period was in theatre, she also branched into film work and won a BAFTA Award as Most Promising Newcomer. She drew strong reviews for her leading role in the musical \"Cabaret\" in 1968.»\n",
      "\n",
      "Reasoning: Let's think step by step in order to produce the answer. We need to identify the actress who played Ophelia in a Royal Shakespeare Company production of \"Hamlet.\"\n",
      "\n",
      "Answer: Kerry Condon\n",
      "\n",
      "---\n",
      "\n",
      "Question: Who is the current president of the United States?\n",
      "\n",
      "Context:\n",
      "[1] «President of the United States (disambiguation) | The President of the United States (of America) has been chief of the United States executive branch since 1789. The current U.S. President is Donald Trump.»\n",
      "[2] «Donald Trump | Donald John Trump (born June 14, 1946) is the 45th and current President of the United States, in office since January 20, 2017. Before entering politics, he was a businessman and television personality.»\n",
      "[3] «President of Mexico | The President of the United Mexican States (Spanish: \"Presidente de los Estados Unidos Mexicanos\" ) is the head of state and government of Mexico. Under the Constitution, the president is also the Supreme Commander of the Mexican armed forces. The current President is Enrique Peña Nieto, who took office on December 1, 2012.»\n",
      "\n",
      "Reasoning: Let's think step by step in order to produce the answer. We know that the current president of the United States is Donald Trump.\n",
      "\n",
      "Answer: Donald Trump\n",
      "\n",
      "\n",
      "\n"
     ]
    },
    {
     "data": {
      "text/html": [
       "<pre style=\"white-space:pre;overflow-x:auto;line-height:normal;font-family:Menlo,'DejaVu Sans Mono',consolas,'Courier New',monospace\"></pre>\n"
      ],
      "text/plain": []
     },
     "metadata": {},
     "output_type": "display_data"
    },
    {
     "data": {
      "text/plain": [
       "\u001b[32m'\\n\\n\\nAnswer question with short factoid layers\\n\\n---\\n\\nQuestion: At My Window was released by which American singer-songwriter?\\nAnswer: John Townes Van Zandt\\n\\nQuestion: \"Everything Has Changed\" is a song from an album released under which record label ?\\nAnswer: Big Machine Records\\n\\nQuestion: The Victorians - Their Story In Pictures is a documentary series written by an author born in what year?\\nAnswer: 1950\\n\\nQuestion: Which Pakistani cricket umpire who won 3 consecutive ICC umpire of the year awards in 2009, 2010, and 2011 will be in the ICC World Twenty20?\\nAnswer: Aleem Sarwar Dar\\n\\nQuestion: Having the combination of excellent foot speed and bat speed helped Eric Davis, create what kind of outfield for the Los Angeles Dodgers?\\nAnswer: \"Outfield of Dreams\"\\n\\nQuestion: Who is older, Aleksandr Danilovich Aleksandrov or Anatoly Fomenko?\\nAnswer: Aleksandr Danilovich Aleksandrov\\n\\nQuestion: The Organisation that allows a community to influence their operation or use and to enjoy the benefits arisingwas founded in what year?\\nAnswer: 2010\\n\\nQuestion: Tombstone stared an actor born May 17, 1955 known as who?\\nAnswer: Bill Paxton\\n\\nQuestion: In what year was the club founded that played Manchester City in the 1972 FA Charity Shield\\nAnswer: 1874\\n\\nQuestion: which American actor was Candace Kita guest starred with\\nAnswer: Bill Murray\\n\\nQuestion: Which is taller, the Empire State Building or the Bank of America Tower?\\nAnswer: The Empire State Building\\n\\nQuestion: Which company distributed this 1977 American animated film produced by Walt Disney Productions for which Sherman Brothers wrote songs?\\nAnswer: Buena Vista Distribution\\n\\n---\\n\\nFollow the following format.\\n\\nQuestion: $\u001b[0m\u001b[32m{\u001b[0m\u001b[32mquestion\u001b[0m\u001b[32m}\u001b[0m\u001b[32m\\n\\nContext: may contain relevant facts\\n\\nReasoning: Let\\'s think step by step in order to $\u001b[0m\u001b[32m{\u001b[0m\u001b[32mproduce the answer\u001b[0m\u001b[32m}\u001b[0m\u001b[32m. We ...\\n\\nAnswer: often between 1 and 5 words\\n\\n---\\n\\nQuestion: Which magazine has published articles by Scott Shaw, Tae Kwon Do Times or Southwest Art?\\n\\nContext:\\n\u001b[0m\u001b[32m[\u001b[0m\u001b[32m1\u001b[0m\u001b[32m]\u001b[0m\u001b[32m «Tae Kwon Do Times | Tae Kwon Do Times is a magazine devoted to the martial art of taekwondo, and is published in the United States of America. While the title suggests that it focuses on taekwondo exclusively, the magazine also covers other Korean martial arts. \"Tae Kwon Do Times\" has published articles by a wide range of authors, including He-Young Kimm, Thomas Kurz, Scott Shaw, and Mark Van Schuyver.»\\n\u001b[0m\u001b[32m[\u001b[0m\u001b[32m2\u001b[0m\u001b[32m]\u001b[0m\u001b[32m «Kwon Tae-man | Kwon Tae-man \u001b[0m\u001b[32m(\u001b[0m\u001b[32mborn 1941\u001b[0m\u001b[32m)\u001b[0m\u001b[32m was an early Korean hapkido practitioner and a pioneer of the art, first in Korea and then in the United States. He formed one of the earliest dojang\\'s for hapkido in the United States in Torrance, California, and has been featured in many magazine articles promoting the art.»\\n\u001b[0m\u001b[32m[\u001b[0m\u001b[32m3\u001b[0m\u001b[32m]\u001b[0m\u001b[32m «Hee Il Cho | Cho Hee Il \u001b[0m\u001b[32m(\u001b[0m\u001b[32mborn October 13, 1940\u001b[0m\u001b[32m)\u001b[0m\u001b[32m is a prominent Korean-American master of taekwondo, holding the rank of 9th \"dan\" in the martial art. He has written 11 martial art books, produced 70 martial art training videos, and has appeared on more than 70 martial arts magazine covers. Cho won several national and international competitions as a taekwondo competitor, and has appeared in several films, including \"Fight to Win\", \"Best of the Best\", \"Bloodsport II\", and \"Bloodsport III\". He founded the Action International Martial Arts Association \u001b[0m\u001b[32m(\u001b[0m\u001b[32mAIMAA\u001b[0m\u001b[32m)\u001b[0m\u001b[32m in 1980, and is its President. Cho is a member of both \"Black Belt\" magazine\\'s Hall of Fame and \"Tae Kwon Do Times\" magazine\\'s Hall of Fame.»\\n\\nReasoning: Let\\'s think step by step in order to determine which magazine has published articles by Scott Shaw. We know that \"Tae Kwon Do Times\" has published articles by Scott Shaw, so the answer is:\\n\\nAnswer: Tae Kwon Do Times\\n\\n---\\n\\nQuestion: Which American actress who made their film debut in the 1995 teen drama \"Kids\" was the co-founder of Voto Latino?\\n\\nContext:\\n\u001b[0m\u001b[32m[\u001b[0m\u001b[32m1\u001b[0m\u001b[32m]\u001b[0m\u001b[32m «Rosario Dawson | Rosario Isabel Dawson \u001b[0m\u001b[32m(\u001b[0m\u001b[32mborn May 9, 1979\u001b[0m\u001b[32m)\u001b[0m\u001b[32m is an American actress, producer, singer, comic book writer, and political activist. She made her film debut in the 1995 teen drama \"Kids\". Her subsequent film roles include \"He Got Game\", \"Men in Black II\", \"25th Hour\", \"Rent\", \"Sin City\", \"Death Proof\", \"Seven Pounds\", \"\", and \"Top Five\". Dawson has also provided voice-over work for Disney and DC.»\\n\u001b[0m\u001b[32m[\u001b[0m\u001b[32m2\u001b[0m\u001b[32m]\u001b[0m\u001b[32m «Sarai Gonzalez | Sarai Isaura Gonzalez \u001b[0m\u001b[32m(\u001b[0m\u001b[32mborn 2005\u001b[0m\u001b[32m)\u001b[0m\u001b[32m is an American Latina child actress who made her professional debut at the age of 11 on the Spanish-language \"\"Soy Yo\"\" \u001b[0m\u001b[32m(\u001b[0m\u001b[32m\"That\\'s Me\"\u001b[0m\u001b[32m)\u001b[0m\u001b[32m music video by Bomba Estéreo. Cast as a \"nerdy\" tween with a \"sassy\" and \"confident\" attitude, her performance turned her into a \"Latina icon\" for \"female empowerment, identity and self-worth\". She subsequently appeared in two get out the vote videos for Latinos in advance of the 2016 United States elections.»\\n\u001b[0m\u001b[32m[\u001b[0m\u001b[32m3\u001b[0m\u001b[32m]\u001b[0m\u001b[32m «Gabriela \u001b[0m\u001b[32m(\u001b[0m\u001b[32m2001 film\u001b[0m\u001b[32m)\u001b[0m\u001b[32m | Gabriela is a 2001 American romance film, starring Seidy Lopez in the title role alongside Jaime Gomez as her admirer Mike. The film has been cited as an inspiration behind the Premiere Weekend Club, which supports Latino film-making.»\\n\\nReasoning: Let\\'s think step by step in order to produce the answer. We know that the actress made her film debut in the 1995 teen drama \"Kids\" and is also the co-founder of Voto Latino.\\n\\nAnswer: Rosario Dawson\\n\\n---\\n\\nQuestion: What is the code name for the German offensive that started this Second World War engagement on the Eastern Front \u001b[0m\u001b[32m(\u001b[0m\u001b[32ma few hundred kilometers from Moscow\u001b[0m\u001b[32m)\u001b[0m\u001b[32m between Soviet and German forces, which included 102nd Infantry Division?\\n\\nContext:\\n\u001b[0m\u001b[32m[\u001b[0m\u001b[32m1\u001b[0m\u001b[32m]\u001b[0m\u001b[32m «Battle of Kursk | The Battle of Kursk was a Second World War engagement between German and Soviet forces on the Eastern Front near Kursk \u001b[0m\u001b[32m(\u001b[0m\u001b[32m450 km south-west of Moscow\u001b[0m\u001b[32m)\u001b[0m\u001b[32m in the Soviet Union during July and August 1943. The battle began with the launch of the German offensive, Operation Citadel \u001b[0m\u001b[32m(\u001b[0m\u001b[32mGerman: \"Unternehmen Zitadelle\" \u001b[0m\u001b[32m)\u001b[0m\u001b[32m, on 5 July, which had the objective of pinching off the Kursk salient with attacks on the base of the salient from north and south simultaneously. After the German offensive stalled on the northern side of the salient, on 12 July the Soviets commenced their Kursk Strategic Offensive Operation with the launch of Operation Kutuzov \u001b[0m\u001b[32m(\u001b[0m\u001b[32mRussian: Кутузов \u001b[0m\u001b[32m)\u001b[0m\u001b[32m against the rear of the German forces in the northern side. On the southern side, the Soviets also launched powerful counterattacks the same day, one of which led to a large armoured clash, the Battle of Prokhorovka. On 3 August, the Soviets began the second phase of the Kursk Strategic Offensive Operation with the launch of Operation Polkovodets Rumyantsev \u001b[0m\u001b[32m(\u001b[0m\u001b[32mRussian: Полководец Румянцев \u001b[0m\u001b[32m)\u001b[0m\u001b[32m against the German forces in the southern side of the Kursk salient.»\\n\u001b[0m\u001b[32m[\u001b[0m\u001b[32m2\u001b[0m\u001b[32m]\u001b[0m\u001b[32m «Operation Mars | Operation Mars, also known as the Second Rzhev-Sychevka Offensive Operation \u001b[0m\u001b[32m(\u001b[0m\u001b[32mRussian: Вторая Ржевско-Сычёвская наступательная операция\u001b[0m\u001b[32m)\u001b[0m\u001b[32m, was the codename for an offensive launched by Soviet forces against German forces during World War II. It took place between 25 November and 20 December 1942 around the Rzhev salient in the vicinity of Moscow.»\\n\u001b[0m\u001b[32m[\u001b[0m\u001b[32m3\u001b[0m\u001b[32m]\u001b[0m\u001b[32m «Kholm Pocket | The Kholm Pocket \u001b[0m\u001b[32m(\u001b[0m\u001b[32mGerman: \"Kessel von Cholm\" ; Russian: Холмский котёл \u001b[0m\u001b[32m)\u001b[0m\u001b[32m was the name given for the encirclement of German troops by the Red Army around Kholm south of Leningrad, during World War II on the Eastern Front, from 23 January 1942 until 5 May 1942. A much larger pocket was simultaneously surrounded in Demyansk, about 100 km to the northeast. These were the results of German retreat following their defeat during the Battle of Moscow.»\\n\\nReasoning: Let\\'s think step by step in order to produce the answer. We know that the German offensive that started this Second World War engagement on the Eastern Front was called Operation Citadel, also known as \"Unternehmen Zitadelle.\"\\n\\nAnswer: Operation Citadel\\n\\n---\\n\\nQuestion: Who acted in the shot film The Shore and is also the youngest actress ever to play Ophelia in a Royal Shakespeare Company production of \"Hamlet.\" ?\\n\\nContext:\\n\u001b[0m\u001b[32m[\u001b[0m\u001b[32m1\u001b[0m\u001b[32m]\u001b[0m\u001b[32m «Kerry Condon | Kerry Condon \u001b[0m\u001b[32m(\u001b[0m\u001b[32mborn 4 January 1983\u001b[0m\u001b[32m)\u001b[0m\u001b[32m is an Irish television and film actress, best known for her role as Octavia of the Julii in the HBO/BBC series \"Rome,\" as Stacey Ehrmantraut in AMC\\'s \"Better Call Saul\" and as the voice of F.R.I.D.A.Y. in various films in the Marvel Cinematic Universe. She is also the youngest actress ever to play Ophelia in a Royal Shakespeare Company production of \"Hamlet.\"»\\n\u001b[0m\u001b[32m[\u001b[0m\u001b[32m2\u001b[0m\u001b[32m]\u001b[0m\u001b[32m «Corona Riccardo | Corona Riccardo \u001b[0m\u001b[32m(\u001b[0m\u001b[32mc. 1878October 15, 1917\u001b[0m\u001b[32m)\u001b[0m\u001b[32m was an Italian born American actress who had a brief Broadway stage career before leaving to become a wife and mother. Born in Naples she came to acting in 1894 playing a Mexican girl in a play at the Empire Theatre. Wilson Barrett engaged her for a role in his play \"The Sign of the Cross\" which he took on tour of the United States. Riccardo played the role of Ancaria and later played Berenice in the same play. Robert B. Mantell in 1898 who struck by her beauty also cast her in two Shakespeare plays, \"Romeo and Juliet\" and \"Othello\". Author Lewis Strang writing in 1899 said Riccardo was the most promising actress in America at the time. Towards the end of 1898 Mantell chose her for another Shakespeare part, Ophelia im Hamlet. Afterwards she was due to join Augustin Daly\\'s Theatre Company but Daly died in 1899. In 1899 she gained her biggest fame by playing Iras in the first stage production of Ben-Hur.»\\n\u001b[0m\u001b[32m[\u001b[0m\u001b[32m3\u001b[0m\u001b[32m]\u001b[0m\u001b[32m «Judi Dench | Dame Judith Olivia \"Judi\" Dench, \u001b[0m\u001b[32m{\u001b[0m\u001b[32m\\'1\\': \", \\'2\\': \", \\'3\\': \", \\'4\\': \"\u001b[0m\u001b[32m}\u001b[0m\u001b[32m \u001b[0m\u001b[32m(\u001b[0m\u001b[32mborn 9 December 1934\u001b[0m\u001b[32m)\u001b[0m\u001b[32m is an English actress and author. Dench made her professional debut in 1957 with the Old Vic Company. Over the following few years, she performed in several of Shakespeare\\'s plays in such roles as Ophelia in \"Hamlet\", Juliet in \"Romeo and Juliet\", and Lady Macbeth in \"Macbeth\". Although most of her work during this period was in theatre, she also branched into film work and won a BAFTA Award as Most Promising Newcomer. She drew strong reviews for her leading role in the musical \"Cabaret\" in 1968.»\\n\\nReasoning: Let\\'s think step by step in order to produce the answer. We need to identify the actress who played Ophelia in a Royal Shakespeare Company production of \"Hamlet.\"\\n\\nAnswer: Kerry Condon\\n\\n---\\n\\nQuestion: Who is the current president of the United States?\\n\\nContext:\\n\u001b[0m\u001b[32m[\u001b[0m\u001b[32m1\u001b[0m\u001b[32m]\u001b[0m\u001b[32m «President of the United States \u001b[0m\u001b[32m(\u001b[0m\u001b[32mdisambiguation\u001b[0m\u001b[32m)\u001b[0m\u001b[32m | The President of the United States \u001b[0m\u001b[32m(\u001b[0m\u001b[32mof America\u001b[0m\u001b[32m)\u001b[0m\u001b[32m has been chief of the United States executive branch since 1789. The current U.S. President is Donald Trump.»\\n\u001b[0m\u001b[32m[\u001b[0m\u001b[32m2\u001b[0m\u001b[32m]\u001b[0m\u001b[32m «Donald Trump | Donald John Trump \u001b[0m\u001b[32m(\u001b[0m\u001b[32mborn June 14, 1946\u001b[0m\u001b[32m)\u001b[0m\u001b[32m is the 45th and current President of the United States, in office since January 20, 2017. Before entering politics, he was a businessman and television personality.»\\n\u001b[0m\u001b[32m[\u001b[0m\u001b[32m3\u001b[0m\u001b[32m]\u001b[0m\u001b[32m «President of Mexico | The President of the United Mexican States \u001b[0m\u001b[32m(\u001b[0m\u001b[32mSpanish: \"Presidente de los Estados Unidos Mexicanos\" \u001b[0m\u001b[32m)\u001b[0m\u001b[32m is the head of state and government of Mexico. Under the Constitution, the president is also the Supreme Commander of the Mexican armed forces. The current President is Enrique Peña Nieto, who took office on December 1, 2012.»\\n\\nReasoning: Let\\'s think step by step in order to\\x1b\u001b[0m\u001b[32m[\u001b[0m\u001b[32m32m produce the answer. We know that the current president of the United States is Donald Trump.\\n\\nAnswer: Donald Trump\\x1b\u001b[0m\u001b[32m[\u001b[0m\u001b[32m0m\\n\\n\\n'\u001b[0m"
      ]
     },
     "execution_count": 34,
     "metadata": {},
     "output_type": "execute_result"
    }
   ],
   "source": [
    "turbo.inspect_history(n=1)"
   ]
  },
  {
   "cell_type": "code",
   "execution_count": 35,
   "metadata": {},
   "outputs": [
    {
     "data": {
      "text/html": [
       "<pre style=\"white-space:pre;overflow-x:auto;line-height:normal;font-family:Menlo,'DejaVu Sans Mono',consolas,'Courier New',monospace\">generate_answer\n",
       "</pre>\n"
      ],
      "text/plain": [
       "generate_answer\n"
      ]
     },
     "metadata": {},
     "output_type": "display_data"
    },
    {
     "data": {
      "text/html": [
       "<pre style=\"white-space:pre;overflow-x:auto;line-height:normal;font-family:Menlo,'DejaVu Sans Mono',consolas,'Courier New',monospace\"><span style=\"color: #800080; text-decoration-color: #800080; font-weight: bold\">Example</span><span style=\"font-weight: bold\">({</span><span style=\"color: #008000; text-decoration-color: #008000\">'augmented'</span>: <span style=\"color: #00ff00; text-decoration-color: #00ff00; font-style: italic\">True</span>, <span style=\"color: #008000; text-decoration-color: #008000\">'context'</span>: <span style=\"font-weight: bold\">[</span><span style=\"color: #008000; text-decoration-color: #008000\">'Tae Kwon Do Times | Tae Kwon Do Times is a magazine devoted to the martial</span>\n",
       "<span style=\"color: #008000; text-decoration-color: #008000\">art of taekwondo, and is published in the United States of America. While the title suggests that it focuses on </span>\n",
       "<span style=\"color: #008000; text-decoration-color: #008000\">taekwondo exclusively, the magazine also covers other Korean martial arts. \"Tae Kwon Do Times\" has published </span>\n",
       "<span style=\"color: #008000; text-decoration-color: #008000\">articles by a wide range of authors, including He-Young Kimm, Thomas Kurz, Scott Shaw, and Mark Van Schuyver.'</span>, \n",
       "<span style=\"color: #008000; text-decoration-color: #008000\">\"Kwon Tae-man | Kwon Tae-man (born 1941) was an early Korean hapkido practitioner and a pioneer of the art, first </span>\n",
       "<span style=\"color: #008000; text-decoration-color: #008000\">in Korea and then in the United States. He formed one of the earliest dojang's for hapkido in the United States in </span>\n",
       "<span style=\"color: #008000; text-decoration-color: #008000\">Torrance, California, and has been featured in many magazine articles promoting the art.\"</span>, <span style=\"color: #008000; text-decoration-color: #008000\">'Hee Il Cho | Cho Hee Il</span>\n",
       "<span style=\"color: #008000; text-decoration-color: #008000\">(born October 13, 1940) is a prominent Korean-American master of taekwondo, holding the rank of 9th \"dan\" in the </span>\n",
       "<span style=\"color: #008000; text-decoration-color: #008000\">martial art. He has written 11 martial art books, produced 70 martial art training videos, and has appeared on more</span>\n",
       "<span style=\"color: #008000; text-decoration-color: #008000\">than 70 martial arts magazine covers. Cho won several national and international competitions as a taekwondo </span>\n",
       "<span style=\"color: #008000; text-decoration-color: #008000\">competitor, and has appeared in several films, including \"Fight to Win\", \"Best of the Best\", \"Bloodsport II\", and </span>\n",
       "<span style=\"color: #008000; text-decoration-color: #008000\">\"Bloodsport III\". He founded the Action International Martial Arts Association (AIMAA) in 1980, and is its </span>\n",
       "<span style=\"color: #008000; text-decoration-color: #008000\">President. Cho is a member of both \"Black Belt\" magazine\\'s Hall of Fame and \"Tae Kwon Do Times\" magazine\\'s Hall </span>\n",
       "<span style=\"color: #008000; text-decoration-color: #008000\">of Fame.'</span><span style=\"font-weight: bold\">]</span>, <span style=\"color: #008000; text-decoration-color: #008000\">'question'</span>: <span style=\"color: #008000; text-decoration-color: #008000\">'Which magazine has published articles by Scott Shaw, Tae Kwon Do Times or Southwest Art?'</span>,\n",
       "<span style=\"color: #008000; text-decoration-color: #008000\">'rationale'</span>: <span style=\"color: #008000; text-decoration-color: #008000\">'determine which magazine has published articles by Scott Shaw. We know that \"Tae Kwon Do Times\" has </span>\n",
       "<span style=\"color: #008000; text-decoration-color: #008000\">published articles by Scott Shaw, so the answer is:'</span>, <span style=\"color: #008000; text-decoration-color: #008000\">'answer'</span>: <span style=\"color: #008000; text-decoration-color: #008000\">'Tae Kwon Do Times'</span><span style=\"font-weight: bold\">})</span> <span style=\"font-weight: bold\">(</span><span style=\"color: #808000; text-decoration-color: #808000\">input_keys</span>=<span style=\"color: #800080; text-decoration-color: #800080; font-style: italic\">None</span><span style=\"font-weight: bold\">)</span>\n",
       "</pre>\n"
      ],
      "text/plain": [
       "\u001b[1;35mExample\u001b[0m\u001b[1m(\u001b[0m\u001b[1m{\u001b[0m\u001b[32m'augmented'\u001b[0m: \u001b[3;92mTrue\u001b[0m, \u001b[32m'context'\u001b[0m: \u001b[1m[\u001b[0m\u001b[32m'Tae Kwon Do Times | Tae Kwon Do Times is a magazine devoted to the martial\u001b[0m\n",
       "\u001b[32mart of taekwondo, and is published in the United States of America. While the title suggests that it focuses on \u001b[0m\n",
       "\u001b[32mtaekwondo exclusively, the magazine also covers other Korean martial arts. \"Tae Kwon Do Times\" has published \u001b[0m\n",
       "\u001b[32marticles by a wide range of authors, including He-Young Kimm, Thomas Kurz, Scott Shaw, and Mark Van Schuyver.'\u001b[0m, \n",
       "\u001b[32m\"Kwon Tae-man | Kwon Tae-man \u001b[0m\u001b[32m(\u001b[0m\u001b[32mborn 1941\u001b[0m\u001b[32m)\u001b[0m\u001b[32m was an early Korean hapkido practitioner and a pioneer of the art, first \u001b[0m\n",
       "\u001b[32min Korea and then in the United States. He formed one of the earliest dojang's for hapkido in the United States in \u001b[0m\n",
       "\u001b[32mTorrance, California, and has been featured in many magazine articles promoting the art.\"\u001b[0m, \u001b[32m'Hee Il Cho | Cho Hee Il\u001b[0m\n",
       "\u001b[32m(\u001b[0m\u001b[32mborn October 13, 1940\u001b[0m\u001b[32m)\u001b[0m\u001b[32m is a prominent Korean-American master of taekwondo, holding the rank of 9th \"dan\" in the \u001b[0m\n",
       "\u001b[32mmartial art. He has written 11 martial art books, produced 70 martial art training videos, and has appeared on more\u001b[0m\n",
       "\u001b[32mthan 70 martial arts magazine covers. Cho won several national and international competitions as a taekwondo \u001b[0m\n",
       "\u001b[32mcompetitor, and has appeared in several films, including \"Fight to Win\", \"Best of the Best\", \"Bloodsport II\", and \u001b[0m\n",
       "\u001b[32m\"Bloodsport III\". He founded the Action International Martial Arts Association \u001b[0m\u001b[32m(\u001b[0m\u001b[32mAIMAA\u001b[0m\u001b[32m)\u001b[0m\u001b[32m in 1980, and is its \u001b[0m\n",
       "\u001b[32mPresident. Cho is a member of both \"Black Belt\" magazine\\'s Hall of Fame and \"Tae Kwon Do Times\" magazine\\'s Hall \u001b[0m\n",
       "\u001b[32mof Fame.'\u001b[0m\u001b[1m]\u001b[0m, \u001b[32m'question'\u001b[0m: \u001b[32m'Which magazine has published articles by Scott Shaw, Tae Kwon Do Times or Southwest Art?'\u001b[0m,\n",
       "\u001b[32m'rationale'\u001b[0m: \u001b[32m'determine which magazine has published articles by Scott Shaw. We know that \"Tae Kwon Do Times\" has \u001b[0m\n",
       "\u001b[32mpublished articles by Scott Shaw, so the answer is:'\u001b[0m, \u001b[32m'answer'\u001b[0m: \u001b[32m'Tae Kwon Do Times'\u001b[0m\u001b[1m}\u001b[0m\u001b[1m)\u001b[0m \u001b[1m(\u001b[0m\u001b[33minput_keys\u001b[0m=\u001b[3;35mNone\u001b[0m\u001b[1m)\u001b[0m\n"
      ]
     },
     "metadata": {},
     "output_type": "display_data"
    },
    {
     "data": {
      "text/html": [
       "<pre style=\"white-space:pre;overflow-x:auto;line-height:normal;font-family:Menlo,'DejaVu Sans Mono',consolas,'Courier New',monospace\">\n",
       "</pre>\n"
      ],
      "text/plain": [
       "\n"
      ]
     },
     "metadata": {},
     "output_type": "display_data"
    }
   ],
   "source": [
    "for name, parameter in compiled_rag.named_predictors():\n",
    "    print(name)\n",
    "    print(parameter.demos[0])\n",
    "    print()"
   ]
  },
  {
   "cell_type": "code",
   "execution_count": 36,
   "metadata": {},
   "outputs": [
    {
     "name": "stderr",
     "output_type": "stream",
     "text": [
      "Average Metric: 27 / 43  (62.8):  84%|████████▍ | 42/50 [00:00<00:00, 61.58it/s]"
     ]
    },
    {
     "name": "stderr",
     "output_type": "stream",
     "text": [
      "Average Metric: 28 / 50  (56.0): 100%|██████████| 50/50 [00:00<00:00, 59.74it/s]\n"
     ]
    },
    {
     "name": "stdout",
     "output_type": "stream",
     "text": [
      "Average Metric: 28 / 50  (56.0%)\n"
     ]
    },
    {
     "name": "stderr",
     "output_type": "stream",
     "text": [
      "e:\\Projects\\langchain_rag\\venv\\lib\\site-packages\\dspy\\evaluate\\evaluate.py:266: FutureWarning: Setting an item of incompatible dtype is deprecated and will raise in a future error of pandas. Value '['✔️ [True]' '✔️ [True]' '✔️ [True]' '✔️ [True]' '✔️ [True]']' has dtype incompatible with bool, please explicitly cast to a compatible dtype first.\n",
      "  df.loc[:, metric_name] = df[metric_name].apply(\n"
     ]
    },
    {
     "data": {
      "text/html": [
       "<pre style=\"white-space:pre;overflow-x:auto;line-height:normal;font-family:Menlo,'DejaVu Sans Mono',consolas,'Courier New',monospace\"></pre>\n"
      ],
      "text/plain": []
     },
     "metadata": {},
     "output_type": "display_data"
    },
    {
     "data": {
      "text/html": [
       "<style type=\"text/css\">\n",
       "#T_8aee5 th {\n",
       "  text-align: left;\n",
       "}\n",
       "#T_8aee5 td {\n",
       "  text-align: left;\n",
       "}\n",
       "#T_8aee5_row0_col0, #T_8aee5_row0_col1, #T_8aee5_row0_col2, #T_8aee5_row0_col3, #T_8aee5_row0_col4, #T_8aee5_row0_col5, #T_8aee5_row1_col0, #T_8aee5_row1_col1, #T_8aee5_row1_col2, #T_8aee5_row1_col3, #T_8aee5_row1_col4, #T_8aee5_row1_col5, #T_8aee5_row2_col0, #T_8aee5_row2_col1, #T_8aee5_row2_col2, #T_8aee5_row2_col3, #T_8aee5_row2_col4, #T_8aee5_row2_col5, #T_8aee5_row3_col0, #T_8aee5_row3_col1, #T_8aee5_row3_col2, #T_8aee5_row3_col3, #T_8aee5_row3_col4, #T_8aee5_row3_col5, #T_8aee5_row4_col0, #T_8aee5_row4_col1, #T_8aee5_row4_col2, #T_8aee5_row4_col3, #T_8aee5_row4_col4, #T_8aee5_row4_col5 {\n",
       "  text-align: left;\n",
       "  white-space: pre-wrap;\n",
       "  word-wrap: break-word;\n",
       "  max-width: 400px;\n",
       "}\n",
       "</style>\n",
       "<table id=\"T_8aee5\">\n",
       "  <thead>\n",
       "    <tr>\n",
       "      <th class=\"blank level0\" >&nbsp;</th>\n",
       "      <th id=\"T_8aee5_level0_col0\" class=\"col_heading level0 col0\" >question</th>\n",
       "      <th id=\"T_8aee5_level0_col1\" class=\"col_heading level0 col1\" >example_answer</th>\n",
       "      <th id=\"T_8aee5_level0_col2\" class=\"col_heading level0 col2\" >gold_titles</th>\n",
       "      <th id=\"T_8aee5_level0_col3\" class=\"col_heading level0 col3\" >context</th>\n",
       "      <th id=\"T_8aee5_level0_col4\" class=\"col_heading level0 col4\" >pred_answer</th>\n",
       "      <th id=\"T_8aee5_level0_col5\" class=\"col_heading level0 col5\" >answer_exact_match</th>\n",
       "    </tr>\n",
       "  </thead>\n",
       "  <tbody>\n",
       "    <tr>\n",
       "      <th id=\"T_8aee5_level0_row0\" class=\"row_heading level0 row0\" >0</th>\n",
       "      <td id=\"T_8aee5_row0_col0\" class=\"data row0 col0\" >Are both Cangzhou and Qionghai in the Hebei province of China?</td>\n",
       "      <td id=\"T_8aee5_row0_col1\" class=\"data row0 col1\" >no</td>\n",
       "      <td id=\"T_8aee5_row0_col2\" class=\"data row0 col2\" >{'Cangzhou', 'Qionghai'}</td>\n",
       "      <td id=\"T_8aee5_row0_col3\" class=\"data row0 col3\" >['Cangzhou | Cangzhou () is a prefecture-level city in eastern Hebei province, People\\'s Republic of China. At the 2010 census, Cangzhou\\'s built-up (\"or metro\") area...</td>\n",
       "      <td id=\"T_8aee5_row0_col4\" class=\"data row0 col4\" >No</td>\n",
       "      <td id=\"T_8aee5_row0_col5\" class=\"data row0 col5\" >✔️ [True]</td>\n",
       "    </tr>\n",
       "    <tr>\n",
       "      <th id=\"T_8aee5_level0_row1\" class=\"row_heading level0 row1\" >1</th>\n",
       "      <td id=\"T_8aee5_row1_col0\" class=\"data row1 col0\" >Who conducts the draft in which Marc-Andre Fleury was drafted to the Vegas Golden Knights for the 2017-18 season?</td>\n",
       "      <td id=\"T_8aee5_row1_col1\" class=\"data row1 col1\" >National Hockey League</td>\n",
       "      <td id=\"T_8aee5_row1_col2\" class=\"data row1 col2\" >{'2017–18 Pittsburgh Penguins season', '2017 NHL Expansion Draft'}</td>\n",
       "      <td id=\"T_8aee5_row1_col3\" class=\"data row1 col3\" >['2017–18 Pittsburgh Penguins season | The 2017–18 Pittsburgh Penguins season will be the 51st season for the National Hockey League ice hockey team that was...</td>\n",
       "      <td id=\"T_8aee5_row1_col4\" class=\"data row1 col4\" >National Hockey League</td>\n",
       "      <td id=\"T_8aee5_row1_col5\" class=\"data row1 col5\" >✔️ [True]</td>\n",
       "    </tr>\n",
       "    <tr>\n",
       "      <th id=\"T_8aee5_level0_row2\" class=\"row_heading level0 row2\" >2</th>\n",
       "      <td id=\"T_8aee5_row2_col0\" class=\"data row2 col0\" >The Wings entered a new era, following the retirement of which Canadian retired professional ice hockey player and current general manager of the Tampa Bay...</td>\n",
       "      <td id=\"T_8aee5_row2_col1\" class=\"data row2 col1\" >Steve Yzerman</td>\n",
       "      <td id=\"T_8aee5_row2_col2\" class=\"data row2 col2\" >{'2006–07 Detroit Red Wings season', 'Steve Yzerman'}</td>\n",
       "      <td id=\"T_8aee5_row2_col3\" class=\"data row2 col3\" >['Steve Yzerman | Stephen Gregory \"Steve\" Yzerman ( ; born May 9, 1965) is a Canadian retired professional ice hockey player and current general manager...</td>\n",
       "      <td id=\"T_8aee5_row2_col4\" class=\"data row2 col4\" >Steve Yzerman</td>\n",
       "      <td id=\"T_8aee5_row2_col5\" class=\"data row2 col5\" >✔️ [True]</td>\n",
       "    </tr>\n",
       "    <tr>\n",
       "      <th id=\"T_8aee5_level0_row3\" class=\"row_heading level0 row3\" >3</th>\n",
       "      <td id=\"T_8aee5_row3_col0\" class=\"data row3 col0\" >What river is near the Crichton Collegiate Church?</td>\n",
       "      <td id=\"T_8aee5_row3_col1\" class=\"data row3 col1\" >the River Tyne</td>\n",
       "      <td id=\"T_8aee5_row3_col2\" class=\"data row3 col2\" >{'Crichton Collegiate Church', 'Crichton Castle'}</td>\n",
       "      <td id=\"T_8aee5_row3_col3\" class=\"data row3 col3\" >[\"Crichton Collegiate Church | Crichton Collegiate Church is situated about 0.6 mi south west of the hamlet of Crichton in Midlothian, Scotland. Crichton itself is...</td>\n",
       "      <td id=\"T_8aee5_row3_col4\" class=\"data row3 col4\" >River Tyne</td>\n",
       "      <td id=\"T_8aee5_row3_col5\" class=\"data row3 col5\" >✔️ [True]</td>\n",
       "    </tr>\n",
       "    <tr>\n",
       "      <th id=\"T_8aee5_level0_row4\" class=\"row_heading level0 row4\" >4</th>\n",
       "      <td id=\"T_8aee5_row4_col0\" class=\"data row4 col0\" >In the 10th Century A.D. Ealhswith had a son called Æthelweard by which English king?</td>\n",
       "      <td id=\"T_8aee5_row4_col1\" class=\"data row4 col1\" >King Alfred the Great</td>\n",
       "      <td id=\"T_8aee5_row4_col2\" class=\"data row4 col2\" >{'Ealhswith', 'Æthelweard (son of Alfred)'}</td>\n",
       "      <td id=\"T_8aee5_row4_col3\" class=\"data row4 col3\" >[\"Æthelweard of East Anglia | Æthelweard (died 854) was a 9th-century king of East Anglia, the long-lived Anglo-Saxon kingdom which today includes the English counties...</td>\n",
       "      <td id=\"T_8aee5_row4_col4\" class=\"data row4 col4\" >King Alfred the Great</td>\n",
       "      <td id=\"T_8aee5_row4_col5\" class=\"data row4 col5\" >✔️ [True]</td>\n",
       "    </tr>\n",
       "  </tbody>\n",
       "</table>\n"
      ],
      "text/plain": [
       "\u001b[1m<\u001b[0m\u001b[1;95mpandas.io.formats.style.Styler\u001b[0m\u001b[39m object at \u001b[0m\u001b[1;36m0x0000023C79CBE560\u001b[0m\u001b[1m>\u001b[0m"
      ]
     },
     "metadata": {},
     "output_type": "display_data"
    },
    {
     "data": {
      "text/html": [
       "<pre style=\"white-space:pre;overflow-x:auto;line-height:normal;font-family:Menlo,'DejaVu Sans Mono',consolas,'Courier New',monospace\"></pre>\n"
      ],
      "text/plain": []
     },
     "metadata": {},
     "output_type": "display_data"
    },
    {
     "data": {
      "text/html": [
       "\n",
       "                <div style='\n",
       "                    text-align: center;\n",
       "                    font-size: 16px;\n",
       "                    font-weight: bold;\n",
       "                    color: #555;\n",
       "                    margin: 10px 0;'>\n",
       "                    ... 45 more rows not displayed ...\n",
       "                </div>\n",
       "                "
      ],
      "text/plain": [
       "\u001b[1m<\u001b[0m\u001b[1;95mIPython.core.display.HTML\u001b[0m\u001b[39m object\u001b[0m\u001b[1m>\u001b[0m"
      ]
     },
     "metadata": {},
     "output_type": "display_data"
    },
    {
     "data": {
      "text/html": [
       "<pre style=\"white-space:pre;overflow-x:auto;line-height:normal;font-family:Menlo,'DejaVu Sans Mono',consolas,'Courier New',monospace\"></pre>\n"
      ],
      "text/plain": []
     },
     "metadata": {},
     "output_type": "display_data"
    },
    {
     "data": {
      "text/plain": [
       "\u001b[1;36m56.0\u001b[0m"
      ]
     },
     "execution_count": 36,
     "metadata": {},
     "output_type": "execute_result"
    }
   ],
   "source": [
    "evaluate_on_hotpotqa = Evaluate(\n",
    "    devset=devset_hpqa,\n",
    "    num_threads=4,\n",
    "    display_progress=True,\n",
    "    display_table=5,\n",
    "    metric=ds.evaluate.answer_exact_match,\n",
    ")\n",
    "\n",
    "evaluate_on_hotpotqa(compiled_rag)"
   ]
  },
  {
   "cell_type": "code",
   "execution_count": 37,
   "metadata": {},
   "outputs": [
    {
     "name": "stderr",
     "output_type": "stream",
     "text": [
      "Average Metric: 13 / 50  (26.0): 100%|██████████| 50/50 [00:00<00:00, 276.56it/s]\n"
     ]
    },
    {
     "name": "stdout",
     "output_type": "stream",
     "text": [
      "Average Metric: 13 / 50  (26.0%)\n"
     ]
    },
    {
     "name": "stderr",
     "output_type": "stream",
     "text": [
      "e:\\Projects\\langchain_rag\\venv\\lib\\site-packages\\dspy\\evaluate\\evaluate.py:266: FutureWarning: Setting an item of incompatible dtype is deprecated and will raise in a future error of pandas. Value '['False' '✔️ [True]' '✔️ [True]' '✔️ [True]' 'False']' has dtype incompatible with bool, please explicitly cast to a compatible dtype first.\n",
      "  df.loc[:, metric_name] = df[metric_name].apply(\n"
     ]
    },
    {
     "data": {
      "text/html": [
       "<pre style=\"white-space:pre;overflow-x:auto;line-height:normal;font-family:Menlo,'DejaVu Sans Mono',consolas,'Courier New',monospace\"></pre>\n"
      ],
      "text/plain": []
     },
     "metadata": {},
     "output_type": "display_data"
    },
    {
     "data": {
      "text/html": [
       "<style type=\"text/css\">\n",
       "#T_91efb th {\n",
       "  text-align: left;\n",
       "}\n",
       "#T_91efb td {\n",
       "  text-align: left;\n",
       "}\n",
       "#T_91efb_row0_col0, #T_91efb_row0_col1, #T_91efb_row0_col2, #T_91efb_row0_col3, #T_91efb_row0_col4, #T_91efb_row0_col5, #T_91efb_row1_col0, #T_91efb_row1_col1, #T_91efb_row1_col2, #T_91efb_row1_col3, #T_91efb_row1_col4, #T_91efb_row1_col5, #T_91efb_row2_col0, #T_91efb_row2_col1, #T_91efb_row2_col2, #T_91efb_row2_col3, #T_91efb_row2_col4, #T_91efb_row2_col5, #T_91efb_row3_col0, #T_91efb_row3_col1, #T_91efb_row3_col2, #T_91efb_row3_col3, #T_91efb_row3_col4, #T_91efb_row3_col5, #T_91efb_row4_col0, #T_91efb_row4_col1, #T_91efb_row4_col2, #T_91efb_row4_col3, #T_91efb_row4_col4, #T_91efb_row4_col5 {\n",
       "  text-align: left;\n",
       "  white-space: pre-wrap;\n",
       "  word-wrap: break-word;\n",
       "  max-width: 400px;\n",
       "}\n",
       "</style>\n",
       "<table id=\"T_91efb\">\n",
       "  <thead>\n",
       "    <tr>\n",
       "      <th class=\"blank level0\" >&nbsp;</th>\n",
       "      <th id=\"T_91efb_level0_col0\" class=\"col_heading level0 col0\" >question</th>\n",
       "      <th id=\"T_91efb_level0_col1\" class=\"col_heading level0 col1\" >example_answer</th>\n",
       "      <th id=\"T_91efb_level0_col2\" class=\"col_heading level0 col2\" >gold_titles</th>\n",
       "      <th id=\"T_91efb_level0_col3\" class=\"col_heading level0 col3\" >context</th>\n",
       "      <th id=\"T_91efb_level0_col4\" class=\"col_heading level0 col4\" >pred_answer</th>\n",
       "      <th id=\"T_91efb_level0_col5\" class=\"col_heading level0 col5\" >gold_passages_retrieved</th>\n",
       "    </tr>\n",
       "  </thead>\n",
       "  <tbody>\n",
       "    <tr>\n",
       "      <th id=\"T_91efb_level0_row0\" class=\"row_heading level0 row0\" >0</th>\n",
       "      <td id=\"T_91efb_row0_col0\" class=\"data row0 col0\" >Are both Cangzhou and Qionghai in the Hebei province of China?</td>\n",
       "      <td id=\"T_91efb_row0_col1\" class=\"data row0 col1\" >no</td>\n",
       "      <td id=\"T_91efb_row0_col2\" class=\"data row0 col2\" >{'Cangzhou', 'Qionghai'}</td>\n",
       "      <td id=\"T_91efb_row0_col3\" class=\"data row0 col3\" >['Cangzhou | Cangzhou () is a prefecture-level city in eastern Hebei province, People\\'s Republic of China. At the 2010 census, Cangzhou\\'s built-up (\"or metro\") area...</td>\n",
       "      <td id=\"T_91efb_row0_col4\" class=\"data row0 col4\" >No</td>\n",
       "      <td id=\"T_91efb_row0_col5\" class=\"data row0 col5\" >False</td>\n",
       "    </tr>\n",
       "    <tr>\n",
       "      <th id=\"T_91efb_level0_row1\" class=\"row_heading level0 row1\" >1</th>\n",
       "      <td id=\"T_91efb_row1_col0\" class=\"data row1 col0\" >Who conducts the draft in which Marc-Andre Fleury was drafted to the Vegas Golden Knights for the 2017-18 season?</td>\n",
       "      <td id=\"T_91efb_row1_col1\" class=\"data row1 col1\" >National Hockey League</td>\n",
       "      <td id=\"T_91efb_row1_col2\" class=\"data row1 col2\" >{'2017–18 Pittsburgh Penguins season', '2017 NHL Expansion Draft'}</td>\n",
       "      <td id=\"T_91efb_row1_col3\" class=\"data row1 col3\" >['2017–18 Pittsburgh Penguins season | The 2017–18 Pittsburgh Penguins season will be the 51st season for the National Hockey League ice hockey team that was...</td>\n",
       "      <td id=\"T_91efb_row1_col4\" class=\"data row1 col4\" >National Hockey League</td>\n",
       "      <td id=\"T_91efb_row1_col5\" class=\"data row1 col5\" >✔️ [True]</td>\n",
       "    </tr>\n",
       "    <tr>\n",
       "      <th id=\"T_91efb_level0_row2\" class=\"row_heading level0 row2\" >2</th>\n",
       "      <td id=\"T_91efb_row2_col0\" class=\"data row2 col0\" >The Wings entered a new era, following the retirement of which Canadian retired professional ice hockey player and current general manager of the Tampa Bay...</td>\n",
       "      <td id=\"T_91efb_row2_col1\" class=\"data row2 col1\" >Steve Yzerman</td>\n",
       "      <td id=\"T_91efb_row2_col2\" class=\"data row2 col2\" >{'2006–07 Detroit Red Wings season', 'Steve Yzerman'}</td>\n",
       "      <td id=\"T_91efb_row2_col3\" class=\"data row2 col3\" >['Steve Yzerman | Stephen Gregory \"Steve\" Yzerman ( ; born May 9, 1965) is a Canadian retired professional ice hockey player and current general manager...</td>\n",
       "      <td id=\"T_91efb_row2_col4\" class=\"data row2 col4\" >Steve Yzerman</td>\n",
       "      <td id=\"T_91efb_row2_col5\" class=\"data row2 col5\" >✔️ [True]</td>\n",
       "    </tr>\n",
       "    <tr>\n",
       "      <th id=\"T_91efb_level0_row3\" class=\"row_heading level0 row3\" >3</th>\n",
       "      <td id=\"T_91efb_row3_col0\" class=\"data row3 col0\" >What river is near the Crichton Collegiate Church?</td>\n",
       "      <td id=\"T_91efb_row3_col1\" class=\"data row3 col1\" >the River Tyne</td>\n",
       "      <td id=\"T_91efb_row3_col2\" class=\"data row3 col2\" >{'Crichton Collegiate Church', 'Crichton Castle'}</td>\n",
       "      <td id=\"T_91efb_row3_col3\" class=\"data row3 col3\" >[\"Crichton Collegiate Church | Crichton Collegiate Church is situated about 0.6 mi south west of the hamlet of Crichton in Midlothian, Scotland. Crichton itself is...</td>\n",
       "      <td id=\"T_91efb_row3_col4\" class=\"data row3 col4\" >River Tyne</td>\n",
       "      <td id=\"T_91efb_row3_col5\" class=\"data row3 col5\" >✔️ [True]</td>\n",
       "    </tr>\n",
       "    <tr>\n",
       "      <th id=\"T_91efb_level0_row4\" class=\"row_heading level0 row4\" >4</th>\n",
       "      <td id=\"T_91efb_row4_col0\" class=\"data row4 col0\" >In the 10th Century A.D. Ealhswith had a son called Æthelweard by which English king?</td>\n",
       "      <td id=\"T_91efb_row4_col1\" class=\"data row4 col1\" >King Alfred the Great</td>\n",
       "      <td id=\"T_91efb_row4_col2\" class=\"data row4 col2\" >{'Ealhswith', 'Æthelweard (son of Alfred)'}</td>\n",
       "      <td id=\"T_91efb_row4_col3\" class=\"data row4 col3\" >[\"Æthelweard of East Anglia | Æthelweard (died 854) was a 9th-century king of East Anglia, the long-lived Anglo-Saxon kingdom which today includes the English counties...</td>\n",
       "      <td id=\"T_91efb_row4_col4\" class=\"data row4 col4\" >King Alfred the Great</td>\n",
       "      <td id=\"T_91efb_row4_col5\" class=\"data row4 col5\" >False</td>\n",
       "    </tr>\n",
       "  </tbody>\n",
       "</table>\n"
      ],
      "text/plain": [
       "\u001b[1m<\u001b[0m\u001b[1;95mpandas.io.formats.style.Styler\u001b[0m\u001b[39m object at \u001b[0m\u001b[1;36m0x0000023C79FA8E50\u001b[0m\u001b[1m>\u001b[0m"
      ]
     },
     "metadata": {},
     "output_type": "display_data"
    },
    {
     "data": {
      "text/html": [
       "<pre style=\"white-space:pre;overflow-x:auto;line-height:normal;font-family:Menlo,'DejaVu Sans Mono',consolas,'Courier New',monospace\"></pre>\n"
      ],
      "text/plain": []
     },
     "metadata": {},
     "output_type": "display_data"
    },
    {
     "data": {
      "text/html": [
       "\n",
       "                <div style='\n",
       "                    text-align: center;\n",
       "                    font-size: 16px;\n",
       "                    font-weight: bold;\n",
       "                    color: #555;\n",
       "                    margin: 10px 0;'>\n",
       "                    ... 45 more rows not displayed ...\n",
       "                </div>\n",
       "                "
      ],
      "text/plain": [
       "\u001b[1m<\u001b[0m\u001b[1;95mIPython.core.display.HTML\u001b[0m\u001b[39m object\u001b[0m\u001b[1m>\u001b[0m"
      ]
     },
     "metadata": {},
     "output_type": "display_data"
    }
   ],
   "source": [
    "def gold_passages_retrieved(example, pred, trace=None):\n",
    "    gold_titles = set(map(ds.evaluate.normalize_text, example['gold_titles']))\n",
    "    found_titles = set(map(ds.evaluate.normalize_text, [c.split(\"|\")[0] for c in pred.context]))\n",
    "\n",
    "    return gold_titles.issubset(found_titles)\n",
    "\n",
    "compiled_rag_retrieval_score = evaluate_on_hotpotqa(compiled_rag, metric=gold_passages_retrieved)"
   ]
  },
  {
   "cell_type": "markdown",
   "metadata": {},
   "source": [
    "## Program 2: Multi-hop"
   ]
  },
  {
   "cell_type": "code",
   "execution_count": 38,
   "metadata": {},
   "outputs": [],
   "source": [
    "turbo = ds.OpenAI(model=\"gpt-3.5-turbo\")\n",
    "colbertv2_wiki17_abstracts = ds.ColBERTv2(\n",
    "    url=\"http://20.102.90.50:2017/wiki17_abstracts\"\n",
    ")\n",
    "\n",
    "ds.settings.configure(lm=turbo, rm=colbertv2_wiki17_abstracts, log_openai_usage=True)"
   ]
  },
  {
   "cell_type": "code",
   "execution_count": 47,
   "metadata": {},
   "outputs": [],
   "source": [
    "class GenerateSearchQuery(ds.Signature):\n",
    "    \"\"\"Write a simple search query that will help answer a complex question.\"\"\"\n",
    "\n",
    "    context = ds.InputField(desc=\"may contain relevant facts\")\n",
    "    question = ds.InputField()\n",
    "    search_query = ds.OutputField(desc=\"search query to retrieve relevant facts\")\n"
   ]
  },
  {
   "cell_type": "code",
   "execution_count": 48,
   "metadata": {},
   "outputs": [],
   "source": [
    "class SimplifiedMultiHop(ds.Module):\n",
    "    def __init__(self, passages_per_hop=3, max_hops=2):\n",
    "        super().__init__()\n",
    "\n",
    "        self.generate_query = [ds.ChainOfThought(GenerateSearchQuery) for _ in range(max_hops)]\n",
    "        self.retrieve = ds.Retrieve(k=passages_per_hop)\n",
    "\n",
    "        self.generate_answer = ds.ChainOfThought(GenerateAnswer)\n",
    "        self.max_hops = max_hops\n",
    "\n",
    "    def forward(self, question):\n",
    "        context = []\n",
    "\n",
    "        for hop in range(self.max_hops):\n",
    "            query = self.generate_query[hop](context=context, question=question).search_query\n",
    "            passages = self.retrieve(query).passages\n",
    "            context = deduplicate(context + passages)\n",
    "\n",
    "        prediction = self.generate_answer(context=context, question=question)\n",
    "\n",
    "        return ds.Prediction(context=context, answer=prediction.answer)"
   ]
  },
  {
   "cell_type": "code",
   "execution_count": 49,
   "metadata": {},
   "outputs": [
    {
     "data": {
      "text/html": [
       "<pre style=\"white-space:pre;overflow-x:auto;line-height:normal;font-family:Menlo,'DejaVu Sans Mono',consolas,'Courier New',monospace\">Question: How many storeys are in the castle that David Gregory inherited?\n",
       "</pre>\n"
      ],
      "text/plain": [
       "Question: How many storeys are in the castle that David Gregory inherited?\n"
      ]
     },
     "metadata": {},
     "output_type": "display_data"
    },
    {
     "data": {
      "text/html": [
       "<pre style=\"white-space:pre;overflow-x:auto;line-height:normal;font-family:Menlo,'DejaVu Sans Mono',consolas,'Courier New',monospace\">Answer: five\n",
       "</pre>\n"
      ],
      "text/plain": [
       "Answer: five\n"
      ]
     },
     "metadata": {},
     "output_type": "display_data"
    },
    {
     "data": {
      "text/html": [
       "<pre style=\"white-space:pre;overflow-x:auto;line-height:normal;font-family:Menlo,'DejaVu Sans Mono',consolas,'Courier New',monospace\">Context: <span style=\"font-weight: bold\">[</span><span style=\"color: #008000; text-decoration-color: #008000\">'David Gregory (physician) | David Gregory (20 December 1625 – 1720) was a Scottish physician and </span>\n",
       "<span style=\"color: #008000; text-decoration-color: #008000\">inventor. His surname is sometimes spelt as Gregorie, the original Scottish spelling. He inherited Kinn...'</span>, <span style=\"color: #008000; text-decoration-color: #008000\">'David</span>\n",
       "<span style=\"color: #008000; text-decoration-color: #008000\">Gregory (footballer, born 1970) | Born in Polstead, Gregory began his career at Ipswich Town, making 32 appearances</span>\n",
       "<span style=\"color: #008000; text-decoration-color: #008000\">between 1987–1995. He made two appearances on loan at Hereford United and thre...'</span>, <span style=\"color: #008000; text-decoration-color: #008000\">'Roughan Castle | Roughan </span>\n",
       "<span style=\"color: #008000; text-decoration-color: #008000\">Castle is a castle a mile outside Newmills, County Tyrone, Northern Ireland, on the Dungannon to Stewartstown road.</span>\n",
       "<span style=\"color: #008000; text-decoration-color: #008000\">It was built about 1618 by Sir Andrew Stewart (d.1639), 2nd...'</span>, <span style=\"color: #008000; text-decoration-color: #008000\">'Kinnairdy Castle | Kinnairdy Castle is a tower </span>\n",
       "<span style=\"color: #008000; text-decoration-color: #008000\">house, having five storeys and a garret, two miles south of Aberchirder, Aberdeenshire, Scotland. The alternative </span>\n",
       "<span style=\"color: #008000; text-decoration-color: #008000\">name is Old Kinnairdy....'</span>, <span style=\"color: #008000; text-decoration-color: #008000\">'Kinnaird Castle, Brechin | Kinnaird Castle is a 15th-century castle in Angus, </span>\n",
       "<span style=\"color: #008000; text-decoration-color: #008000\">Scotland. The castle has been home to the Carnegie family, the Earl of Southesk, for more than 600 years....'</span>, \n",
       "<span style=\"color: #008000; text-decoration-color: #008000\">'Kinnaird Head | Kinnaird Head (Scottish Gaelic: \"An Ceann Àrd\" , \"high headland\") is a headland projecting into </span>\n",
       "<span style=\"color: #008000; text-decoration-color: #008000\">the North Sea, within the town of Fraserburgh, Aberdeenshire on the east coast of Scotla...'</span><span style=\"font-weight: bold\">]</span>\n",
       "</pre>\n"
      ],
      "text/plain": [
       "Context: \u001b[1m[\u001b[0m\u001b[32m'David Gregory \u001b[0m\u001b[32m(\u001b[0m\u001b[32mphysician\u001b[0m\u001b[32m)\u001b[0m\u001b[32m | David Gregory \u001b[0m\u001b[32m(\u001b[0m\u001b[32m20 December 1625 – 1720\u001b[0m\u001b[32m)\u001b[0m\u001b[32m was a Scottish physician and \u001b[0m\n",
       "\u001b[32minventor. His surname is sometimes spelt as Gregorie, the original Scottish spelling. He inherited Kinn...'\u001b[0m, \u001b[32m'David\u001b[0m\n",
       "\u001b[32mGregory \u001b[0m\u001b[32m(\u001b[0m\u001b[32mfootballer, born 1970\u001b[0m\u001b[32m)\u001b[0m\u001b[32m | Born in Polstead, Gregory began his career at Ipswich Town, making 32 appearances\u001b[0m\n",
       "\u001b[32mbetween 1987–1995. He made two appearances on loan at Hereford United and thre...'\u001b[0m, \u001b[32m'Roughan Castle | Roughan \u001b[0m\n",
       "\u001b[32mCastle is a castle a mile outside Newmills, County Tyrone, Northern Ireland, on the Dungannon to Stewartstown road.\u001b[0m\n",
       "\u001b[32mIt was built about 1618 by Sir Andrew Stewart \u001b[0m\u001b[32m(\u001b[0m\u001b[32md.1639\u001b[0m\u001b[32m)\u001b[0m\u001b[32m, 2nd...'\u001b[0m, \u001b[32m'Kinnairdy Castle | Kinnairdy Castle is a tower \u001b[0m\n",
       "\u001b[32mhouse, having five storeys and a garret, two miles south of Aberchirder, Aberdeenshire, Scotland. The alternative \u001b[0m\n",
       "\u001b[32mname is Old Kinnairdy....'\u001b[0m, \u001b[32m'Kinnaird Castle, Brechin | Kinnaird Castle is a 15th-century castle in Angus, \u001b[0m\n",
       "\u001b[32mScotland. The castle has been home to the Carnegie family, the Earl of Southesk, for more than 600 years....'\u001b[0m, \n",
       "\u001b[32m'Kinnaird Head | Kinnaird Head \u001b[0m\u001b[32m(\u001b[0m\u001b[32mScottish Gaelic: \"An Ceann Àrd\" , \"high headland\"\u001b[0m\u001b[32m)\u001b[0m\u001b[32m is a headland projecting into \u001b[0m\n",
       "\u001b[32mthe North Sea, within the town of Fraserburgh, Aberdeenshire on the east coast of Scotla...'\u001b[0m\u001b[1m]\u001b[0m\n"
      ]
     },
     "metadata": {},
     "output_type": "display_data"
    }
   ],
   "source": [
    "simple_multi_hop = SimplifiedMultiHop()\n",
    "question = \"How many storeys are in the castle that David Gregory inherited?\"\n",
    "\n",
    "prediction = simple_multi_hop(question=question)\n",
    "\n",
    "print(f\"Question: {question}\")\n",
    "print(f\"Answer: {prediction.answer}\")\n",
    "print(f\"Context: {[c[:200] + '...' for c in prediction.context]}\")\n"
   ]
  },
  {
   "cell_type": "code",
   "execution_count": 50,
   "metadata": {},
   "outputs": [
    {
     "name": "stdout",
     "output_type": "stream",
     "text": [
      "\n",
      "\n",
      "\n",
      "Answer question with short factoid layers\n",
      "\n",
      "---\n",
      "\n",
      "Follow the following format.\n",
      "\n",
      "Question: ${question}\n",
      "\n",
      "Context: may contain relevant facts\n",
      "\n",
      "Reasoning: Let's think step by step in order to ${produce the answer}. We ...\n",
      "\n",
      "Answer: often between 1 and 5 words\n",
      "\n",
      "---\n",
      "\n",
      "Question: How many storeys are in the castle that David Gregory inherited?\n",
      "\n",
      "Context:\n",
      "[1] «David Gregory (physician) | David Gregory (20 December 1625 – 1720) was a Scottish physician and inventor. His surname is sometimes spelt as Gregorie, the original Scottish spelling. He inherited Kinnairdy Castle in 1664. Three of his twenty-nine children became mathematics professors. He is credited with inventing a military cannon that Isaac Newton described as \"being destructive to the human species\". Copies and details of the model no longer exist. Gregory's use of a barometer to predict farming-related weather conditions led him to be accused of witchcraft by Presbyterian ministers from Aberdeen, although he was never convicted.»\n",
      "[2] «David Gregory (footballer, born 1970) | Born in Polstead, Gregory began his career at Ipswich Town, making 32 appearances between 1987–1995. He made two appearances on loan at Hereford United and three appearances at Peterborough United after leaving Ipswich. He joined Colchester United in 1995 and spent seven years at Layer Road, making 226 league appearances and scoring 19 goals. Gregory helped the U's to their first league promotion for 22 years in 1998 when he stepped up to put Colchester ahead from the spot in the Third Division playoff final. Gregory made history along with Neil as the first pair of brothers in a play-off final in the same match. His brother Neil joined the U's in 1998 and played alongside David until 2000. Gregory featured regularly in the first team until he cracked a bone in his foot playing against Port Vale in March 2002 and failed to recover fitness by the summer break. He again teamed up with his brother Neil at Canvey Island in July 2002.»\n",
      "[3] «Roughan Castle | Roughan Castle is a castle a mile outside Newmills, County Tyrone, Northern Ireland, on the Dungannon to Stewartstown road. It was built about 1618 by Sir Andrew Stewart (d.1639), 2nd Lord Castlestewart, eldest son of Andrew Stewart (1580-1629) the third Lord Ochiltree, 1st Lord Castlestewart who came from Scotland during the plantation and established the nearby town of Stewartstown. Andrew Stewart junior acquired the land of Ballokevan from Robert Stewart between 1610 and 1619 and built his castle overlooking Roughan Lough. It is a small square castle, three storeys high with a central tower 20 ft square, flanked by thick rounded towers at each corner.»\n",
      "[4] «Kinnairdy Castle | Kinnairdy Castle is a tower house, having five storeys and a garret, two miles south of Aberchirder, Aberdeenshire, Scotland. The alternative name is Old Kinnairdy.»\n",
      "[5] «Kinnaird Castle, Brechin | Kinnaird Castle is a 15th-century castle in Angus, Scotland. The castle has been home to the Carnegie family, the Earl of Southesk, for more than 600 years.»\n",
      "[6] «Kinnaird Head | Kinnaird Head (Scottish Gaelic: \"An Ceann Àrd\" , \"high headland\") is a headland projecting into the North Sea, within the town of Fraserburgh, Aberdeenshire on the east coast of Scotland. The 16th-century Kinnaird Castle was converted in 1787 for use as the Kinnaird Head Lighthouse, the first lighthouse in Scotland to be lit by the Commissioners of Northern Lights. Kinnaird Castle and the nearby Winetower were described by W. Douglas Simpson as two of the nine castles of the Knuckle, referring to the rocky headland of north-east Aberdeenshire. Both buildings are category A listed buildings.»\n",
      "\n",
      "Reasoning: Let's think step by step in order to determine the number of storeys in Kinnairdy Castle.\n",
      "\n",
      "Answer: five\n",
      "\n",
      "\n",
      "\n"
     ]
    },
    {
     "data": {
      "text/html": [
       "<pre style=\"white-space:pre;overflow-x:auto;line-height:normal;font-family:Menlo,'DejaVu Sans Mono',consolas,'Courier New',monospace\"></pre>\n"
      ],
      "text/plain": []
     },
     "metadata": {},
     "output_type": "display_data"
    },
    {
     "data": {
      "text/plain": [
       "\u001b[32m'\\n\\n\\nAnswer question with short factoid layers\\n\\n---\\n\\nFollow the following format.\\n\\nQuestion: $\u001b[0m\u001b[32m{\u001b[0m\u001b[32mquestion\u001b[0m\u001b[32m}\u001b[0m\u001b[32m\\n\\nContext: may contain relevant facts\\n\\nReasoning: Let\\'s think step by step in order to $\u001b[0m\u001b[32m{\u001b[0m\u001b[32mproduce the answer\u001b[0m\u001b[32m}\u001b[0m\u001b[32m. We ...\\n\\nAnswer: often between 1 and 5 words\\n\\n---\\n\\nQuestion: How many storeys are in the castle that David Gregory inherited?\\n\\nContext:\\n\u001b[0m\u001b[32m[\u001b[0m\u001b[32m1\u001b[0m\u001b[32m]\u001b[0m\u001b[32m «David Gregory \u001b[0m\u001b[32m(\u001b[0m\u001b[32mphysician\u001b[0m\u001b[32m)\u001b[0m\u001b[32m | David Gregory \u001b[0m\u001b[32m(\u001b[0m\u001b[32m20 December 1625 – 1720\u001b[0m\u001b[32m)\u001b[0m\u001b[32m was a Scottish physician and inventor. His surname is sometimes spelt as Gregorie, the original Scottish spelling. He inherited Kinnairdy Castle in 1664. Three of his twenty-nine children became mathematics professors. He is credited with inventing a military cannon that Isaac Newton described as \"being destructive to the human species\". Copies and details of the model no longer exist. Gregory\\'s use of a barometer to predict farming-related weather conditions led him to be accused of witchcraft by Presbyterian ministers from Aberdeen, although he was never convicted.»\\n\u001b[0m\u001b[32m[\u001b[0m\u001b[32m2\u001b[0m\u001b[32m]\u001b[0m\u001b[32m «David Gregory \u001b[0m\u001b[32m(\u001b[0m\u001b[32mfootballer, born 1970\u001b[0m\u001b[32m)\u001b[0m\u001b[32m | Born in Polstead, Gregory began his career at Ipswich Town, making 32 appearances between 1987–1995. He made two appearances on loan at Hereford United and three appearances at Peterborough United after leaving Ipswich. He joined Colchester United in 1995 and spent seven years at Layer Road, making 226 league appearances and scoring 19 goals. Gregory helped the U\\'s to their first league promotion for 22 years in 1998 when he stepped up to put Colchester ahead from the spot in the Third Division playoff final. Gregory made history along with Neil as the first pair of brothers in a play-off final in the same match. His brother Neil joined the U\\'s in 1998 and played alongside David until 2000. Gregory featured regularly in the first team until he cracked a bone in his foot playing against Port Vale in March 2002 and failed to recover fitness by the summer break. He again teamed up with his brother Neil at Canvey Island in July 2002.»\\n\u001b[0m\u001b[32m[\u001b[0m\u001b[32m3\u001b[0m\u001b[32m]\u001b[0m\u001b[32m «Roughan Castle | Roughan Castle is a castle a mile outside Newmills, County Tyrone, Northern Ireland, on the Dungannon to Stewartstown road. It was built about 1618 by Sir Andrew Stewart \u001b[0m\u001b[32m(\u001b[0m\u001b[32md.1639\u001b[0m\u001b[32m)\u001b[0m\u001b[32m, 2nd Lord Castlestewart, eldest son of Andrew Stewart \u001b[0m\u001b[32m(\u001b[0m\u001b[32m1580-1629\u001b[0m\u001b[32m)\u001b[0m\u001b[32m the third Lord Ochiltree, 1st Lord Castlestewart who came from Scotland during the plantation and established the nearby town of Stewartstown. Andrew Stewart junior acquired the land of Ballokevan from Robert Stewart between 1610 and 1619 and built his castle overlooking Roughan Lough. It is a small square castle, three storeys high with a central tower 20 ft square, flanked by thick rounded towers at each corner.»\\n\u001b[0m\u001b[32m[\u001b[0m\u001b[32m4\u001b[0m\u001b[32m]\u001b[0m\u001b[32m «Kinnairdy Castle | Kinnairdy Castle is a tower house, having five storeys and a garret, two miles south of Aberchirder, Aberdeenshire, Scotland. The alternative name is Old Kinnairdy.»\\n\u001b[0m\u001b[32m[\u001b[0m\u001b[32m5\u001b[0m\u001b[32m]\u001b[0m\u001b[32m «Kinnaird Castle, Brechin | Kinnaird Castle is a 15th-century castle in Angus, Scotland. The castle has been home to the Carnegie family, the Earl of Southesk, for more than 600 years.»\\n\u001b[0m\u001b[32m[\u001b[0m\u001b[32m6\u001b[0m\u001b[32m]\u001b[0m\u001b[32m «Kinnaird Head | Kinnaird Head \u001b[0m\u001b[32m(\u001b[0m\u001b[32mScottish Gaelic: \"An Ceann Àrd\" , \"high headland\"\u001b[0m\u001b[32m)\u001b[0m\u001b[32m is a headland projecting into the North Sea, within the town of Fraserburgh, Aberdeenshire on the east coast of Scotland. The 16th-century Kinnaird Castle was converted in 1787 for use as the Kinnaird Head Lighthouse, the first lighthouse in Scotland to be lit by the Commissioners of Northern Lights. Kinnaird Castle and the nearby Winetower were described by W. Douglas Simpson as two of the nine castles of the Knuckle, referring to the rocky headland of north-east Aberdeenshire. Both buildings are category A listed buildings.»\\n\\nReasoning: Let\\'s think step by step in order to\\x1b\u001b[0m\u001b[32m[\u001b[0m\u001b[32m32m determine the number of storeys in Kinnairdy Castle.\\n\\nAnswer: five\\x1b\u001b[0m\u001b[32m[\u001b[0m\u001b[32m0m\\n\\n\\n'\u001b[0m"
      ]
     },
     "execution_count": 50,
     "metadata": {},
     "output_type": "execute_result"
    }
   ],
   "source": [
    "turbo.inspect_history(n=3)"
   ]
  },
  {
   "cell_type": "code",
   "execution_count": 51,
   "metadata": {},
   "outputs": [],
   "source": [
    "def validate_context_and_answer_and_hops(example, pred, trace=None):\n",
    "    if not ds.evaluate.answer_exact_match(example, pred):\n",
    "        return False\n",
    "    if not ds.evaluate.answer_passage_match(example, pred):\n",
    "        return False\n",
    "\n",
    "    hops = [example.question] + [\n",
    "        outputs.query for *_, outputs in trace if \"query\" in outputs\n",
    "    ]\n",
    "\n",
    "    if max([len(h) for h in hops]) > 100:\n",
    "        return False\n",
    "    if any(\n",
    "        ds.evaluate.answer_exact_match_str(hops[idx], hops[:idx], frac=0.8)\n",
    "        for idx in range(2, len(hops))\n",
    "    ):\n",
    "        return False\n",
    "\n",
    "    return True\n"
   ]
  },
  {
   "cell_type": "code",
   "execution_count": 52,
   "metadata": {},
   "outputs": [
    {
     "name": "stderr",
     "output_type": "stream",
     "text": [
      " 35%|███▌      | 7/20 [00:28<00:52,  4.02s/it]\n"
     ]
    },
    {
     "name": "stdout",
     "output_type": "stream",
     "text": [
      "Bootstrapped 4 full traces after 8 examples in round 0.\n"
     ]
    }
   ],
   "source": [
    "teleprompter = BootstrapFewShot(metric=validate_context_and_answer_and_hops)\n",
    "compiled_baleen = teleprompter.compile(\n",
    "    SimplifiedMultiHop(),\n",
    "    teacher=SimplifiedMultiHop(passages_per_hop=2),\n",
    "    trainset=trainset_hpqa,\n",
    ")\n"
   ]
  },
  {
   "cell_type": "code",
   "execution_count": 53,
   "metadata": {},
   "outputs": [
    {
     "name": "stderr",
     "output_type": "stream",
     "text": [
      "Average Metric: 27 / 50  (54.0): 100%|██████████| 50/50 [00:50<00:00,  1.02s/it]\n"
     ]
    },
    {
     "name": "stdout",
     "output_type": "stream",
     "text": [
      "Average Metric: 27 / 50  (54.0%)\n"
     ]
    },
    {
     "name": "stderr",
     "output_type": "stream",
     "text": [
      "e:\\Projects\\langchain_rag\\venv\\lib\\site-packages\\dspy\\evaluate\\evaluate.py:266: FutureWarning: Setting an item of incompatible dtype is deprecated and will raise in a future error of pandas. Value '['✔️ [True]' 'False' 'False' '✔️ [True]' 'False']' has dtype incompatible with bool, please explicitly cast to a compatible dtype first.\n",
      "  df.loc[:, metric_name] = df[metric_name].apply(\n"
     ]
    },
    {
     "data": {
      "text/html": [
       "<pre style=\"white-space:pre;overflow-x:auto;line-height:normal;font-family:Menlo,'DejaVu Sans Mono',consolas,'Courier New',monospace\"></pre>\n"
      ],
      "text/plain": []
     },
     "metadata": {},
     "output_type": "display_data"
    },
    {
     "data": {
      "text/html": [
       "<style type=\"text/css\">\n",
       "#T_5e793 th {\n",
       "  text-align: left;\n",
       "}\n",
       "#T_5e793 td {\n",
       "  text-align: left;\n",
       "}\n",
       "#T_5e793_row0_col0, #T_5e793_row0_col1, #T_5e793_row0_col2, #T_5e793_row0_col3, #T_5e793_row0_col4, #T_5e793_row0_col5, #T_5e793_row1_col0, #T_5e793_row1_col1, #T_5e793_row1_col2, #T_5e793_row1_col3, #T_5e793_row1_col4, #T_5e793_row1_col5, #T_5e793_row2_col0, #T_5e793_row2_col1, #T_5e793_row2_col2, #T_5e793_row2_col3, #T_5e793_row2_col4, #T_5e793_row2_col5, #T_5e793_row3_col0, #T_5e793_row3_col1, #T_5e793_row3_col2, #T_5e793_row3_col3, #T_5e793_row3_col4, #T_5e793_row3_col5, #T_5e793_row4_col0, #T_5e793_row4_col1, #T_5e793_row4_col2, #T_5e793_row4_col3, #T_5e793_row4_col4, #T_5e793_row4_col5 {\n",
       "  text-align: left;\n",
       "  white-space: pre-wrap;\n",
       "  word-wrap: break-word;\n",
       "  max-width: 400px;\n",
       "}\n",
       "</style>\n",
       "<table id=\"T_5e793\">\n",
       "  <thead>\n",
       "    <tr>\n",
       "      <th class=\"blank level0\" >&nbsp;</th>\n",
       "      <th id=\"T_5e793_level0_col0\" class=\"col_heading level0 col0\" >question</th>\n",
       "      <th id=\"T_5e793_level0_col1\" class=\"col_heading level0 col1\" >example_answer</th>\n",
       "      <th id=\"T_5e793_level0_col2\" class=\"col_heading level0 col2\" >gold_titles</th>\n",
       "      <th id=\"T_5e793_level0_col3\" class=\"col_heading level0 col3\" >context</th>\n",
       "      <th id=\"T_5e793_level0_col4\" class=\"col_heading level0 col4\" >pred_answer</th>\n",
       "      <th id=\"T_5e793_level0_col5\" class=\"col_heading level0 col5\" >gold_passages_retrieved</th>\n",
       "    </tr>\n",
       "  </thead>\n",
       "  <tbody>\n",
       "    <tr>\n",
       "      <th id=\"T_5e793_level0_row0\" class=\"row_heading level0 row0\" >0</th>\n",
       "      <td id=\"T_5e793_row0_col0\" class=\"data row0 col0\" >Are both Cangzhou and Qionghai in the Hebei province of China?</td>\n",
       "      <td id=\"T_5e793_row0_col1\" class=\"data row0 col1\" >no</td>\n",
       "      <td id=\"T_5e793_row0_col2\" class=\"data row0 col2\" >{'Cangzhou', 'Qionghai'}</td>\n",
       "      <td id=\"T_5e793_row0_col3\" class=\"data row0 col3\" >['Cangzhou | Cangzhou () is a prefecture-level city in eastern Hebei province, People\\'s Republic of China. At the 2010 census, Cangzhou\\'s built-up (\"or metro\") area...</td>\n",
       "      <td id=\"T_5e793_row0_col4\" class=\"data row0 col4\" >No.</td>\n",
       "      <td id=\"T_5e793_row0_col5\" class=\"data row0 col5\" >✔️ [True]</td>\n",
       "    </tr>\n",
       "    <tr>\n",
       "      <th id=\"T_5e793_level0_row1\" class=\"row_heading level0 row1\" >1</th>\n",
       "      <td id=\"T_5e793_row1_col0\" class=\"data row1 col0\" >Who conducts the draft in which Marc-Andre Fleury was drafted to the Vegas Golden Knights for the 2017-18 season?</td>\n",
       "      <td id=\"T_5e793_row1_col1\" class=\"data row1 col1\" >National Hockey League</td>\n",
       "      <td id=\"T_5e793_row1_col2\" class=\"data row1 col2\" >{'2017–18 Pittsburgh Penguins season', '2017 NHL Expansion Draft'}</td>\n",
       "      <td id=\"T_5e793_row1_col3\" class=\"data row1 col3\" >['2017 NHL Entry Draft | The 2017 NHL Entry Draft was the 55th NHL Entry Draft. The draft was held from June 23–24, 2017, at...</td>\n",
       "      <td id=\"T_5e793_row1_col4\" class=\"data row1 col4\" >NHL Expansion Draft</td>\n",
       "      <td id=\"T_5e793_row1_col5\" class=\"data row1 col5\" >False</td>\n",
       "    </tr>\n",
       "    <tr>\n",
       "      <th id=\"T_5e793_level0_row2\" class=\"row_heading level0 row2\" >2</th>\n",
       "      <td id=\"T_5e793_row2_col0\" class=\"data row2 col0\" >The Wings entered a new era, following the retirement of which Canadian retired professional ice hockey player and current general manager of the Tampa Bay...</td>\n",
       "      <td id=\"T_5e793_row2_col1\" class=\"data row2 col1\" >Steve Yzerman</td>\n",
       "      <td id=\"T_5e793_row2_col2\" class=\"data row2 col2\" >{'2006–07 Detroit Red Wings season', 'Steve Yzerman'}</td>\n",
       "      <td id=\"T_5e793_row2_col3\" class=\"data row2 col3\" >['Steve Yzerman | Stephen Gregory \"Steve\" Yzerman ( ; born May 9, 1965) is a Canadian retired professional ice hockey player and current general manager...</td>\n",
       "      <td id=\"T_5e793_row2_col4\" class=\"data row2 col4\" >Steve Yzerman</td>\n",
       "      <td id=\"T_5e793_row2_col5\" class=\"data row2 col5\" >False</td>\n",
       "    </tr>\n",
       "    <tr>\n",
       "      <th id=\"T_5e793_level0_row3\" class=\"row_heading level0 row3\" >3</th>\n",
       "      <td id=\"T_5e793_row3_col0\" class=\"data row3 col0\" >What river is near the Crichton Collegiate Church?</td>\n",
       "      <td id=\"T_5e793_row3_col1\" class=\"data row3 col1\" >the River Tyne</td>\n",
       "      <td id=\"T_5e793_row3_col2\" class=\"data row3 col2\" >{'Crichton Collegiate Church', 'Crichton Castle'}</td>\n",
       "      <td id=\"T_5e793_row3_col3\" class=\"data row3 col3\" >[\"Crichton Collegiate Church | Crichton Collegiate Church is situated about 0.6 mi south west of the hamlet of Crichton in Midlothian, Scotland. Crichton itself is...</td>\n",
       "      <td id=\"T_5e793_row3_col4\" class=\"data row3 col4\" >River Tyne</td>\n",
       "      <td id=\"T_5e793_row3_col5\" class=\"data row3 col5\" >✔️ [True]</td>\n",
       "    </tr>\n",
       "    <tr>\n",
       "      <th id=\"T_5e793_level0_row4\" class=\"row_heading level0 row4\" >4</th>\n",
       "      <td id=\"T_5e793_row4_col0\" class=\"data row4 col0\" >In the 10th Century A.D. Ealhswith had a son called Æthelweard by which English king?</td>\n",
       "      <td id=\"T_5e793_row4_col1\" class=\"data row4 col1\" >King Alfred the Great</td>\n",
       "      <td id=\"T_5e793_row4_col2\" class=\"data row4 col2\" >{'Ealhswith', 'Æthelweard (son of Alfred)'}</td>\n",
       "      <td id=\"T_5e793_row4_col3\" class=\"data row4 col3\" >['Æthelweard (son of Alfred) | Æthelweard (d. 920 or 922) was the younger son of King Alfred the Great and Ealhswith.', 'Æthelweard, king of the...</td>\n",
       "      <td id=\"T_5e793_row4_col4\" class=\"data row4 col4\" >Alfred the Great</td>\n",
       "      <td id=\"T_5e793_row4_col5\" class=\"data row4 col5\" >False</td>\n",
       "    </tr>\n",
       "  </tbody>\n",
       "</table>\n"
      ],
      "text/plain": [
       "\u001b[1m<\u001b[0m\u001b[1;95mpandas.io.formats.style.Styler\u001b[0m\u001b[39m object at \u001b[0m\u001b[1;36m0x0000023C7A61C940\u001b[0m\u001b[1m>\u001b[0m"
      ]
     },
     "metadata": {},
     "output_type": "display_data"
    },
    {
     "data": {
      "text/html": [
       "<pre style=\"white-space:pre;overflow-x:auto;line-height:normal;font-family:Menlo,'DejaVu Sans Mono',consolas,'Courier New',monospace\"></pre>\n"
      ],
      "text/plain": []
     },
     "metadata": {},
     "output_type": "display_data"
    },
    {
     "data": {
      "text/html": [
       "\n",
       "                <div style='\n",
       "                    text-align: center;\n",
       "                    font-size: 16px;\n",
       "                    font-weight: bold;\n",
       "                    color: #555;\n",
       "                    margin: 10px 0;'>\n",
       "                    ... 45 more rows not displayed ...\n",
       "                </div>\n",
       "                "
      ],
      "text/plain": [
       "\u001b[1m<\u001b[0m\u001b[1;95mIPython.core.display.HTML\u001b[0m\u001b[39m object\u001b[0m\u001b[1m>\u001b[0m"
      ]
     },
     "metadata": {},
     "output_type": "display_data"
    },
    {
     "name": "stderr",
     "output_type": "stream",
     "text": [
      "Average Metric: 27 / 50  (54.0): 100%|██████████| 50/50 [00:59<00:00,  1.20s/it]\n"
     ]
    },
    {
     "name": "stdout",
     "output_type": "stream",
     "text": [
      "Average Metric: 27 / 50  (54.0%)\n"
     ]
    },
    {
     "name": "stderr",
     "output_type": "stream",
     "text": [
      "e:\\Projects\\langchain_rag\\venv\\lib\\site-packages\\dspy\\evaluate\\evaluate.py:266: FutureWarning: Setting an item of incompatible dtype is deprecated and will raise in a future error of pandas. Value '['✔️ [True]' '✔️ [True]' 'False' '✔️ [True]' 'False']' has dtype incompatible with bool, please explicitly cast to a compatible dtype first.\n",
      "  df.loc[:, metric_name] = df[metric_name].apply(\n"
     ]
    },
    {
     "data": {
      "text/html": [
       "<pre style=\"white-space:pre;overflow-x:auto;line-height:normal;font-family:Menlo,'DejaVu Sans Mono',consolas,'Courier New',monospace\"></pre>\n"
      ],
      "text/plain": []
     },
     "metadata": {},
     "output_type": "display_data"
    },
    {
     "data": {
      "text/html": [
       "<style type=\"text/css\">\n",
       "#T_967bc th {\n",
       "  text-align: left;\n",
       "}\n",
       "#T_967bc td {\n",
       "  text-align: left;\n",
       "}\n",
       "#T_967bc_row0_col0, #T_967bc_row0_col1, #T_967bc_row0_col2, #T_967bc_row0_col3, #T_967bc_row0_col4, #T_967bc_row0_col5, #T_967bc_row1_col0, #T_967bc_row1_col1, #T_967bc_row1_col2, #T_967bc_row1_col3, #T_967bc_row1_col4, #T_967bc_row1_col5, #T_967bc_row2_col0, #T_967bc_row2_col1, #T_967bc_row2_col2, #T_967bc_row2_col3, #T_967bc_row2_col4, #T_967bc_row2_col5, #T_967bc_row3_col0, #T_967bc_row3_col1, #T_967bc_row3_col2, #T_967bc_row3_col3, #T_967bc_row3_col4, #T_967bc_row3_col5, #T_967bc_row4_col0, #T_967bc_row4_col1, #T_967bc_row4_col2, #T_967bc_row4_col3, #T_967bc_row4_col4, #T_967bc_row4_col5 {\n",
       "  text-align: left;\n",
       "  white-space: pre-wrap;\n",
       "  word-wrap: break-word;\n",
       "  max-width: 400px;\n",
       "}\n",
       "</style>\n",
       "<table id=\"T_967bc\">\n",
       "  <thead>\n",
       "    <tr>\n",
       "      <th class=\"blank level0\" >&nbsp;</th>\n",
       "      <th id=\"T_967bc_level0_col0\" class=\"col_heading level0 col0\" >question</th>\n",
       "      <th id=\"T_967bc_level0_col1\" class=\"col_heading level0 col1\" >example_answer</th>\n",
       "      <th id=\"T_967bc_level0_col2\" class=\"col_heading level0 col2\" >gold_titles</th>\n",
       "      <th id=\"T_967bc_level0_col3\" class=\"col_heading level0 col3\" >context</th>\n",
       "      <th id=\"T_967bc_level0_col4\" class=\"col_heading level0 col4\" >pred_answer</th>\n",
       "      <th id=\"T_967bc_level0_col5\" class=\"col_heading level0 col5\" >gold_passages_retrieved</th>\n",
       "    </tr>\n",
       "  </thead>\n",
       "  <tbody>\n",
       "    <tr>\n",
       "      <th id=\"T_967bc_level0_row0\" class=\"row_heading level0 row0\" >0</th>\n",
       "      <td id=\"T_967bc_row0_col0\" class=\"data row0 col0\" >Are both Cangzhou and Qionghai in the Hebei province of China?</td>\n",
       "      <td id=\"T_967bc_row0_col1\" class=\"data row0 col1\" >no</td>\n",
       "      <td id=\"T_967bc_row0_col2\" class=\"data row0 col2\" >{'Cangzhou', 'Qionghai'}</td>\n",
       "      <td id=\"T_967bc_row0_col3\" class=\"data row0 col3\" >['Cangzhou | Cangzhou () is a prefecture-level city in eastern Hebei province, People\\'s Republic of China. At the 2010 census, Cangzhou\\'s built-up (\"or metro\") area...</td>\n",
       "      <td id=\"T_967bc_row0_col4\" class=\"data row0 col4\" >No</td>\n",
       "      <td id=\"T_967bc_row0_col5\" class=\"data row0 col5\" >✔️ [True]</td>\n",
       "    </tr>\n",
       "    <tr>\n",
       "      <th id=\"T_967bc_level0_row1\" class=\"row_heading level0 row1\" >1</th>\n",
       "      <td id=\"T_967bc_row1_col0\" class=\"data row1 col0\" >Who conducts the draft in which Marc-Andre Fleury was drafted to the Vegas Golden Knights for the 2017-18 season?</td>\n",
       "      <td id=\"T_967bc_row1_col1\" class=\"data row1 col1\" >National Hockey League</td>\n",
       "      <td id=\"T_967bc_row1_col2\" class=\"data row1 col2\" >{'2017–18 Pittsburgh Penguins season', '2017 NHL Expansion Draft'}</td>\n",
       "      <td id=\"T_967bc_row1_col3\" class=\"data row1 col3\" >[\"Marc-André Fleury | Marc-André Fleury (born November 28, 1984) is a French-Canadian professional ice hockey goaltender playing for the Vegas Golden Knights of the National...</td>\n",
       "      <td id=\"T_967bc_row1_col4\" class=\"data row1 col4\" >National Hockey League</td>\n",
       "      <td id=\"T_967bc_row1_col5\" class=\"data row1 col5\" >✔️ [True]</td>\n",
       "    </tr>\n",
       "    <tr>\n",
       "      <th id=\"T_967bc_level0_row2\" class=\"row_heading level0 row2\" >2</th>\n",
       "      <td id=\"T_967bc_row2_col0\" class=\"data row2 col0\" >The Wings entered a new era, following the retirement of which Canadian retired professional ice hockey player and current general manager of the Tampa Bay...</td>\n",
       "      <td id=\"T_967bc_row2_col1\" class=\"data row2 col1\" >Steve Yzerman</td>\n",
       "      <td id=\"T_967bc_row2_col2\" class=\"data row2 col2\" >{'2006–07 Detroit Red Wings season', 'Steve Yzerman'}</td>\n",
       "      <td id=\"T_967bc_row2_col3\" class=\"data row2 col3\" >['Steve Yzerman | Stephen Gregory \"Steve\" Yzerman ( ; born May 9, 1965) is a Canadian retired professional ice hockey player and current general manager...</td>\n",
       "      <td id=\"T_967bc_row2_col4\" class=\"data row2 col4\" >Steve Yzerman</td>\n",
       "      <td id=\"T_967bc_row2_col5\" class=\"data row2 col5\" >False</td>\n",
       "    </tr>\n",
       "    <tr>\n",
       "      <th id=\"T_967bc_level0_row3\" class=\"row_heading level0 row3\" >3</th>\n",
       "      <td id=\"T_967bc_row3_col0\" class=\"data row3 col0\" >What river is near the Crichton Collegiate Church?</td>\n",
       "      <td id=\"T_967bc_row3_col1\" class=\"data row3 col1\" >the River Tyne</td>\n",
       "      <td id=\"T_967bc_row3_col2\" class=\"data row3 col2\" >{'Crichton Collegiate Church', 'Crichton Castle'}</td>\n",
       "      <td id=\"T_967bc_row3_col3\" class=\"data row3 col3\" >[\"Crichton Collegiate Church | Crichton Collegiate Church is situated about 0.6 mi south west of the hamlet of Crichton in Midlothian, Scotland. Crichton itself is...</td>\n",
       "      <td id=\"T_967bc_row3_col4\" class=\"data row3 col4\" >River Tyne</td>\n",
       "      <td id=\"T_967bc_row3_col5\" class=\"data row3 col5\" >✔️ [True]</td>\n",
       "    </tr>\n",
       "    <tr>\n",
       "      <th id=\"T_967bc_level0_row4\" class=\"row_heading level0 row4\" >4</th>\n",
       "      <td id=\"T_967bc_row4_col0\" class=\"data row4 col0\" >In the 10th Century A.D. Ealhswith had a son called Æthelweard by which English king?</td>\n",
       "      <td id=\"T_967bc_row4_col1\" class=\"data row4 col1\" >King Alfred the Great</td>\n",
       "      <td id=\"T_967bc_row4_col2\" class=\"data row4 col2\" >{'Ealhswith', 'Æthelweard (son of Alfred)'}</td>\n",
       "      <td id=\"T_967bc_row4_col3\" class=\"data row4 col3\" >['Æthelweard (son of Alfred) | Æthelweard (d. 920 or 922) was the younger son of King Alfred the Great and Ealhswith.', 'Æthelred the Unready |...</td>\n",
       "      <td id=\"T_967bc_row4_col4\" class=\"data row4 col4\" >Alfred the Great</td>\n",
       "      <td id=\"T_967bc_row4_col5\" class=\"data row4 col5\" >False</td>\n",
       "    </tr>\n",
       "  </tbody>\n",
       "</table>\n"
      ],
      "text/plain": [
       "\u001b[1m<\u001b[0m\u001b[1;95mpandas.io.formats.style.Styler\u001b[0m\u001b[39m object at \u001b[0m\u001b[1;36m0x0000023C7A6FC940\u001b[0m\u001b[1m>\u001b[0m"
      ]
     },
     "metadata": {},
     "output_type": "display_data"
    },
    {
     "data": {
      "text/html": [
       "<pre style=\"white-space:pre;overflow-x:auto;line-height:normal;font-family:Menlo,'DejaVu Sans Mono',consolas,'Courier New',monospace\"></pre>\n"
      ],
      "text/plain": []
     },
     "metadata": {},
     "output_type": "display_data"
    },
    {
     "data": {
      "text/html": [
       "\n",
       "                <div style='\n",
       "                    text-align: center;\n",
       "                    font-size: 16px;\n",
       "                    font-weight: bold;\n",
       "                    color: #555;\n",
       "                    margin: 10px 0;'>\n",
       "                    ... 45 more rows not displayed ...\n",
       "                </div>\n",
       "                "
      ],
      "text/plain": [
       "\u001b[1m<\u001b[0m\u001b[1;95mIPython.core.display.HTML\u001b[0m\u001b[39m object\u001b[0m\u001b[1m>\u001b[0m"
      ]
     },
     "metadata": {},
     "output_type": "display_data"
    }
   ],
   "source": [
    "uncompiled_evaluate = evaluate_on_hotpotqa(simple_multi_hop, metric=gold_passages_retrieved)\n",
    "compiled_evaluate = evaluate_on_hotpotqa(compiled_baleen, metric=gold_passages_retrieved)"
   ]
  },
  {
   "cell_type": "code",
   "execution_count": 54,
   "metadata": {},
   "outputs": [
    {
     "data": {
      "text/html": [
       "<pre style=\"white-space:pre;overflow-x:auto;line-height:normal;font-family:Menlo,'DejaVu Sans Mono',consolas,'Courier New',monospace\">Uncompiled model retrieval score: <span style=\"color: #008080; text-decoration-color: #008080; font-weight: bold\">54.0</span>\n",
       "</pre>\n"
      ],
      "text/plain": [
       "Uncompiled model retrieval score: \u001b[1;36m54.0\u001b[0m\n"
      ]
     },
     "metadata": {},
     "output_type": "display_data"
    },
    {
     "data": {
      "text/html": [
       "<pre style=\"white-space:pre;overflow-x:auto;line-height:normal;font-family:Menlo,'DejaVu Sans Mono',consolas,'Courier New',monospace\">Compiled model retrieval score: <span style=\"color: #008080; text-decoration-color: #008080; font-weight: bold\">54.0</span>\n",
       "</pre>\n"
      ],
      "text/plain": [
       "Compiled model retrieval score: \u001b[1;36m54.0\u001b[0m\n"
      ]
     },
     "metadata": {},
     "output_type": "display_data"
    }
   ],
   "source": [
    "print(f'Uncompiled model retrieval score: {uncompiled_evaluate}')\n",
    "print(f'Compiled model retrieval score: {compiled_evaluate}')"
   ]
  }
 ],
 "metadata": {
  "kernelspec": {
   "display_name": "venv",
   "language": "python",
   "name": "python3"
  },
  "language_info": {
   "codemirror_mode": {
    "name": "ipython",
    "version": 3
   },
   "file_extension": ".py",
   "mimetype": "text/x-python",
   "name": "python",
   "nbconvert_exporter": "python",
   "pygments_lexer": "ipython3",
   "version": "3.10.11"
  }
 },
 "nbformat": 4,
 "nbformat_minor": 2
}
