{
 "cells": [
  {
   "cell_type": "code",
   "execution_count": 4,
   "metadata": {},
   "outputs": [
    {
     "name": "stdout",
     "output_type": "stream",
     "text": [
      "The rich extension is already loaded. To reload it, use:\n",
      "  %reload_ext rich\n"
     ]
    }
   ],
   "source": [
    "import dspy as ds\n",
    "import pandas as pd\n",
    "import numpy as np\n",
    "from rich import print\n",
    "from dspy.datasets.gsm8k import GSM8K, gsm8k_metric\n",
    "from tqdm import tqdm\n",
    "from dspy.evaluate import Evaluate\n",
    "from dspy.teleprompt import BootstrapFewShot\n",
    "from dspy.datasets import HotPotQA\n",
    "\n",
    "tqdm.pandas()\n",
    "\n",
    "%load_ext rich\n"
   ]
  },
  {
   "cell_type": "markdown",
   "metadata": {},
   "source": [
    "## GSM8K\n"
   ]
  },
  {
   "cell_type": "code",
   "execution_count": 3,
   "metadata": {},
   "outputs": [],
   "source": [
    "turbo = ds.OpenAI(model=\"gpt-3.5-turbo-instruct\", max_tokens=250)\n",
    "ds.settings.configure(lm=turbo, log_openai_usage=True)"
   ]
  },
  {
   "cell_type": "code",
   "execution_count": 17,
   "metadata": {},
   "outputs": [
    {
     "name": "stderr",
     "output_type": "stream",
     "text": [
      "100%|██████████| 7473/7473 [00:00<00:00, 26876.81it/s]\n",
      "100%|██████████| 1319/1319 [00:00<00:00, 28036.56it/s]\n"
     ]
    },
    {
     "data": {
      "text/html": [
       "<pre style=\"white-space:pre;overflow-x:auto;line-height:normal;font-family:Menlo,'DejaVu Sans Mono',consolas,'Courier New',monospace\"><span style=\"font-weight: bold\">[</span>\n",
       "    <span style=\"color: #800080; text-decoration-color: #800080; font-weight: bold\">Example</span><span style=\"font-weight: bold\">({</span><span style=\"color: #008000; text-decoration-color: #008000\">'question'</span>: <span style=\"color: #008000; text-decoration-color: #008000\">\"The result from the 40-item Statistics exam Marion and Ella took already came out. Ella </span>\n",
       "<span style=\"color: #008000; text-decoration-color: #008000\">got 4 incorrect answers while Marion got 6 more than half the score of Ella. What is Marion's score?\"</span>, \n",
       "<span style=\"color: #008000; text-decoration-color: #008000\">'gold_reasoning'</span>: <span style=\"color: #008000; text-decoration-color: #008000\">\"Ella's score is 40 items - 4 items = &lt;&lt;40-4=36&gt;&gt;36 items. Half of Ella's score is 36 items / 2 =</span>\n",
       "<span style=\"color: #008000; text-decoration-color: #008000\">&lt;&lt;36/2=18&gt;&gt;18 items. So, Marion's score is 18 items + 6 items = &lt;&lt;18+6=24&gt;&gt;24 items.\"</span><span style=\"color: #000000; text-decoration-color: #000000\">, </span><span style=\"color: #008000; text-decoration-color: #008000\">'answer'</span><span style=\"color: #000000; text-decoration-color: #000000\">: </span><span style=\"color: #008000; text-decoration-color: #008000\">'24'</span><span style=\"color: #000000; text-decoration-color: #000000; font-weight: bold\">})</span><span style=\"color: #000000; text-decoration-color: #000000\"> </span>\n",
       "<span style=\"color: #000000; text-decoration-color: #000000; font-weight: bold\">(</span><span style=\"color: #808000; text-decoration-color: #808000\">input_keys</span><span style=\"color: #000000; text-decoration-color: #000000\">=</span><span style=\"color: #000000; text-decoration-color: #000000; font-weight: bold\">{</span><span style=\"color: #008000; text-decoration-color: #008000\">'question'</span><span style=\"color: #000000; text-decoration-color: #000000; font-weight: bold\">})</span><span style=\"color: #000000; text-decoration-color: #000000\">,</span>\n",
       "<span style=\"color: #000000; text-decoration-color: #000000\">    </span><span style=\"color: #800080; text-decoration-color: #800080; font-weight: bold\">Example</span><span style=\"color: #000000; text-decoration-color: #000000; font-weight: bold\">({</span><span style=\"color: #008000; text-decoration-color: #008000\">'question'</span><span style=\"color: #000000; text-decoration-color: #000000\">: </span><span style=\"color: #008000; text-decoration-color: #008000\">\"Stephen made 10 round trips up and down a 40,000 foot tall mountain. If he reached 3/4 of</span>\n",
       "<span style=\"color: #008000; text-decoration-color: #008000\">the mountain's height on each of his trips, calculate the total distance he covered.\"</span><span style=\"color: #000000; text-decoration-color: #000000\">, </span><span style=\"color: #008000; text-decoration-color: #008000\">'gold_reasoning'</span><span style=\"color: #000000; text-decoration-color: #000000\">: </span><span style=\"color: #008000; text-decoration-color: #008000\">'Up a </span>\n",
       "<span style=\"color: #008000; text-decoration-color: #008000\">mountain, Stephen covered 3/4*40000 = &lt;&lt;3/4*40000=30000&gt;&gt;30000 feet. Coming down, Stephen covered another 30000 </span>\n",
       "<span style=\"color: #008000; text-decoration-color: #008000\">feet, making the total distance covered in one round to be 30000+30000 = &lt;&lt;30000+30000=60000&gt;&gt;60000. Since Stephen </span>\n",
       "<span style=\"color: #008000; text-decoration-color: #008000\">made 10 round trips up and down the mountain, he covered 10*60000 = &lt;&lt;10*60000=600000&gt;&gt;600000'</span><span style=\"color: #000000; text-decoration-color: #000000\">, </span><span style=\"color: #008000; text-decoration-color: #008000\">'answer'</span><span style=\"color: #000000; text-decoration-color: #000000\">: </span>\n",
       "<span style=\"color: #008000; text-decoration-color: #008000\">'600000'</span><span style=\"color: #000000; text-decoration-color: #000000; font-weight: bold\">})</span><span style=\"color: #000000; text-decoration-color: #000000\"> </span><span style=\"color: #000000; text-decoration-color: #000000; font-weight: bold\">(</span><span style=\"color: #808000; text-decoration-color: #808000\">input_keys</span><span style=\"color: #000000; text-decoration-color: #000000\">=</span><span style=\"color: #000000; text-decoration-color: #000000; font-weight: bold\">{</span><span style=\"color: #008000; text-decoration-color: #008000\">'question'</span><span style=\"color: #000000; text-decoration-color: #000000; font-weight: bold\">})</span><span style=\"color: #000000; text-decoration-color: #000000\">,</span>\n",
       "<span style=\"color: #000000; text-decoration-color: #000000\">    </span><span style=\"color: #800080; text-decoration-color: #800080; font-weight: bold\">Example</span><span style=\"color: #000000; text-decoration-color: #000000; font-weight: bold\">({</span><span style=\"color: #008000; text-decoration-color: #008000\">'question'</span><span style=\"color: #000000; text-decoration-color: #000000\">: </span><span style=\"color: #008000; text-decoration-color: #008000\">'Bridget counted 14 shooting stars in the night sky.  Reginald counted two fewer shooting </span>\n",
       "<span style=\"color: #008000; text-decoration-color: #008000\">stars than did Bridget, but Sam counted four more shooting stars than did Reginald.  How many more shooting stars </span>\n",
       "<span style=\"color: #008000; text-decoration-color: #008000\">did Sam count in the night sky than was the average number of shooting stars observed for the three of them?'</span><span style=\"color: #000000; text-decoration-color: #000000\">, </span>\n",
       "<span style=\"color: #008000; text-decoration-color: #008000\">'gold_reasoning'</span><span style=\"color: #000000; text-decoration-color: #000000\">: </span><span style=\"color: #008000; text-decoration-color: #008000\">'Reginald counted two fewer shooting stars than did Bridget, or a total of 14-2=&lt;&lt;14-2=12&gt;&gt;12 </span>\n",
       "<span style=\"color: #008000; text-decoration-color: #008000\">shooting stars. Sam counted 4 more shooting stars than did Reginald, or a total of 12+4=16 shooting stars. The </span>\n",
       "<span style=\"color: #008000; text-decoration-color: #008000\">average number of shooting stars observed for the three of them was (14+12+16)/3 = &lt;&lt;14=14&gt;&gt;14 shooting stars. </span>\n",
       "<span style=\"color: #008000; text-decoration-color: #008000\">Thus, Sam counted 16-14=2 more shooting stars than was the average number of shooting stars observed for the three </span>\n",
       "<span style=\"color: #008000; text-decoration-color: #008000\">of them.'</span><span style=\"color: #000000; text-decoration-color: #000000\">, </span><span style=\"color: #008000; text-decoration-color: #008000\">'answer'</span><span style=\"color: #000000; text-decoration-color: #000000\">: </span><span style=\"color: #008000; text-decoration-color: #008000\">'2'</span><span style=\"color: #000000; text-decoration-color: #000000; font-weight: bold\">})</span><span style=\"color: #000000; text-decoration-color: #000000\"> </span><span style=\"color: #000000; text-decoration-color: #000000; font-weight: bold\">(</span><span style=\"color: #808000; text-decoration-color: #808000\">input_keys</span><span style=\"color: #000000; text-decoration-color: #000000\">=</span><span style=\"color: #000000; text-decoration-color: #000000; font-weight: bold\">{</span><span style=\"color: #008000; text-decoration-color: #008000\">'question'</span><span style=\"color: #000000; text-decoration-color: #000000; font-weight: bold\">})</span><span style=\"color: #000000; text-decoration-color: #000000\">,</span>\n",
       "<span style=\"color: #000000; text-decoration-color: #000000\">    </span><span style=\"color: #800080; text-decoration-color: #800080; font-weight: bold\">Example</span><span style=\"color: #000000; text-decoration-color: #000000; font-weight: bold\">({</span><span style=\"color: #008000; text-decoration-color: #008000\">'question'</span><span style=\"color: #000000; text-decoration-color: #000000\">: </span><span style=\"color: #008000; text-decoration-color: #008000\">'Sarah buys 20 pencils on Monday. Then she buys 18 more pencils on Tuesday. On Wednesday </span>\n",
       "<span style=\"color: #008000; text-decoration-color: #008000\">she buys triple the number of pencils she did on Tuesday. How many pencils does she have?'</span><span style=\"color: #000000; text-decoration-color: #000000\">, </span><span style=\"color: #008000; text-decoration-color: #008000\">'gold_reasoning'</span><span style=\"color: #000000; text-decoration-color: #000000\">: </span><span style=\"color: #008000; text-decoration-color: #008000\">'By </span>\n",
       "<span style=\"color: #008000; text-decoration-color: #008000\">adding together Monday and Tuesday, Saah has 20+18= &lt;&lt;20+18=38&gt;&gt;38 pencils On Wednesday, she buys 3 * 18= </span>\n",
       "<span style=\"color: #008000; text-decoration-color: #008000\">&lt;&lt;3*18=54&gt;&gt;54 pencils All together, Sarah has 38+54= &lt;&lt;38+54=92&gt;&gt;92 pencils'</span><span style=\"color: #000000; text-decoration-color: #000000\">, </span><span style=\"color: #008000; text-decoration-color: #008000\">'answer'</span><span style=\"color: #000000; text-decoration-color: #000000\">: </span><span style=\"color: #008000; text-decoration-color: #008000\">'92'</span><span style=\"color: #000000; text-decoration-color: #000000; font-weight: bold\">})</span><span style=\"color: #000000; text-decoration-color: #000000\"> </span>\n",
       "<span style=\"color: #000000; text-decoration-color: #000000; font-weight: bold\">(</span><span style=\"color: #808000; text-decoration-color: #808000\">input_keys</span><span style=\"color: #000000; text-decoration-color: #000000\">=</span><span style=\"color: #000000; text-decoration-color: #000000; font-weight: bold\">{</span><span style=\"color: #008000; text-decoration-color: #008000\">'question'</span><span style=\"color: #000000; text-decoration-color: #000000; font-weight: bold\">})</span><span style=\"color: #000000; text-decoration-color: #000000\">,</span>\n",
       "<span style=\"color: #000000; text-decoration-color: #000000\">    </span><span style=\"color: #800080; text-decoration-color: #800080; font-weight: bold\">Example</span><span style=\"color: #000000; text-decoration-color: #000000; font-weight: bold\">({</span><span style=\"color: #008000; text-decoration-color: #008000\">'question'</span><span style=\"color: #000000; text-decoration-color: #000000\">: </span><span style=\"color: #008000; text-decoration-color: #008000\">'Rookie police officers have to buy duty shoes at the full price of $85, but officers who </span>\n",
       "<span style=\"color: #008000; text-decoration-color: #008000\">have served at least a year get a 20% discount. Officers who have served at least three years get an additional 25%</span>\n",
       "<span style=\"color: #008000; text-decoration-color: #008000\">off the discounted price. How much does an officer who has served at least three years have to pay for shoes?'</span><span style=\"color: #000000; text-decoration-color: #000000\">, </span>\n",
       "<span style=\"color: #008000; text-decoration-color: #008000\">'gold_reasoning'</span><span style=\"color: #000000; text-decoration-color: #000000\">: </span><span style=\"color: #008000; text-decoration-color: #008000\">'Cops that served a year pay $85 * 0.2 = $&lt;&lt;85*0.2=17&gt;&gt;17 less. Cops that served a year pay $85 -</span>\n",
       "<span style=\"color: #008000; text-decoration-color: #008000\">$17 = $&lt;&lt;85-17=68&gt;&gt;68. Cops that served at least 3 years get a $68 * 0.25 = $&lt;&lt;68*0.25=17&gt;&gt;17 discount. Cops that </span>\n",
       "<span style=\"color: #008000; text-decoration-color: #008000\">served at least 3 years pay $68 - $17 = $&lt;&lt;68-17=51&gt;&gt;51 for shoes.'</span><span style=\"color: #000000; text-decoration-color: #000000\">, </span><span style=\"color: #008000; text-decoration-color: #008000\">'answer'</span><span style=\"color: #000000; text-decoration-color: #000000\">: </span><span style=\"color: #008000; text-decoration-color: #008000\">'51'</span><span style=\"color: #000000; text-decoration-color: #000000; font-weight: bold\">})</span><span style=\"color: #000000; text-decoration-color: #000000\"> </span><span style=\"color: #000000; text-decoration-color: #000000; font-weight: bold\">(</span><span style=\"color: #808000; text-decoration-color: #808000\">input_keys</span><span style=\"color: #000000; text-decoration-color: #000000\">=</span><span style=\"color: #000000; text-decoration-color: #000000; font-weight: bold\">{</span><span style=\"color: #008000; text-decoration-color: #008000\">'question'</span><span style=\"color: #000000; text-decoration-color: #000000; font-weight: bold\">})</span><span style=\"color: #000000; text-decoration-color: #000000\">,</span>\n",
       "<span style=\"color: #000000; text-decoration-color: #000000\">    </span><span style=\"color: #800080; text-decoration-color: #800080; font-weight: bold\">Example</span><span style=\"color: #000000; text-decoration-color: #000000; font-weight: bold\">({</span><span style=\"color: #008000; text-decoration-color: #008000\">'question'</span><span style=\"color: #000000; text-decoration-color: #000000\">: </span><span style=\"color: #008000; text-decoration-color: #008000\">\"The average score on last week's Spanish test was 90.  Marco scored 10% less than the </span>\n",
       "<span style=\"color: #008000; text-decoration-color: #008000\">average test score and Margaret received 5 more points than Marco.  What score did Margaret receive on her test?\"</span><span style=\"color: #000000; text-decoration-color: #000000\">, </span>\n",
       "<span style=\"color: #008000; text-decoration-color: #008000\">'gold_reasoning'</span><span style=\"color: #000000; text-decoration-color: #000000\">: </span><span style=\"color: #008000; text-decoration-color: #008000\">'The average test score was 90 and Marco scored 10% less so 90*.10 = &lt;&lt;90*.10=9&gt;&gt;9 points lower </span>\n",
       "<span style=\"color: #008000; text-decoration-color: #008000\">The average test score was 90 and Marco scored 9 points less so his test score was 90-9 = &lt;&lt;90-9=81&gt;&gt;81 Margret </span>\n",
       "<span style=\"color: #008000; text-decoration-color: #008000\">received 5 more points than Marco whose test score was 81 so she made 5+81 = &lt;&lt;5+81=86&gt;&gt;86 on her test'</span><span style=\"color: #000000; text-decoration-color: #000000\">, </span><span style=\"color: #008000; text-decoration-color: #008000\">'answer'</span><span style=\"color: #000000; text-decoration-color: #000000\">: </span>\n",
       "<span style=\"color: #008000; text-decoration-color: #008000\">'86'</span><span style=\"color: #000000; text-decoration-color: #000000; font-weight: bold\">})</span><span style=\"color: #000000; text-decoration-color: #000000\"> </span><span style=\"color: #000000; text-decoration-color: #000000; font-weight: bold\">(</span><span style=\"color: #808000; text-decoration-color: #808000\">input_keys</span><span style=\"color: #000000; text-decoration-color: #000000\">=</span><span style=\"color: #000000; text-decoration-color: #000000; font-weight: bold\">{</span><span style=\"color: #008000; text-decoration-color: #008000\">'question'</span><span style=\"color: #000000; text-decoration-color: #000000; font-weight: bold\">})</span><span style=\"color: #000000; text-decoration-color: #000000\">,</span>\n",
       "<span style=\"color: #000000; text-decoration-color: #000000\">    </span><span style=\"color: #800080; text-decoration-color: #800080; font-weight: bold\">Example</span><span style=\"color: #000000; text-decoration-color: #000000; font-weight: bold\">({</span><span style=\"color: #008000; text-decoration-color: #008000\">'question'</span><span style=\"color: #000000; text-decoration-color: #000000\">: </span><span style=\"color: #008000; text-decoration-color: #008000\">'A third of the contestants at a singing competition are female, and the rest are male. If</span>\n",
       "<span style=\"color: #008000; text-decoration-color: #008000\">there are 18 contestants in total, how many of them are male?'</span><span style=\"color: #000000; text-decoration-color: #000000\">, </span><span style=\"color: #008000; text-decoration-color: #008000\">'gold_reasoning'</span><span style=\"color: #000000; text-decoration-color: #000000\">: </span><span style=\"color: #008000; text-decoration-color: #008000\">'There are 18/3 = &lt;&lt;18/3=6&gt;&gt;6 </span>\n",
       "<span style=\"color: #008000; text-decoration-color: #008000\">female contestants. There are 18-6 = &lt;&lt;18-6=12&gt;&gt;12 male contestants.'</span><span style=\"color: #000000; text-decoration-color: #000000\">, </span><span style=\"color: #008000; text-decoration-color: #008000\">'answer'</span><span style=\"color: #000000; text-decoration-color: #000000\">: </span><span style=\"color: #008000; text-decoration-color: #008000\">'12'</span><span style=\"color: #000000; text-decoration-color: #000000; font-weight: bold\">})</span><span style=\"color: #000000; text-decoration-color: #000000\"> </span><span style=\"color: #000000; text-decoration-color: #000000; font-weight: bold\">(</span><span style=\"color: #808000; text-decoration-color: #808000\">input_keys</span><span style=\"color: #000000; text-decoration-color: #000000\">=</span><span style=\"color: #000000; text-decoration-color: #000000; font-weight: bold\">{</span><span style=\"color: #008000; text-decoration-color: #008000\">'question'</span><span style=\"color: #000000; text-decoration-color: #000000; font-weight: bold\">})</span><span style=\"color: #000000; text-decoration-color: #000000\">,</span>\n",
       "<span style=\"color: #000000; text-decoration-color: #000000\">    </span><span style=\"color: #800080; text-decoration-color: #800080; font-weight: bold\">Example</span><span style=\"color: #000000; text-decoration-color: #000000; font-weight: bold\">({</span><span style=\"color: #008000; text-decoration-color: #008000\">'question'</span><span style=\"color: #000000; text-decoration-color: #000000\">: </span><span style=\"color: #008000; text-decoration-color: #008000\">'Nancy bought a pie sliced it into 8 pieces. She gave 1/2 to Joe and Darcy, and she gave </span>\n",
       "<span style=\"color: #008000; text-decoration-color: #008000\">1/4 to Carl. How many slices were left?'</span><span style=\"color: #000000; text-decoration-color: #000000\">, </span><span style=\"color: #008000; text-decoration-color: #008000\">'gold_reasoning'</span><span style=\"color: #000000; text-decoration-color: #000000\">: </span><span style=\"color: #008000; text-decoration-color: #008000\">'The total number of slices she gave to Joe and Darcy </span>\n",
       "<span style=\"color: #008000; text-decoration-color: #008000\">is 1/2 x 8 = &lt;&lt;1/2*8=4&gt;&gt;4. The total slice she gave to Carl is 1/4 x 8 = &lt;&lt;1/4*8=2&gt;&gt;2. Therefore, the total slices </span>\n",
       "<span style=\"color: #008000; text-decoration-color: #008000\">left is 8 - 4 - 2 = &lt;&lt;8-4-2=2&gt;&gt;2.'</span><span style=\"color: #000000; text-decoration-color: #000000\">, </span><span style=\"color: #008000; text-decoration-color: #008000\">'answer'</span><span style=\"color: #000000; text-decoration-color: #000000\">: </span><span style=\"color: #008000; text-decoration-color: #008000\">'2'</span><span style=\"color: #000000; text-decoration-color: #000000; font-weight: bold\">})</span><span style=\"color: #000000; text-decoration-color: #000000\"> </span><span style=\"color: #000000; text-decoration-color: #000000; font-weight: bold\">(</span><span style=\"color: #808000; text-decoration-color: #808000\">input_keys</span><span style=\"color: #000000; text-decoration-color: #000000\">=</span><span style=\"color: #000000; text-decoration-color: #000000; font-weight: bold\">{</span><span style=\"color: #008000; text-decoration-color: #008000\">'question'</span><span style=\"color: #000000; text-decoration-color: #000000; font-weight: bold\">})</span><span style=\"color: #000000; text-decoration-color: #000000\">,</span>\n",
       "<span style=\"color: #000000; text-decoration-color: #000000\">    </span><span style=\"color: #800080; text-decoration-color: #800080; font-weight: bold\">Example</span><span style=\"color: #000000; text-decoration-color: #000000; font-weight: bold\">({</span><span style=\"color: #008000; text-decoration-color: #008000\">'question'</span><span style=\"color: #000000; text-decoration-color: #000000\">: </span><span style=\"color: #008000; text-decoration-color: #008000\">'Megan pays $16 for a shirt that costs $22 before sales. What is the amount of the </span>\n",
       "<span style=\"color: #008000; text-decoration-color: #008000\">discount?'</span><span style=\"color: #000000; text-decoration-color: #000000\">, </span><span style=\"color: #008000; text-decoration-color: #008000\">'gold_reasoning'</span><span style=\"color: #000000; text-decoration-color: #000000\">: </span><span style=\"color: #008000; text-decoration-color: #008000\">'Let x be the amount of the discount. We have, 22 - x = $16 We change the writing of </span>\n",
       "<span style=\"color: #008000; text-decoration-color: #008000\">the equation: 22 - x + x = 16 + x So, 22 = 16 + x We then Remove 16 from both sides: 22 - 16 = 16 + x - 16 So, 22 -</span>\n",
       "<span style=\"color: #008000; text-decoration-color: #008000\">16 = x So, the amount of the discount is x = $&lt;&lt;6=6&gt;&gt;6.'</span><span style=\"color: #000000; text-decoration-color: #000000\">, </span><span style=\"color: #008000; text-decoration-color: #008000\">'answer'</span><span style=\"color: #000000; text-decoration-color: #000000\">: </span><span style=\"color: #008000; text-decoration-color: #008000\">'6'</span><span style=\"color: #000000; text-decoration-color: #000000; font-weight: bold\">})</span><span style=\"color: #000000; text-decoration-color: #000000\"> </span><span style=\"color: #000000; text-decoration-color: #000000; font-weight: bold\">(</span><span style=\"color: #808000; text-decoration-color: #808000\">input_keys</span><span style=\"color: #000000; text-decoration-color: #000000\">=</span><span style=\"color: #000000; text-decoration-color: #000000; font-weight: bold\">{</span><span style=\"color: #008000; text-decoration-color: #008000\">'question'</span><span style=\"color: #000000; text-decoration-color: #000000; font-weight: bold\">})</span><span style=\"color: #000000; text-decoration-color: #000000\">,</span>\n",
       "<span style=\"color: #000000; text-decoration-color: #000000\">    </span><span style=\"color: #800080; text-decoration-color: #800080; font-weight: bold\">Example</span><span style=\"color: #000000; text-decoration-color: #000000; font-weight: bold\">({</span><span style=\"color: #008000; text-decoration-color: #008000\">'question'</span><span style=\"color: #000000; text-decoration-color: #000000\">: </span><span style=\"color: #008000; text-decoration-color: #008000\">\"Amaya scored 20 marks fewer in Maths than she scored in Arts. She also got 10 marks more </span>\n",
       "<span style=\"color: #008000; text-decoration-color: #008000\">in Social Studies than she got in Music. If she scored 70 in Music and scored 1/10 less in Maths, what's the total </span>\n",
       "<span style=\"color: #008000; text-decoration-color: #008000\">number of marks she scored in all the subjects?\"</span><span style=\"color: #000000; text-decoration-color: #000000\">, </span><span style=\"color: #008000; text-decoration-color: #008000\">'gold_reasoning'</span><span style=\"color: #000000; text-decoration-color: #000000\">: </span><span style=\"color: #008000; text-decoration-color: #008000\">'The total marks Amaya scored more in Music </span>\n",
       "<span style=\"color: #008000; text-decoration-color: #008000\">than in Maths is 1/10 * 70 = &lt;&lt;1/10*70=7&gt;&gt;7 marks. So the total marks she scored in Maths is 70 - 7 = &lt;&lt;70-7=63&gt;&gt;63</span>\n",
       "<span style=\"color: #008000; text-decoration-color: #008000\">marks. If she scored 20 marks fewer in Maths than in Arts, then he scored 63 + 20 = &lt;&lt;63+20=83&gt;&gt;83 in Arts. If she </span>\n",
       "<span style=\"color: #008000; text-decoration-color: #008000\">scored 10 marks more in Social Studies than in Music, then she scored 70 + 10 = &lt;&lt;10+70=80&gt;&gt;80 marks in Social </span>\n",
       "<span style=\"color: #008000; text-decoration-color: #008000\">Studies. The total number of marks for all the subjects is 70 + 63 + 83 + 80 = &lt;&lt;70+63+83+80=296&gt;&gt;296 marks.'</span>, \n",
       "<span style=\"color: #008000; text-decoration-color: #008000\">'answer'</span>: <span style=\"color: #008000; text-decoration-color: #008000\">'296'</span><span style=\"font-weight: bold\">})</span> <span style=\"font-weight: bold\">(</span><span style=\"color: #808000; text-decoration-color: #808000\">input_keys</span>=<span style=\"font-weight: bold\">{</span><span style=\"color: #008000; text-decoration-color: #008000\">'question'</span><span style=\"font-weight: bold\">})</span>\n",
       "<span style=\"font-weight: bold\">]</span>\n",
       "</pre>\n"
      ],
      "text/plain": [
       "\u001b[1m[\u001b[0m\n",
       "    \u001b[1;35mExample\u001b[0m\u001b[1m(\u001b[0m\u001b[1m{\u001b[0m\u001b[32m'question'\u001b[0m: \u001b[32m\"The result from the 40-item Statistics exam Marion and Ella took already came out. Ella \u001b[0m\n",
       "\u001b[32mgot 4 incorrect answers while Marion got 6 more than half the score of Ella. What is Marion's score?\"\u001b[0m, \n",
       "\u001b[32m'gold_reasoning'\u001b[0m: \u001b[32m\"Ella's score is 40 items - 4 items = \u001b[0m\u001b[32m<\u001b[0m\u001b[32m<40-\u001b[0m\u001b[32m4\u001b[0m\u001b[32m=\u001b[0m\u001b[32m36\u001b[0m\u001b[32m>>36 items. Half of Ella's score is 36 items / 2 =\u001b[0m\n",
       "\u001b[32m<<36/\u001b[0m\u001b[32m2\u001b[0m\u001b[32m=\u001b[0m\u001b[32m18\u001b[0m\u001b[32m>>18 items. So, Marion's score is 18 items + 6 items = <<18+\u001b[0m\u001b[32m6\u001b[0m\u001b[32m=\u001b[0m\u001b[32m24\u001b[0m\u001b[32m>>24 items.\"\u001b[0m\u001b[39m, \u001b[0m\u001b[32m'answer'\u001b[0m\u001b[39m: \u001b[0m\u001b[32m'24'\u001b[0m\u001b[1;39m}\u001b[0m\u001b[1;39m)\u001b[0m\u001b[39m \u001b[0m\n",
       "\u001b[1;39m(\u001b[0m\u001b[33minput_keys\u001b[0m\u001b[39m=\u001b[0m\u001b[1;39m{\u001b[0m\u001b[32m'question'\u001b[0m\u001b[1;39m}\u001b[0m\u001b[1;39m)\u001b[0m\u001b[39m,\u001b[0m\n",
       "\u001b[39m    \u001b[0m\u001b[1;35mExample\u001b[0m\u001b[1;39m(\u001b[0m\u001b[1;39m{\u001b[0m\u001b[32m'question'\u001b[0m\u001b[39m: \u001b[0m\u001b[32m\"Stephen made 10 round trips up and down a 40,000 foot tall mountain. If he reached 3/4 of\u001b[0m\n",
       "\u001b[32mthe mountain's height on each of his trips, calculate the total distance he covered.\"\u001b[0m\u001b[39m, \u001b[0m\u001b[32m'gold_reasoning'\u001b[0m\u001b[39m: \u001b[0m\u001b[32m'Up a \u001b[0m\n",
       "\u001b[32mmountain, Stephen covered 3/4*40000 = <<3/4*\u001b[0m\u001b[32m40000\u001b[0m\u001b[32m=\u001b[0m\u001b[32m30000\u001b[0m\u001b[32m>>30000 feet. Coming down, Stephen covered another 30000 \u001b[0m\n",
       "\u001b[32mfeet, making the total distance covered in one round to be 30000+30000 = <<30000+\u001b[0m\u001b[32m30000\u001b[0m\u001b[32m=\u001b[0m\u001b[32m60000\u001b[0m\u001b[32m>>60000. Since Stephen \u001b[0m\n",
       "\u001b[32mmade 10 round trips up and down the mountain, he covered 10*60000 = <<10*\u001b[0m\u001b[32m60000\u001b[0m\u001b[32m=\u001b[0m\u001b[32m600000\u001b[0m\u001b[32m>>600000'\u001b[0m\u001b[39m, \u001b[0m\u001b[32m'answer'\u001b[0m\u001b[39m: \u001b[0m\n",
       "\u001b[32m'600000'\u001b[0m\u001b[1;39m}\u001b[0m\u001b[1;39m)\u001b[0m\u001b[39m \u001b[0m\u001b[1;39m(\u001b[0m\u001b[33minput_keys\u001b[0m\u001b[39m=\u001b[0m\u001b[1;39m{\u001b[0m\u001b[32m'question'\u001b[0m\u001b[1;39m}\u001b[0m\u001b[1;39m)\u001b[0m\u001b[39m,\u001b[0m\n",
       "\u001b[39m    \u001b[0m\u001b[1;35mExample\u001b[0m\u001b[1;39m(\u001b[0m\u001b[1;39m{\u001b[0m\u001b[32m'question'\u001b[0m\u001b[39m: \u001b[0m\u001b[32m'Bridget counted 14 shooting stars in the night sky.  Reginald counted two fewer shooting \u001b[0m\n",
       "\u001b[32mstars than did Bridget, but Sam counted four more shooting stars than did Reginald.  How many more shooting stars \u001b[0m\n",
       "\u001b[32mdid Sam count in the night sky than was the average number of shooting stars observed for the three of them?'\u001b[0m\u001b[39m, \u001b[0m\n",
       "\u001b[32m'gold_reasoning'\u001b[0m\u001b[39m: \u001b[0m\u001b[32m'Reginald counted two fewer shooting stars than did Bridget, or a total of 14-\u001b[0m\u001b[32m2\u001b[0m\u001b[32m=<<14-\u001b[0m\u001b[32m2\u001b[0m\u001b[32m=\u001b[0m\u001b[32m12\u001b[0m\u001b[32m>>12 \u001b[0m\n",
       "\u001b[32mshooting stars. Sam counted 4 more shooting stars than did Reginald, or a total of 12+\u001b[0m\u001b[32m4\u001b[0m\u001b[32m=\u001b[0m\u001b[32m16\u001b[0m\u001b[32m shooting stars. The \u001b[0m\n",
       "\u001b[32maverage number of shooting stars observed for the three of them was \u001b[0m\u001b[32m(\u001b[0m\u001b[32m14+12+16\u001b[0m\u001b[32m)\u001b[0m\u001b[32m/3 = <<\u001b[0m\u001b[32m14\u001b[0m\u001b[32m=\u001b[0m\u001b[32m14\u001b[0m\u001b[32m>>14 shooting stars. \u001b[0m\n",
       "\u001b[32mThus, Sam counted 16-\u001b[0m\u001b[32m14\u001b[0m\u001b[32m=\u001b[0m\u001b[32m2\u001b[0m\u001b[32m more shooting stars than was the average number of shooting stars observed for the three \u001b[0m\n",
       "\u001b[32mof them.'\u001b[0m\u001b[39m, \u001b[0m\u001b[32m'answer'\u001b[0m\u001b[39m: \u001b[0m\u001b[32m'2'\u001b[0m\u001b[1;39m}\u001b[0m\u001b[1;39m)\u001b[0m\u001b[39m \u001b[0m\u001b[1;39m(\u001b[0m\u001b[33minput_keys\u001b[0m\u001b[39m=\u001b[0m\u001b[1;39m{\u001b[0m\u001b[32m'question'\u001b[0m\u001b[1;39m}\u001b[0m\u001b[1;39m)\u001b[0m\u001b[39m,\u001b[0m\n",
       "\u001b[39m    \u001b[0m\u001b[1;35mExample\u001b[0m\u001b[1;39m(\u001b[0m\u001b[1;39m{\u001b[0m\u001b[32m'question'\u001b[0m\u001b[39m: \u001b[0m\u001b[32m'Sarah buys 20 pencils on Monday. Then she buys 18 more pencils on Tuesday. On Wednesday \u001b[0m\n",
       "\u001b[32mshe buys triple the number of pencils she did on Tuesday. How many pencils does she have?'\u001b[0m\u001b[39m, \u001b[0m\u001b[32m'gold_reasoning'\u001b[0m\u001b[39m: \u001b[0m\u001b[32m'By \u001b[0m\n",
       "\u001b[32madding together Monday and Tuesday, Saah has 20+\u001b[0m\u001b[32m18\u001b[0m\u001b[32m= <<20+\u001b[0m\u001b[32m18\u001b[0m\u001b[32m=\u001b[0m\u001b[32m38\u001b[0m\u001b[32m>>38 pencils On Wednesday, she buys 3 * \u001b[0m\u001b[32m18\u001b[0m\u001b[32m= \u001b[0m\n",
       "\u001b[32m<<3*\u001b[0m\u001b[32m18\u001b[0m\u001b[32m=\u001b[0m\u001b[32m54\u001b[0m\u001b[32m>>54 pencils All together, Sarah has 38+\u001b[0m\u001b[32m54\u001b[0m\u001b[32m= <<38+\u001b[0m\u001b[32m54\u001b[0m\u001b[32m=\u001b[0m\u001b[32m92\u001b[0m\u001b[32m>>92 pencils'\u001b[0m\u001b[39m, \u001b[0m\u001b[32m'answer'\u001b[0m\u001b[39m: \u001b[0m\u001b[32m'92'\u001b[0m\u001b[1;39m}\u001b[0m\u001b[1;39m)\u001b[0m\u001b[39m \u001b[0m\n",
       "\u001b[1;39m(\u001b[0m\u001b[33minput_keys\u001b[0m\u001b[39m=\u001b[0m\u001b[1;39m{\u001b[0m\u001b[32m'question'\u001b[0m\u001b[1;39m}\u001b[0m\u001b[1;39m)\u001b[0m\u001b[39m,\u001b[0m\n",
       "\u001b[39m    \u001b[0m\u001b[1;35mExample\u001b[0m\u001b[1;39m(\u001b[0m\u001b[1;39m{\u001b[0m\u001b[32m'question'\u001b[0m\u001b[39m: \u001b[0m\u001b[32m'Rookie police officers have to buy duty shoes at the full price of $85, but officers who \u001b[0m\n",
       "\u001b[32mhave served at least a year get a 20% discount. Officers who have served at least three years get an additional 25%\u001b[0m\n",
       "\u001b[32moff the discounted price. How much does an officer who has served at least three years have to pay for shoes?'\u001b[0m\u001b[39m, \u001b[0m\n",
       "\u001b[32m'gold_reasoning'\u001b[0m\u001b[39m: \u001b[0m\u001b[32m'Cops that served a year pay $85 * 0.2 = $<<85*0.\u001b[0m\u001b[32m2\u001b[0m\u001b[32m=\u001b[0m\u001b[32m17\u001b[0m\u001b[32m>>17 less. Cops that served a year pay $85 -\u001b[0m\n",
       "\u001b[32m$17 = $<<85-\u001b[0m\u001b[32m17\u001b[0m\u001b[32m=\u001b[0m\u001b[32m68\u001b[0m\u001b[32m>>68. Cops that served at least 3 years get a $68 * 0.25 = $<<68*0.\u001b[0m\u001b[32m25\u001b[0m\u001b[32m=\u001b[0m\u001b[32m17\u001b[0m\u001b[32m>>17 discount. Cops that \u001b[0m\n",
       "\u001b[32mserved at least 3 years pay $68 - $17 = $<<68-\u001b[0m\u001b[32m17\u001b[0m\u001b[32m=\u001b[0m\u001b[32m51\u001b[0m\u001b[32m>>51 for shoes.'\u001b[0m\u001b[39m, \u001b[0m\u001b[32m'answer'\u001b[0m\u001b[39m: \u001b[0m\u001b[32m'51'\u001b[0m\u001b[1;39m}\u001b[0m\u001b[1;39m)\u001b[0m\u001b[39m \u001b[0m\u001b[1;39m(\u001b[0m\u001b[33minput_keys\u001b[0m\u001b[39m=\u001b[0m\u001b[1;39m{\u001b[0m\u001b[32m'question'\u001b[0m\u001b[1;39m}\u001b[0m\u001b[1;39m)\u001b[0m\u001b[39m,\u001b[0m\n",
       "\u001b[39m    \u001b[0m\u001b[1;35mExample\u001b[0m\u001b[1;39m(\u001b[0m\u001b[1;39m{\u001b[0m\u001b[32m'question'\u001b[0m\u001b[39m: \u001b[0m\u001b[32m\"The average score on last week's Spanish test was 90.  Marco scored 10% less than the \u001b[0m\n",
       "\u001b[32maverage test score and Margaret received 5 more points than Marco.  What score did Margaret receive on her test?\"\u001b[0m\u001b[39m, \u001b[0m\n",
       "\u001b[32m'gold_reasoning'\u001b[0m\u001b[39m: \u001b[0m\u001b[32m'The average test score was 90 and Marco scored 10% less so 90*.10 = <<90*.\u001b[0m\u001b[32m10\u001b[0m\u001b[32m=\u001b[0m\u001b[32m9\u001b[0m\u001b[32m>>9 points lower \u001b[0m\n",
       "\u001b[32mThe average test score was 90 and Marco scored 9 points less so his test score was 90-9 = <<90-\u001b[0m\u001b[32m9\u001b[0m\u001b[32m=\u001b[0m\u001b[32m81\u001b[0m\u001b[32m>>81 Margret \u001b[0m\n",
       "\u001b[32mreceived 5 more points than Marco whose test score was 81 so she made 5+81 = <<5+\u001b[0m\u001b[32m81\u001b[0m\u001b[32m=\u001b[0m\u001b[32m86\u001b[0m\u001b[32m>>86 on her test'\u001b[0m\u001b[39m, \u001b[0m\u001b[32m'answer'\u001b[0m\u001b[39m: \u001b[0m\n",
       "\u001b[32m'86'\u001b[0m\u001b[1;39m}\u001b[0m\u001b[1;39m)\u001b[0m\u001b[39m \u001b[0m\u001b[1;39m(\u001b[0m\u001b[33minput_keys\u001b[0m\u001b[39m=\u001b[0m\u001b[1;39m{\u001b[0m\u001b[32m'question'\u001b[0m\u001b[1;39m}\u001b[0m\u001b[1;39m)\u001b[0m\u001b[39m,\u001b[0m\n",
       "\u001b[39m    \u001b[0m\u001b[1;35mExample\u001b[0m\u001b[1;39m(\u001b[0m\u001b[1;39m{\u001b[0m\u001b[32m'question'\u001b[0m\u001b[39m: \u001b[0m\u001b[32m'A third of the contestants at a singing competition are female, and the rest are male. If\u001b[0m\n",
       "\u001b[32mthere are 18 contestants in total, how many of them are male?'\u001b[0m\u001b[39m, \u001b[0m\u001b[32m'gold_reasoning'\u001b[0m\u001b[39m: \u001b[0m\u001b[32m'There are 18/3 = <<18/\u001b[0m\u001b[32m3\u001b[0m\u001b[32m=\u001b[0m\u001b[32m6\u001b[0m\u001b[32m>>6 \u001b[0m\n",
       "\u001b[32mfemale contestants. There are 18-6 = <<18-\u001b[0m\u001b[32m6\u001b[0m\u001b[32m=\u001b[0m\u001b[32m12\u001b[0m\u001b[32m>>12 male contestants.'\u001b[0m\u001b[39m, \u001b[0m\u001b[32m'answer'\u001b[0m\u001b[39m: \u001b[0m\u001b[32m'12'\u001b[0m\u001b[1;39m}\u001b[0m\u001b[1;39m)\u001b[0m\u001b[39m \u001b[0m\u001b[1;39m(\u001b[0m\u001b[33minput_keys\u001b[0m\u001b[39m=\u001b[0m\u001b[1;39m{\u001b[0m\u001b[32m'question'\u001b[0m\u001b[1;39m}\u001b[0m\u001b[1;39m)\u001b[0m\u001b[39m,\u001b[0m\n",
       "\u001b[39m    \u001b[0m\u001b[1;35mExample\u001b[0m\u001b[1;39m(\u001b[0m\u001b[1;39m{\u001b[0m\u001b[32m'question'\u001b[0m\u001b[39m: \u001b[0m\u001b[32m'Nancy bought a pie sliced it into 8 pieces. She gave 1/2 to Joe and Darcy, and she gave \u001b[0m\n",
       "\u001b[32m1/4 to Carl. How many slices were left?'\u001b[0m\u001b[39m, \u001b[0m\u001b[32m'gold_reasoning'\u001b[0m\u001b[39m: \u001b[0m\u001b[32m'The total number of slices she gave to Joe and Darcy \u001b[0m\n",
       "\u001b[32mis 1/2 x 8 = <<1/2*\u001b[0m\u001b[32m8\u001b[0m\u001b[32m=\u001b[0m\u001b[32m4\u001b[0m\u001b[32m>>4. The total slice she gave to Carl is 1/4 x 8 = <<1/4*\u001b[0m\u001b[32m8\u001b[0m\u001b[32m=\u001b[0m\u001b[32m2\u001b[0m\u001b[32m>>2. Therefore, the total slices \u001b[0m\n",
       "\u001b[32mleft is 8 - 4 - 2 = <<8-4-\u001b[0m\u001b[32m2\u001b[0m\u001b[32m=\u001b[0m\u001b[32m2\u001b[0m\u001b[32m>>2.'\u001b[0m\u001b[39m, \u001b[0m\u001b[32m'answer'\u001b[0m\u001b[39m: \u001b[0m\u001b[32m'2'\u001b[0m\u001b[1;39m}\u001b[0m\u001b[1;39m)\u001b[0m\u001b[39m \u001b[0m\u001b[1;39m(\u001b[0m\u001b[33minput_keys\u001b[0m\u001b[39m=\u001b[0m\u001b[1;39m{\u001b[0m\u001b[32m'question'\u001b[0m\u001b[1;39m}\u001b[0m\u001b[1;39m)\u001b[0m\u001b[39m,\u001b[0m\n",
       "\u001b[39m    \u001b[0m\u001b[1;35mExample\u001b[0m\u001b[1;39m(\u001b[0m\u001b[1;39m{\u001b[0m\u001b[32m'question'\u001b[0m\u001b[39m: \u001b[0m\u001b[32m'Megan pays $16 for a shirt that costs $22 before sales. What is the amount of the \u001b[0m\n",
       "\u001b[32mdiscount?'\u001b[0m\u001b[39m, \u001b[0m\u001b[32m'gold_reasoning'\u001b[0m\u001b[39m: \u001b[0m\u001b[32m'Let x be the amount of the discount. We have, 22 - x = $16 We change the writing of \u001b[0m\n",
       "\u001b[32mthe equation: 22 - x + x = 16 + x So, 22 = 16 + x We then Remove 16 from both sides: 22 - 16 = 16 + x - 16 So, 22 -\u001b[0m\n",
       "\u001b[32m16 = x So, the amount of the discount is x = $<<\u001b[0m\u001b[32m6\u001b[0m\u001b[32m=\u001b[0m\u001b[32m6\u001b[0m\u001b[32m>>6.'\u001b[0m\u001b[39m, \u001b[0m\u001b[32m'answer'\u001b[0m\u001b[39m: \u001b[0m\u001b[32m'6'\u001b[0m\u001b[1;39m}\u001b[0m\u001b[1;39m)\u001b[0m\u001b[39m \u001b[0m\u001b[1;39m(\u001b[0m\u001b[33minput_keys\u001b[0m\u001b[39m=\u001b[0m\u001b[1;39m{\u001b[0m\u001b[32m'question'\u001b[0m\u001b[1;39m}\u001b[0m\u001b[1;39m)\u001b[0m\u001b[39m,\u001b[0m\n",
       "\u001b[39m    \u001b[0m\u001b[1;35mExample\u001b[0m\u001b[1;39m(\u001b[0m\u001b[1;39m{\u001b[0m\u001b[32m'question'\u001b[0m\u001b[39m: \u001b[0m\u001b[32m\"Amaya scored 20 marks fewer in Maths than she scored in Arts. She also got 10 marks more \u001b[0m\n",
       "\u001b[32min Social Studies than she got in Music. If she scored 70 in Music and scored 1/10 less in Maths, what's the total \u001b[0m\n",
       "\u001b[32mnumber of marks she scored in all the subjects?\"\u001b[0m\u001b[39m, \u001b[0m\u001b[32m'gold_reasoning'\u001b[0m\u001b[39m: \u001b[0m\u001b[32m'The total marks Amaya scored more in Music \u001b[0m\n",
       "\u001b[32mthan in Maths is 1/10 * 70 = <<1/10*\u001b[0m\u001b[32m70\u001b[0m\u001b[32m=\u001b[0m\u001b[32m7\u001b[0m\u001b[32m>>7 marks. So the total marks she scored in Maths is 70 - 7 = <<70-\u001b[0m\u001b[32m7\u001b[0m\u001b[32m=\u001b[0m\u001b[32m63\u001b[0m\u001b[32m>>63\u001b[0m\n",
       "\u001b[32mmarks. If she scored 20 marks fewer in Maths than in Arts, then he scored 63 + 20 = <<63+\u001b[0m\u001b[32m20\u001b[0m\u001b[32m=\u001b[0m\u001b[32m83\u001b[0m\u001b[32m>>83 in Arts. If she \u001b[0m\n",
       "\u001b[32mscored 10 marks more in Social Studies than in Music, then she scored 70 + 10 = <<10+\u001b[0m\u001b[32m70\u001b[0m\u001b[32m=\u001b[0m\u001b[32m80\u001b[0m\u001b[32m>>80 marks in Social \u001b[0m\n",
       "\u001b[32mStudies. The total number of marks for all the subjects is 70 + 63 + 83 + 80 = <<70+63+83+\u001b[0m\u001b[32m80\u001b[0m\u001b[32m=\u001b[0m\u001b[32m296\u001b[0m\u001b[32m>\u001b[0m\u001b[32m>\u001b[0m\u001b[32m296 marks.'\u001b[0m, \n",
       "\u001b[32m'answer'\u001b[0m: \u001b[32m'296'\u001b[0m\u001b[1m}\u001b[0m\u001b[1m)\u001b[0m \u001b[1m(\u001b[0m\u001b[33minput_keys\u001b[0m=\u001b[1m{\u001b[0m\u001b[32m'question'\u001b[0m\u001b[1m}\u001b[0m\u001b[1m)\u001b[0m\n",
       "\u001b[1m]\u001b[0m\n"
      ]
     },
     "metadata": {},
     "output_type": "display_data"
    }
   ],
   "source": [
    "gsm8k = GSM8K()\n",
    "\n",
    "train_gsm8k, dev_gsm8k = gsm8k.train[:10], gsm8k.dev[:10]\n",
    "\n",
    "print(train_gsm8k)\n"
   ]
  },
  {
   "cell_type": "code",
   "execution_count": 28,
   "metadata": {},
   "outputs": [
    {
     "data": {
      "text/html": [
       "<pre style=\"white-space:pre;overflow-x:auto;line-height:normal;font-family:Menlo,'DejaVu Sans Mono',consolas,'Courier New',monospace\"><span style=\"color: #800080; text-decoration-color: #800080; font-weight: bold\">Example</span><span style=\"font-weight: bold\">({</span><span style=\"color: #008000; text-decoration-color: #008000\">'question'</span>: <span style=\"color: #008000; text-decoration-color: #008000\">\"The result from the 40-item Statistics exam Marion and Ella took already came out. Ella got 4</span>\n",
       "<span style=\"color: #008000; text-decoration-color: #008000\">incorrect answers while Marion got 6 more than half the score of Ella. What is Marion's score?\"</span>, <span style=\"color: #008000; text-decoration-color: #008000\">'gold_reasoning'</span>: \n",
       "<span style=\"color: #008000; text-decoration-color: #008000\">\"Ella's score is 40 items - 4 items = &lt;&lt;40-4=36&gt;&gt;36 items. Half of Ella's score is 36 items / 2 = &lt;&lt;36/2=18&gt;&gt;18 </span>\n",
       "<span style=\"color: #008000; text-decoration-color: #008000\">items. So, Marion's score is 18 items + 6 items = &lt;&lt;18+6=24&gt;&gt;24 items.\"</span>, <span style=\"color: #008000; text-decoration-color: #008000\">'answer'</span>: <span style=\"color: #008000; text-decoration-color: #008000\">'24'</span><span style=\"font-weight: bold\">})</span> <span style=\"font-weight: bold\">(</span><span style=\"color: #808000; text-decoration-color: #808000\">input_keys</span>=<span style=\"font-weight: bold\">{</span><span style=\"color: #008000; text-decoration-color: #008000\">'question'</span><span style=\"font-weight: bold\">})</span>\n",
       "</pre>\n"
      ],
      "text/plain": [
       "\u001b[1;35mExample\u001b[0m\u001b[1m(\u001b[0m\u001b[1m{\u001b[0m\u001b[32m'question'\u001b[0m: \u001b[32m\"The result from the 40-item Statistics exam Marion and Ella took already came out. Ella got 4\u001b[0m\n",
       "\u001b[32mincorrect answers while Marion got 6 more than half the score of Ella. What is Marion's score?\"\u001b[0m, \u001b[32m'gold_reasoning'\u001b[0m: \n",
       "\u001b[32m\"Ella's score is 40 items - 4 items = \u001b[0m\u001b[32m<\u001b[0m\u001b[32m<40-\u001b[0m\u001b[32m4\u001b[0m\u001b[32m=\u001b[0m\u001b[32m36\u001b[0m\u001b[32m>>36 items. Half of Ella's score is 36 items / 2 = <<36/\u001b[0m\u001b[32m2\u001b[0m\u001b[32m=\u001b[0m\u001b[32m18\u001b[0m\u001b[32m>>18 \u001b[0m\n",
       "\u001b[32mitems. So, Marion's score is 18 items + 6 items = <<18+\u001b[0m\u001b[32m6\u001b[0m\u001b[32m=\u001b[0m\u001b[32m24\u001b[0m\u001b[32m>\u001b[0m\u001b[32m>\u001b[0m\u001b[32m24 items.\"\u001b[0m, \u001b[32m'answer'\u001b[0m: \u001b[32m'24'\u001b[0m\u001b[1m}\u001b[0m\u001b[1m)\u001b[0m \u001b[1m(\u001b[0m\u001b[33minput_keys\u001b[0m=\u001b[1m{\u001b[0m\u001b[32m'question'\u001b[0m\u001b[1m}\u001b[0m\u001b[1m)\u001b[0m\n"
      ]
     },
     "metadata": {},
     "output_type": "display_data"
    }
   ],
   "source": [
    "print(train_gsm8k[0])"
   ]
  },
  {
   "cell_type": "markdown",
   "metadata": {},
   "source": [
    "### Define the modules\n"
   ]
  },
  {
   "cell_type": "code",
   "execution_count": 33,
   "metadata": {},
   "outputs": [],
   "source": [
    "class CoT(ds.Module):\n",
    "    def __init__(self):\n",
    "        super().__init__()\n",
    "        self.prog = ds.ChainOfThought(\"question -> answer\")\n",
    "\n",
    "    def forward(self, question):\n",
    "        return self.prog(question=question)"
   ]
  },
  {
   "cell_type": "code",
   "execution_count": 43,
   "metadata": {},
   "outputs": [
    {
     "name": "stderr",
     "output_type": "stream",
     "text": [
      " 50%|█████     | 5/10 [00:08<00:08,  1.67s/it]\n"
     ]
    },
    {
     "name": "stdout",
     "output_type": "stream",
     "text": [
      "Bootstrapped 4 full traces after 6 examples in round 0.\n"
     ]
    },
    {
     "data": {
      "text/html": [
       "<pre style=\"white-space:pre;overflow-x:auto;line-height:normal;font-family:Menlo,'DejaVu Sans Mono',consolas,'Courier New',monospace\"></pre>\n"
      ],
      "text/plain": []
     },
     "metadata": {},
     "output_type": "display_data"
    },
    {
     "data": {
      "text/plain": [
       "\n",
       "prog = \u001b[1;35mChainOfThought\u001b[0m\u001b[1m(\u001b[0m\u001b[1;35mStringSignature\u001b[0m\u001b[1m(\u001b[0mquestion -> answer\n",
       "    \u001b[33minstructions\u001b[0m=\u001b[32m'Given the fields `question`, produce the fields `answer`.'\u001b[0m\n",
       "    question = \u001b[1;35mField\u001b[0m\u001b[1m(\u001b[0m\u001b[33mannotation\u001b[0m=\u001b[35mstr\u001b[0m \u001b[33mrequired\u001b[0m=\u001b[3;92mTrue\u001b[0m \u001b[33mjson_schema_extra\u001b[0m=\u001b[1m{\u001b[0m\u001b[32m'__dspy_field_type'\u001b[0m: \u001b[32m'input'\u001b[0m, \u001b[32m'prefix'\u001b[0m: \u001b[32m'Question:'\u001b[0m, \u001b[32m'desc'\u001b[0m: \u001b[32m'$\u001b[0m\u001b[32m{\u001b[0m\u001b[32mquestion\u001b[0m\u001b[32m}\u001b[0m\u001b[32m'\u001b[0m\u001b[1m}\u001b[0m\u001b[1m)\u001b[0m\n",
       "    answer = \u001b[1;35mField\u001b[0m\u001b[1m(\u001b[0m\u001b[33mannotation\u001b[0m=\u001b[35mstr\u001b[0m \u001b[33mrequired\u001b[0m=\u001b[3;92mTrue\u001b[0m \u001b[33mjson_schema_extra\u001b[0m=\u001b[1m{\u001b[0m\u001b[32m'__dspy_field_type'\u001b[0m: \u001b[32m'output'\u001b[0m, \u001b[32m'prefix'\u001b[0m: \u001b[32m'Answer:'\u001b[0m, \u001b[32m'desc'\u001b[0m: \u001b[32m'$\u001b[0m\u001b[32m{\u001b[0m\u001b[32manswer\u001b[0m\u001b[32m}\u001b[0m\u001b[32m'\u001b[0m\u001b[1m}\u001b[0m\u001b[1m)\u001b[0m\n",
       "\u001b[1m)\u001b[0m\u001b[1m)\u001b[0m"
      ]
     },
     "execution_count": 43,
     "metadata": {},
     "output_type": "execute_result"
    }
   ],
   "source": [
    "teleprompter = BootstrapFewShot(\n",
    "    metric=gsm8k_metric, max_bootstrapped_demos=4, max_labeled_demos=4\n",
    ")\n",
    "\n",
    "optimized_cot = teleprompter.compile(CoT(), trainset=train_gsm8k, valset=dev_gsm8k)\n"
   ]
  },
  {
   "cell_type": "code",
   "execution_count": 52,
   "metadata": {},
   "outputs": [
    {
     "data": {
      "text/html": [
       "<pre style=\"white-space:pre;overflow-x:auto;line-height:normal;font-family:Menlo,'DejaVu Sans Mono',consolas,'Courier New',monospace\"></pre>\n"
      ],
      "text/plain": []
     },
     "metadata": {},
     "output_type": "display_data"
    },
    {
     "data": {
      "text/plain": [
       "\n",
       "\u001b[1;35mPrediction\u001b[0m\u001b[1m(\u001b[0m\n",
       "    \u001b[33mrationale\u001b[0m=\u001b[32m'find the answer. First, we know that the country is France. Then, we know that the capital is the most important city in a country. Therefore, the capital of France is Paris.'\u001b[0m,\n",
       "    \u001b[33manswer\u001b[0m=\u001b[32m'Paris'\u001b[0m\n",
       "\u001b[1m)\u001b[0m"
      ]
     },
     "execution_count": 52,
     "metadata": {},
     "output_type": "execute_result"
    }
   ],
   "source": [
    "optimized_cot(question=\"What is the capital of France?\")"
   ]
  },
  {
   "cell_type": "code",
   "execution_count": 53,
   "metadata": {},
   "outputs": [],
   "source": [
    "evalute = Evaluate(\n",
    "    devset=dev_gsm8k,\n",
    "    metric=gsm8k_metric,\n",
    "    num_threads=4,\n",
    "    display_progress=True,\n",
    "    display_table=1,\n",
    ")"
   ]
  },
  {
   "cell_type": "code",
   "execution_count": 54,
   "metadata": {},
   "outputs": [
    {
     "name": "stderr",
     "output_type": "stream",
     "text": [
      "Average Metric: 9 / 10  (90.0): 100%|██████████| 10/10 [00:04<00:00,  2.46it/s]\n"
     ]
    },
    {
     "name": "stdout",
     "output_type": "stream",
     "text": [
      "Average Metric: 9 / 10  (90.0%)\n"
     ]
    },
    {
     "name": "stderr",
     "output_type": "stream",
     "text": [
      "e:\\Projects\\langchain_rag\\venv\\lib\\site-packages\\dspy\\evaluate\\evaluate.py:266: FutureWarning: Setting an item of incompatible dtype is deprecated and will raise in a future error of pandas. Value '['✔️ [True]']' has dtype incompatible with bool, please explicitly cast to a compatible dtype first.\n",
      "  df.loc[:, metric_name] = df[metric_name].apply(\n"
     ]
    },
    {
     "data": {
      "text/html": [
       "<pre style=\"white-space:pre;overflow-x:auto;line-height:normal;font-family:Menlo,'DejaVu Sans Mono',consolas,'Courier New',monospace\"></pre>\n"
      ],
      "text/plain": []
     },
     "metadata": {},
     "output_type": "display_data"
    },
    {
     "data": {
      "text/html": [
       "<style type=\"text/css\">\n",
       "#T_100d7 th {\n",
       "  text-align: left;\n",
       "}\n",
       "#T_100d7 td {\n",
       "  text-align: left;\n",
       "}\n",
       "#T_100d7_row0_col0, #T_100d7_row0_col1, #T_100d7_row0_col2, #T_100d7_row0_col3, #T_100d7_row0_col4, #T_100d7_row0_col5 {\n",
       "  text-align: left;\n",
       "  white-space: pre-wrap;\n",
       "  word-wrap: break-word;\n",
       "  max-width: 400px;\n",
       "}\n",
       "</style>\n",
       "<table id=\"T_100d7\">\n",
       "  <thead>\n",
       "    <tr>\n",
       "      <th class=\"blank level0\" >&nbsp;</th>\n",
       "      <th id=\"T_100d7_level0_col0\" class=\"col_heading level0 col0\" >question</th>\n",
       "      <th id=\"T_100d7_level0_col1\" class=\"col_heading level0 col1\" >gold_reasoning</th>\n",
       "      <th id=\"T_100d7_level0_col2\" class=\"col_heading level0 col2\" >example_answer</th>\n",
       "      <th id=\"T_100d7_level0_col3\" class=\"col_heading level0 col3\" >rationale</th>\n",
       "      <th id=\"T_100d7_level0_col4\" class=\"col_heading level0 col4\" >pred_answer</th>\n",
       "      <th id=\"T_100d7_level0_col5\" class=\"col_heading level0 col5\" >gsm8k_metric</th>\n",
       "    </tr>\n",
       "  </thead>\n",
       "  <tbody>\n",
       "    <tr>\n",
       "      <th id=\"T_100d7_level0_row0\" class=\"row_heading level0 row0\" >0</th>\n",
       "      <td id=\"T_100d7_row0_col0\" class=\"data row0 col0\" >20 birds migrate on a seasonal basis from one lake to another, searching for food. If they fly from lake Jim to lake Disney in...</td>\n",
       "      <td id=\"T_100d7_row0_col1\" class=\"data row0 col1\" >The birds' flying distance between Lake Jim through lake Disney to lake London is 50+60 = <<50+60=110>>110 miles. Since each bird flies the 110 miles...</td>\n",
       "      <td id=\"T_100d7_row0_col2\" class=\"data row0 col2\" >2200</td>\n",
       "      <td id=\"T_100d7_row0_col3\" class=\"data row0 col3\" >calculate the combined distance traveled by the birds. First, we know that the birds flew 50 miles from lake Jim to lake Disney and then...</td>\n",
       "      <td id=\"T_100d7_row0_col4\" class=\"data row0 col4\" >2200 miles</td>\n",
       "      <td id=\"T_100d7_row0_col5\" class=\"data row0 col5\" >✔️ [True]</td>\n",
       "    </tr>\n",
       "  </tbody>\n",
       "</table>\n"
      ],
      "text/plain": [
       "\u001b[1m<\u001b[0m\u001b[1;95mpandas.io.formats.style.Styler\u001b[0m\u001b[39m object at \u001b[0m\u001b[1;36m0x0000021BDCFE0E80\u001b[0m\u001b[1m>\u001b[0m"
      ]
     },
     "metadata": {},
     "output_type": "display_data"
    },
    {
     "data": {
      "text/html": [
       "<pre style=\"white-space:pre;overflow-x:auto;line-height:normal;font-family:Menlo,'DejaVu Sans Mono',consolas,'Courier New',monospace\"></pre>\n"
      ],
      "text/plain": []
     },
     "metadata": {},
     "output_type": "display_data"
    },
    {
     "data": {
      "text/html": [
       "\n",
       "                <div style='\n",
       "                    text-align: center;\n",
       "                    font-size: 16px;\n",
       "                    font-weight: bold;\n",
       "                    color: #555;\n",
       "                    margin: 10px 0;'>\n",
       "                    ... 9 more rows not displayed ...\n",
       "                </div>\n",
       "                "
      ],
      "text/plain": [
       "\u001b[1m<\u001b[0m\u001b[1;95mIPython.core.display.HTML\u001b[0m\u001b[39m object\u001b[0m\u001b[1m>\u001b[0m"
      ]
     },
     "metadata": {},
     "output_type": "display_data"
    },
    {
     "data": {
      "text/html": [
       "<pre style=\"white-space:pre;overflow-x:auto;line-height:normal;font-family:Menlo,'DejaVu Sans Mono',consolas,'Courier New',monospace\"></pre>\n"
      ],
      "text/plain": []
     },
     "metadata": {},
     "output_type": "display_data"
    },
    {
     "data": {
      "text/plain": [
       "\u001b[1;36m90.0\u001b[0m"
      ]
     },
     "execution_count": 54,
     "metadata": {},
     "output_type": "execute_result"
    }
   ],
   "source": [
    "evalute(optimized_cot)"
   ]
  },
  {
   "cell_type": "code",
   "execution_count": 60,
   "metadata": {},
   "outputs": [
    {
     "name": "stdout",
     "output_type": "stream",
     "text": [
      "\n",
      "\n",
      "\n",
      "Given the fields `question`, produce the fields `answer`.\n",
      "\n",
      "---\n",
      "\n",
      "Follow the following format.\n",
      "\n",
      "Question: ${question}\n",
      "Reasoning: Let's think step by step in order to ${produce the answer}. We ...\n",
      "Answer: ${answer}\n",
      "\n",
      "---\n",
      "\n",
      "Question: The result from the 40-item Statistics exam Marion and Ella took already came out. Ella got 4 incorrect answers while Marion got 6 more than half the score of Ella. What is Marion's score?\n",
      "Reasoning: Let's think step by step in order to find Marion's score. We know that Ella got 4 incorrect answers, which means she got 36 correct answers out of 40. We also know that Marion got 6 more than half of Ella's score, which is 6 more than 36/2 = 18. Therefore, Marion's score is 18 + 6 = 24.\n",
      "Answer: 24\n",
      "\n",
      "---\n",
      "\n",
      "Question: Bridget counted 14 shooting stars in the night sky. Reginald counted two fewer shooting stars than did Bridget, but Sam counted four more shooting stars than did Reginald. How many more shooting stars did Sam count in the night sky than was the average number of shooting stars observed for the three of them?\n",
      "Reasoning: Let's think step by step in order to find the answer. First, we know that Bridget counted 14 shooting stars. Then, we know that Reginald counted two fewer than Bridget, so he counted 12 shooting stars. Finally, we know that Sam counted four more than Reginald, so he counted 16 shooting stars. To find the average number of shooting stars, we add up the total number of shooting stars (14 + 12 + 16 = 42) and divide by the number of people (3). This gives us an average of 14 shooting stars per person. Since Sam counted 16 shooting stars, he counted 2 more than the average.\n",
      "Answer: 2\n",
      "\n",
      "---\n",
      "\n",
      "Question: Sarah buys 20 pencils on Monday. Then she buys 18 more pencils on Tuesday. On Wednesday she buys triple the number of pencils she did on Tuesday. How many pencils does she have?\n",
      "Reasoning: Let's think step by step in order to find out how many pencils Sarah has. First, we know that she bought 20 pencils on Monday and 18 more on Tuesday, so she has 20 + 18 = 38 pencils. Then, on Wednesday she bought triple the number of pencils she did on Tuesday, which is 3 * 18 = 54 pencils. Therefore, Sarah has a total of 38 + 54 = 92 pencils.\n",
      "Answer: 92\n",
      "\n",
      "---\n",
      "\n",
      "Question: Rookie police officers have to buy duty shoes at the full price of $85, but officers who have served at least a year get a 20% discount. Officers who have served at least three years get an additional 25% off the discounted price. How much does an officer who has served at least three years have to pay for shoes?\n",
      "Reasoning: Let's think step by step in order to calculate the final price. First, we calculate the discounted price for an officer who has served at least a year. This is 85 * 0.8 = 68. Then, we calculate the additional discount for an officer who has served at least three years. This is 68 * 0.75 = 51. Finally, the officer has to pay this final price of 51.\n",
      "Answer: $51\n",
      "\n",
      "---\n",
      "\n",
      "Question: Trey is raising money for a new bike that costs $112. He plans to spend the next two weeks selling bracelets for $1 each. On average, how many bracelets does he need to sell each day?\n",
      "Reasoning: Let's think step by step in order to find out how many bracelets Trey needs to sell each day. First, we know that he needs to raise $112 and each bracelet costs $1, so he needs to sell 112 bracelets. Then, we know that he has two weeks, which is 14 days, to sell the bracelets. Therefore, he needs to sell 112/14 = 8 bracelets per day on average.\n",
      "Answer: 8\n",
      "\n",
      "\n",
      "\n"
     ]
    },
    {
     "data": {
      "text/html": [
       "<pre style=\"white-space:pre;overflow-x:auto;line-height:normal;font-family:Menlo,'DejaVu Sans Mono',consolas,'Courier New',monospace\"></pre>\n"
      ],
      "text/plain": []
     },
     "metadata": {},
     "output_type": "display_data"
    },
    {
     "data": {
      "text/plain": [
       "\u001b[32m\"\\n\\n\\nGiven the fields `question`, produce the fields `answer`.\\n\\n---\\n\\nFollow the following format.\\n\\nQuestion: $\u001b[0m\u001b[32m{\u001b[0m\u001b[32mquestion\u001b[0m\u001b[32m}\u001b[0m\u001b[32m\\nReasoning: Let's think step by step in order to $\u001b[0m\u001b[32m{\u001b[0m\u001b[32mproduce the answer\u001b[0m\u001b[32m}\u001b[0m\u001b[32m. We ...\\nAnswer: $\u001b[0m\u001b[32m{\u001b[0m\u001b[32manswer\u001b[0m\u001b[32m}\u001b[0m\u001b[32m\\n\\n---\\n\\nQuestion: The result from the 40-item Statistics exam Marion and Ella took already came out. Ella got 4 incorrect answers while Marion got 6 more than half the score of Ella. What is Marion's score?\\nReasoning: Let's think step by step in order to find Marion's score. We know that Ella got 4 incorrect answers, which means she got 36 correct answers out of 40. We also know that Marion got 6 more than half of Ella's score, which is 6 more than 36/2 = 18. Therefore, Marion's score is 18 + 6 = 24.\\nAnswer: 24\\n\\n---\\n\\nQuestion: Bridget counted 14 shooting stars in the night sky. Reginald counted two fewer shooting stars than did Bridget, but Sam counted four more shooting stars than did Reginald. How many more shooting stars did Sam count in the night sky than was the average number of shooting stars observed for the three of them?\\nReasoning: Let's think step by step in order to find the answer. First, we know that Bridget counted 14 shooting stars. Then, we know that Reginald counted two fewer than Bridget, so he counted 12 shooting stars. Finally, we know that Sam counted four more than Reginald, so he counted 16 shooting stars. To find the average number of shooting stars, we add up the total number of shooting stars \u001b[0m\u001b[32m(\u001b[0m\u001b[32m14 + 12 + 16 = 42\u001b[0m\u001b[32m)\u001b[0m\u001b[32m and divide by the number of people \u001b[0m\u001b[32m(\u001b[0m\u001b[32m3\u001b[0m\u001b[32m)\u001b[0m\u001b[32m. This gives us an average of 14 shooting stars per person. Since Sam counted 16 shooting stars, he counted 2 more than the average.\\nAnswer: 2\\n\\n---\\n\\nQuestion: Sarah buys 20 pencils on Monday. Then she buys 18 more pencils on Tuesday. On Wednesday she buys triple the number of pencils she did on Tuesday. How many pencils does she have?\\nReasoning: Let's think step by step in order to find out how many pencils Sarah has. First, we know that she bought 20 pencils on Monday and 18 more on Tuesday, so she has 20 + 18 = 38 pencils. Then, on Wednesday she bought triple the number of pencils she did on Tuesday, which is 3 * 18 = 54 pencils. Therefore, Sarah has a total of 38 + 54 = 92 pencils.\\nAnswer: 92\\n\\n---\\n\\nQuestion: Rookie police officers have to buy duty shoes at the full price of $85, but officers who have served at least a year get a 20% discount. Officers who have served at least three years get an additional 25% off the discounted price. How much does an officer who has served at least three years have to pay for shoes?\\nReasoning: Let's think step by step in order to calculate the final price. First, we calculate the discounted price for an officer who has served at least a year. This is 85 * 0.8 = 68. Then, we calculate the additional discount for an officer who has served at least three years. This is 68 * 0.75 = 51. Finally, the officer has to pay this final price of 51.\\nAnswer: $51\\n\\n---\\n\\nQuestion: Trey is raising money for a new bike that costs $112. He plans to spend the next two weeks selling bracelets for $1 each. On average, how many bracelets does he need to sell each day?\\nReasoning: Let's think step by step in order to\\x1b\u001b[0m\u001b[32m[\u001b[0m\u001b[32m32m find out how many bracelets Trey needs to sell each day. First, we know that he needs to raise $112 and each bracelet costs $1, so he needs to sell 112 bracelets. Then, we know that he has two weeks, which is 14 days, to sell the bracelets. Therefore, he needs to sell 112/14 = 8 bracelets per day on average.\\nAnswer: 8\\x1b\u001b[0m\u001b[32m[\u001b[0m\u001b[32m0m\\n\\n\\n\"\u001b[0m"
      ]
     },
     "execution_count": 60,
     "metadata": {},
     "output_type": "execute_result"
    }
   ],
   "source": [
    "turbo.inspect_history()"
   ]
  },
  {
   "cell_type": "markdown",
   "metadata": {},
   "source": [
    "## With retrieval module\n"
   ]
  },
  {
   "cell_type": "code",
   "execution_count": 5,
   "metadata": {},
   "outputs": [],
   "source": [
    "turbo = ds.OpenAI(model=\"gpt-3.5-turbo\")\n",
    "colbertv2_wiki17_abstracts = ds.ColBERTv2(\n",
    "    url=\"http://20.102.90.50:2017/wiki17_abstracts\"\n",
    ")\n",
    "\n",
    "ds.settings.configure(lm=turbo, rm=colbertv2_wiki17_abstracts, log_openai_usage=True)\n"
   ]
  },
  {
   "cell_type": "code",
   "execution_count": 6,
   "metadata": {},
   "outputs": [
    {
     "name": "stderr",
     "output_type": "stream",
     "text": [
      "e:\\Projects\\langchain_rag\\venv\\lib\\site-packages\\datasets\\table.py:1421: FutureWarning: promote has been superseded by promote_options='default'.\n",
      "  table = cls._concat_blocks(blocks, axis=0)\n"
     ]
    }
   ],
   "source": [
    "dataset_hpqa = HotPotQA(\n",
    "    train_seed=1, train_size=20, eval_seed=2023, dev_size=50, test_size=0\n",
    ")"
   ]
  },
  {
   "cell_type": "code",
   "execution_count": 24,
   "metadata": {},
   "outputs": [
    {
     "data": {
      "text/html": [
       "<pre style=\"white-space:pre;overflow-x:auto;line-height:normal;font-family:Menlo,'DejaVu Sans Mono',consolas,'Courier New',monospace\"></pre>\n"
      ],
      "text/plain": []
     },
     "metadata": {},
     "output_type": "display_data"
    },
    {
     "data": {
      "text/plain": [
       "\u001b[1m(\u001b[0m\u001b[1;36m20\u001b[0m, \u001b[1;36m50\u001b[0m\u001b[1m)\u001b[0m"
      ]
     },
     "execution_count": 24,
     "metadata": {},
     "output_type": "execute_result"
    }
   ],
   "source": [
    "trainset_hpqa = [x.with_inputs(\"question\") for x in dataset_hpqa.train]\n",
    "devset_hpqa = [x.with_inputs(\"question\") for x in dataset_hpqa.dev]\n",
    "\n",
    "len(trainset_hpqa), len(devset_hpqa)\n"
   ]
  },
  {
   "cell_type": "code",
   "execution_count": 25,
   "metadata": {},
   "outputs": [
    {
     "data": {
      "text/html": [
       "<pre style=\"white-space:pre;overflow-x:auto;line-height:normal;font-family:Menlo,'DejaVu Sans Mono',consolas,'Courier New',monospace\"><span style=\"color: #800080; text-decoration-color: #800080; font-weight: bold\">Example</span><span style=\"font-weight: bold\">({</span><span style=\"color: #008000; text-decoration-color: #008000\">'question'</span>: <span style=\"color: #008000; text-decoration-color: #008000\">'Which of these publications was most recently published, Who Put the Bomp or Self?'</span>, \n",
       "<span style=\"color: #008000; text-decoration-color: #008000\">'answer'</span>: <span style=\"color: #008000; text-decoration-color: #008000\">'Self'</span><span style=\"font-weight: bold\">})</span> <span style=\"font-weight: bold\">(</span><span style=\"color: #808000; text-decoration-color: #808000\">input_keys</span>=<span style=\"font-weight: bold\">{</span><span style=\"color: #008000; text-decoration-color: #008000\">'question'</span><span style=\"font-weight: bold\">})</span>\n",
       "</pre>\n"
      ],
      "text/plain": [
       "\u001b[1;35mExample\u001b[0m\u001b[1m(\u001b[0m\u001b[1m{\u001b[0m\u001b[32m'question'\u001b[0m: \u001b[32m'Which of these publications was most recently published, Who Put the Bomp or Self?'\u001b[0m, \n",
       "\u001b[32m'answer'\u001b[0m: \u001b[32m'Self'\u001b[0m\u001b[1m}\u001b[0m\u001b[1m)\u001b[0m \u001b[1m(\u001b[0m\u001b[33minput_keys\u001b[0m=\u001b[1m{\u001b[0m\u001b[32m'question'\u001b[0m\u001b[1m}\u001b[0m\u001b[1m)\u001b[0m\n"
      ]
     },
     "metadata": {},
     "output_type": "display_data"
    }
   ],
   "source": [
    "print(trainset_hpqa[2])"
   ]
  },
  {
   "cell_type": "code",
   "execution_count": 26,
   "metadata": {},
   "outputs": [
    {
     "data": {
      "text/html": [
       "<pre style=\"white-space:pre;overflow-x:auto;line-height:normal;font-family:Menlo,'DejaVu Sans Mono',consolas,'Courier New',monospace\"><span style=\"color: #800080; text-decoration-color: #800080; font-weight: bold\">Example</span><span style=\"font-weight: bold\">({</span><span style=\"color: #008000; text-decoration-color: #008000\">'question'</span>: <span style=\"color: #008000; text-decoration-color: #008000\">'Are both Cangzhou and Qionghai in the Hebei province of China?'</span>, <span style=\"color: #008000; text-decoration-color: #008000\">'answer'</span>: <span style=\"color: #008000; text-decoration-color: #008000\">'no'</span>, \n",
       "<span style=\"color: #008000; text-decoration-color: #008000\">'gold_titles'</span>: <span style=\"font-weight: bold\">{</span><span style=\"color: #008000; text-decoration-color: #008000\">'Cangzhou'</span>, <span style=\"color: #008000; text-decoration-color: #008000\">'Qionghai'</span><span style=\"font-weight: bold\">}})</span> <span style=\"font-weight: bold\">(</span><span style=\"color: #808000; text-decoration-color: #808000\">input_keys</span>=<span style=\"font-weight: bold\">{</span><span style=\"color: #008000; text-decoration-color: #008000\">'question'</span><span style=\"font-weight: bold\">})</span>\n",
       "</pre>\n"
      ],
      "text/plain": [
       "\u001b[1;35mExample\u001b[0m\u001b[1m(\u001b[0m\u001b[1m{\u001b[0m\u001b[32m'question'\u001b[0m: \u001b[32m'Are both Cangzhou and Qionghai in the Hebei province of China?'\u001b[0m, \u001b[32m'answer'\u001b[0m: \u001b[32m'no'\u001b[0m, \n",
       "\u001b[32m'gold_titles'\u001b[0m: \u001b[1m{\u001b[0m\u001b[32m'Cangzhou'\u001b[0m, \u001b[32m'Qionghai'\u001b[0m\u001b[1m}\u001b[0m\u001b[1m}\u001b[0m\u001b[1m)\u001b[0m \u001b[1m(\u001b[0m\u001b[33minput_keys\u001b[0m=\u001b[1m{\u001b[0m\u001b[32m'question'\u001b[0m\u001b[1m}\u001b[0m\u001b[1m)\u001b[0m\n"
      ]
     },
     "metadata": {},
     "output_type": "display_data"
    }
   ],
   "source": [
    "print(devset_hpqa[0])"
   ]
  },
  {
   "cell_type": "markdown",
   "metadata": {},
   "source": [
    "### Signature"
   ]
  },
  {
   "cell_type": "code",
   "execution_count": 27,
   "metadata": {},
   "outputs": [],
   "source": [
    "class BasicQA(ds.Signature):\n",
    "    \"\"\"Answer questions with short factoid layers\"\"\"\n",
    "\n",
    "    question = ds.InputField()\n",
    "    answer = ds.OutputField(desc='often between 1 and 5 words')"
   ]
  },
  {
   "cell_type": "code",
   "execution_count": 28,
   "metadata": {},
   "outputs": [
    {
     "data": {
      "text/html": [
       "<pre style=\"white-space:pre;overflow-x:auto;line-height:normal;font-family:Menlo,'DejaVu Sans Mono',consolas,'Courier New',monospace\"></pre>\n"
      ],
      "text/plain": []
     },
     "metadata": {},
     "output_type": "display_data"
    },
    {
     "data": {
      "text/plain": [
       "\n",
       "\u001b[1;35mBasicQA\u001b[0m\u001b[1m(\u001b[0mquestion -> answer\n",
       "    \u001b[33minstructions\u001b[0m=\u001b[32m'Answer questions with short factoid layers'\u001b[0m\n",
       "    question = \u001b[1;35mField\u001b[0m\u001b[1m(\u001b[0m\u001b[33mannotation\u001b[0m=\u001b[35mstr\u001b[0m \u001b[33mrequired\u001b[0m=\u001b[3;92mTrue\u001b[0m \u001b[33mjson_schema_extra\u001b[0m=\u001b[1m{\u001b[0m\u001b[32m'__dspy_field_type'\u001b[0m: \u001b[32m'input'\u001b[0m, \u001b[32m'prefix'\u001b[0m: \u001b[32m'Question:'\u001b[0m, \u001b[32m'desc'\u001b[0m: \u001b[32m'$\u001b[0m\u001b[32m{\u001b[0m\u001b[32mquestion\u001b[0m\u001b[32m}\u001b[0m\u001b[32m'\u001b[0m\u001b[1m}\u001b[0m\u001b[1m)\u001b[0m\n",
       "    answer = \u001b[1;35mField\u001b[0m\u001b[1m(\u001b[0m\u001b[33mannotation\u001b[0m=\u001b[35mstr\u001b[0m \u001b[33mrequired\u001b[0m=\u001b[3;92mTrue\u001b[0m \u001b[33mjson_schema_extra\u001b[0m=\u001b[1m{\u001b[0m\u001b[32m'desc'\u001b[0m: \u001b[32m'often between 1 and 5 words'\u001b[0m, \u001b[32m'__dspy_field_type'\u001b[0m: \u001b[32m'output'\u001b[0m, \u001b[32m'prefix'\u001b[0m: \u001b[32m'Answer:'\u001b[0m\u001b[1m}\u001b[0m\u001b[1m)\u001b[0m\n",
       "\u001b[1m)\u001b[0m"
      ]
     },
     "execution_count": 28,
     "metadata": {},
     "output_type": "execute_result"
    }
   ],
   "source": [
    "BasicQA"
   ]
  },
  {
   "cell_type": "code",
   "execution_count": 29,
   "metadata": {},
   "outputs": [],
   "source": [
    "generate_answer = ds.Predict(BasicQA)"
   ]
  },
  {
   "cell_type": "code",
   "execution_count": 41,
   "metadata": {},
   "outputs": [],
   "source": [
    "pred = generate_answer(question=devset_hpqa[3].question)"
   ]
  },
  {
   "cell_type": "code",
   "execution_count": 42,
   "metadata": {},
   "outputs": [
    {
     "data": {
      "text/html": [
       "<pre style=\"white-space:pre;overflow-x:auto;line-height:normal;font-family:Menlo,'DejaVu Sans Mono',consolas,'Courier New',monospace\">Question: What river is near the Crichton Collegiate Church?\n",
       "</pre>\n"
      ],
      "text/plain": [
       "Question: What river is near the Crichton Collegiate Church?\n"
      ]
     },
     "metadata": {},
     "output_type": "display_data"
    },
    {
     "data": {
      "text/html": [
       "<pre style=\"white-space:pre;overflow-x:auto;line-height:normal;font-family:Menlo,'DejaVu Sans Mono',consolas,'Courier New',monospace\">Answer: River Nith\n",
       "</pre>\n"
      ],
      "text/plain": [
       "Answer: River Nith\n"
      ]
     },
     "metadata": {},
     "output_type": "display_data"
    }
   ],
   "source": [
    "print(f'Question: {devset_hpqa[3].question}')\n",
    "print(f'Answer: {pred.answer}')"
   ]
  },
  {
   "cell_type": "code",
   "execution_count": 43,
   "metadata": {},
   "outputs": [
    {
     "name": "stdout",
     "output_type": "stream",
     "text": [
      "\n",
      "\n",
      "\n",
      "Answer questions with short factoid layers\n",
      "\n",
      "---\n",
      "\n",
      "Follow the following format.\n",
      "\n",
      "Question: ${question}\n",
      "Answer: often between 1 and 5 words\n",
      "\n",
      "---\n",
      "\n",
      "Question: What river is near the Crichton Collegiate Church?\n",
      "Answer: River Nith\n",
      "\n",
      "\n",
      "\n"
     ]
    },
    {
     "data": {
      "text/html": [
       "<pre style=\"white-space:pre;overflow-x:auto;line-height:normal;font-family:Menlo,'DejaVu Sans Mono',consolas,'Courier New',monospace\"></pre>\n"
      ],
      "text/plain": []
     },
     "metadata": {},
     "output_type": "display_data"
    },
    {
     "data": {
      "text/plain": [
       "\u001b[32m'\\n\\n\\nAnswer questions with short factoid layers\\n\\n---\\n\\nFollow the following format.\\n\\nQuestion: $\u001b[0m\u001b[32m{\u001b[0m\u001b[32mquestion\u001b[0m\u001b[32m}\u001b[0m\u001b[32m\\nAnswer: often between 1 and 5 words\\n\\n---\\n\\nQuestion: What river is near the Crichton Collegiate Church?\\nAnswer:\\x1b\u001b[0m\u001b[32m[\u001b[0m\u001b[32m32m River Nith\\x1b\u001b[0m\u001b[32m[\u001b[0m\u001b[32m0m\\n\\n\\n'\u001b[0m"
      ]
     },
     "execution_count": 43,
     "metadata": {},
     "output_type": "execute_result"
    }
   ],
   "source": [
    "turbo.inspect_history(n=3)"
   ]
  },
  {
   "cell_type": "code",
   "execution_count": 49,
   "metadata": {},
   "outputs": [
    {
     "data": {
      "text/html": [
       "<pre style=\"white-space:pre;overflow-x:auto;line-height:normal;font-family:Menlo,'DejaVu Sans Mono',consolas,'Courier New',monospace\">Question: Lord North Street has a resident in which former Conservative MP who received an <span style=\"color: #008080; text-decoration-color: #008080; font-weight: bold\">18</span>-month prison sentence\n",
       "for perjury in <span style=\"color: #008080; text-decoration-color: #008080; font-weight: bold\">1999</span>?\n",
       "</pre>\n"
      ],
      "text/plain": [
       "Question: Lord North Street has a resident in which former Conservative MP who received an \u001b[1;36m18\u001b[0m-month prison sentence\n",
       "for perjury in \u001b[1;36m1999\u001b[0m?\n"
      ]
     },
     "metadata": {},
     "output_type": "display_data"
    },
    {
     "data": {
      "text/html": [
       "<pre style=\"white-space:pre;overflow-x:auto;line-height:normal;font-family:Menlo,'DejaVu Sans Mono',consolas,'Courier New',monospace\">Thought: We know that Lord North Street is a prestigious address in London, and the former Conservative MP who \n",
       "received an <span style=\"color: #008080; text-decoration-color: #008080; font-weight: bold\">18</span>-month prison sentence for perjury in <span style=\"color: #008080; text-decoration-color: #008080; font-weight: bold\">1999</span> is Jonathan Aitken.\n",
       "</pre>\n"
      ],
      "text/plain": [
       "Thought: We know that Lord North Street is a prestigious address in London, and the former Conservative MP who \n",
       "received an \u001b[1;36m18\u001b[0m-month prison sentence for perjury in \u001b[1;36m1999\u001b[0m is Jonathan Aitken.\n"
      ]
     },
     "metadata": {},
     "output_type": "display_data"
    },
    {
     "data": {
      "text/html": [
       "<pre style=\"white-space:pre;overflow-x:auto;line-height:normal;font-family:Menlo,'DejaVu Sans Mono',consolas,'Courier New',monospace\">Answer: Jonathan Aitken\n",
       "</pre>\n"
      ],
      "text/plain": [
       "Answer: Jonathan Aitken\n"
      ]
     },
     "metadata": {},
     "output_type": "display_data"
    }
   ],
   "source": [
    "generate_cot = ds.ChainOfThought(BasicQA)\n",
    "\n",
    "pred = generate_cot(question=devset_hpqa[14].question)\n",
    "\n",
    "print(f'Question: {devset_hpqa[14].question}')\n",
    "print(f'Thought: {pred.rationale.split(\".\", 1)[1].strip()}')\n",
    "print(f'Answer: {pred.answer}')\n"
   ]
  },
  {
   "cell_type": "code",
   "execution_count": 62,
   "metadata": {},
   "outputs": [
    {
     "data": {
      "text/html": [
       "<pre style=\"white-space:pre;overflow-x:auto;line-height:normal;font-family:Menlo,'DejaVu Sans Mono',consolas,'Courier New',monospace\">Top <span style=\"color: #008080; text-decoration-color: #008080; font-weight: bold\">3</span> passages for question: Lord North Street has a resident in which former Conservative MP who received an \n",
       "<span style=\"color: #008080; text-decoration-color: #008080; font-weight: bold\">18</span>-month prison sentence for perjury in <span style=\"color: #008080; text-decoration-color: #008080; font-weight: bold\">1999</span>? \n",
       " ------------------------------ \n",
       "\n",
       "</pre>\n"
      ],
      "text/plain": [
       "Top \u001b[1;36m3\u001b[0m passages for question: Lord North Street has a resident in which former Conservative MP who received an \n",
       "\u001b[1;36m18\u001b[0m-month prison sentence for perjury in \u001b[1;36m1999\u001b[0m? \n",
       " ------------------------------ \n",
       "\n"
      ]
     },
     "metadata": {},
     "output_type": "display_data"
    },
    {
     "data": {
      "text/html": [
       "<pre style=\"white-space:pre;overflow-x:auto;line-height:normal;font-family:Menlo,'DejaVu Sans Mono',consolas,'Courier New',monospace\"><span style=\"color: #008080; text-decoration-color: #008080; font-weight: bold\">1</span><span style=\"font-weight: bold\">]</span> Jonathan Aitken | Jonathan William Patrick Aitken <span style=\"font-weight: bold\">(</span>born <span style=\"color: #008080; text-decoration-color: #008080; font-weight: bold\">30</span> August <span style=\"color: #008080; text-decoration-color: #008080; font-weight: bold\">1942</span><span style=\"font-weight: bold\">)</span> is a former Conservative Member of \n",
       "Parliament in the United Kingdom <span style=\"font-weight: bold\">(</span><span style=\"color: #008080; text-decoration-color: #008080; font-weight: bold\">1974</span>–<span style=\"color: #008080; text-decoration-color: #008080; font-weight: bold\">97</span><span style=\"font-weight: bold\">)</span>, and a former Cabinet minister. He was convicted of perjury in <span style=\"color: #008080; text-decoration-color: #008080; font-weight: bold\">1999</span> and \n",
       "received an <span style=\"color: #008080; text-decoration-color: #008080; font-weight: bold\">18</span>-month prison sentence, of which he served seven months. He is currently president of Christian \n",
       "Solidarity Worldwide. Aitken was also a member of the Privy Council of the United Kingdom. \n",
       "\n",
       "</pre>\n"
      ],
      "text/plain": [
       "\u001b[1;36m1\u001b[0m\u001b[1m]\u001b[0m Jonathan Aitken | Jonathan William Patrick Aitken \u001b[1m(\u001b[0mborn \u001b[1;36m30\u001b[0m August \u001b[1;36m1942\u001b[0m\u001b[1m)\u001b[0m is a former Conservative Member of \n",
       "Parliament in the United Kingdom \u001b[1m(\u001b[0m\u001b[1;36m1974\u001b[0m–\u001b[1;36m97\u001b[0m\u001b[1m)\u001b[0m, and a former Cabinet minister. He was convicted of perjury in \u001b[1;36m1999\u001b[0m and \n",
       "received an \u001b[1;36m18\u001b[0m-month prison sentence, of which he served seven months. He is currently president of Christian \n",
       "Solidarity Worldwide. Aitken was also a member of the Privy Council of the United Kingdom. \n",
       "\n"
      ]
     },
     "metadata": {},
     "output_type": "display_data"
    },
    {
     "data": {
      "text/html": [
       "<pre style=\"white-space:pre;overflow-x:auto;line-height:normal;font-family:Menlo,'DejaVu Sans Mono',consolas,'Courier New',monospace\"><span style=\"color: #008080; text-decoration-color: #008080; font-weight: bold\">2</span><span style=\"font-weight: bold\">]</span> David Chaytor | David Michael Chaytor <span style=\"font-weight: bold\">(</span>born <span style=\"color: #008080; text-decoration-color: #008080; font-weight: bold\">3</span> August <span style=\"color: #008080; text-decoration-color: #008080; font-weight: bold\">1949</span><span style=\"font-weight: bold\">)</span> is a former British Labour Party politician, who was \n",
       "the Member of Parliament <span style=\"font-weight: bold\">(</span>MP<span style=\"font-weight: bold\">)</span> for Bury North from <span style=\"color: #008080; text-decoration-color: #008080; font-weight: bold\">1997</span> to <span style=\"color: #008080; text-decoration-color: #008080; font-weight: bold\">2010</span>. He was the first member of Parliament to be \n",
       "sentenced following the United Kingdom Parliamentary expenses scandal of <span style=\"color: #008080; text-decoration-color: #008080; font-weight: bold\">2009</span>. \n",
       "\n",
       "</pre>\n"
      ],
      "text/plain": [
       "\u001b[1;36m2\u001b[0m\u001b[1m]\u001b[0m David Chaytor | David Michael Chaytor \u001b[1m(\u001b[0mborn \u001b[1;36m3\u001b[0m August \u001b[1;36m1949\u001b[0m\u001b[1m)\u001b[0m is a former British Labour Party politician, who was \n",
       "the Member of Parliament \u001b[1m(\u001b[0mMP\u001b[1m)\u001b[0m for Bury North from \u001b[1;36m1997\u001b[0m to \u001b[1;36m2010\u001b[0m. He was the first member of Parliament to be \n",
       "sentenced following the United Kingdom Parliamentary expenses scandal of \u001b[1;36m2009\u001b[0m. \n",
       "\n"
      ]
     },
     "metadata": {},
     "output_type": "display_data"
    },
    {
     "data": {
      "text/html": [
       "<pre style=\"white-space:pre;overflow-x:auto;line-height:normal;font-family:Menlo,'DejaVu Sans Mono',consolas,'Courier New',monospace\"><span style=\"color: #008080; text-decoration-color: #008080; font-weight: bold\">3</span><span style=\"font-weight: bold\">]</span> Elliot Morley | Elliot Anthony Morley <span style=\"font-weight: bold\">(</span>born <span style=\"color: #008080; text-decoration-color: #008080; font-weight: bold\">6</span> July <span style=\"color: #008080; text-decoration-color: #008080; font-weight: bold\">1952</span><span style=\"font-weight: bold\">)</span> is a British former Labour Party politician, who was \n",
       "the Member of Parliament for Glanford and Scunthorpe from <span style=\"color: #008080; text-decoration-color: #008080; font-weight: bold\">1987</span> to <span style=\"color: #008080; text-decoration-color: #008080; font-weight: bold\">1997</span> and then Scunthorpe from <span style=\"color: #008080; text-decoration-color: #008080; font-weight: bold\">1997</span> to <span style=\"color: #008080; text-decoration-color: #008080; font-weight: bold\">2010</span>. In \n",
       "<span style=\"color: #008080; text-decoration-color: #008080; font-weight: bold\">2009</span>, he was accused by <span style=\"color: #008000; text-decoration-color: #008000\">\"The Daily Telegraph\"</span> of continuing to claim parliamentary expenses for a mortgage that had\n",
       "already been repaid. Morley was prosecuted and on <span style=\"color: #008080; text-decoration-color: #008080; font-weight: bold\">7</span> April <span style=\"color: #008080; text-decoration-color: #008080; font-weight: bold\">2011</span> pleaded guilty in Southwark Crown Court to two \n",
       "counts of false accounting, involving over £<span style=\"color: #008080; text-decoration-color: #008080; font-weight: bold\">30</span>,<span style=\"color: #008080; text-decoration-color: #008080; font-weight: bold\">000</span>. On <span style=\"color: #008080; text-decoration-color: #008080; font-weight: bold\">20</span> May <span style=\"color: #008080; text-decoration-color: #008080; font-weight: bold\">2011</span>, he was sentenced to <span style=\"color: #008080; text-decoration-color: #008080; font-weight: bold\">16</span> months' imprisonment. He\n",
       "was released from prison on <span style=\"color: #008080; text-decoration-color: #008080; font-weight: bold\">20</span> September <span style=\"color: #008080; text-decoration-color: #008080; font-weight: bold\">2011</span> having served a quarter of his sentence. \n",
       "\n",
       "</pre>\n"
      ],
      "text/plain": [
       "\u001b[1;36m3\u001b[0m\u001b[1m]\u001b[0m Elliot Morley | Elliot Anthony Morley \u001b[1m(\u001b[0mborn \u001b[1;36m6\u001b[0m July \u001b[1;36m1952\u001b[0m\u001b[1m)\u001b[0m is a British former Labour Party politician, who was \n",
       "the Member of Parliament for Glanford and Scunthorpe from \u001b[1;36m1987\u001b[0m to \u001b[1;36m1997\u001b[0m and then Scunthorpe from \u001b[1;36m1997\u001b[0m to \u001b[1;36m2010\u001b[0m. In \n",
       "\u001b[1;36m2009\u001b[0m, he was accused by \u001b[32m\"The Daily Telegraph\"\u001b[0m of continuing to claim parliamentary expenses for a mortgage that had\n",
       "already been repaid. Morley was prosecuted and on \u001b[1;36m7\u001b[0m April \u001b[1;36m2011\u001b[0m pleaded guilty in Southwark Crown Court to two \n",
       "counts of false accounting, involving over £\u001b[1;36m30\u001b[0m,\u001b[1;36m000\u001b[0m. On \u001b[1;36m20\u001b[0m May \u001b[1;36m2011\u001b[0m, he was sentenced to \u001b[1;36m16\u001b[0m months' imprisonment. He\n",
       "was released from prison on \u001b[1;36m20\u001b[0m September \u001b[1;36m2011\u001b[0m having served a quarter of his sentence. \n",
       "\n"
      ]
     },
     "metadata": {},
     "output_type": "display_data"
    }
   ],
   "source": [
    "retrieve = ds.Retrieve(k=3)\n",
    "\n",
    "top_k_passages = retrieve(devset_hpqa[14].question).passages\n",
    "\n",
    "print(\n",
    "    f\"Top {retrieve.k} passages for question: {devset_hpqa[14].question} \\n\",\n",
    "    \"-\" * 30,\n",
    "    \"\\n\",\n",
    ")\n",
    "\n",
    "for idx, passage in enumerate(top_k_passages):\n",
    "    print(f\"{idx+1}]\", passage, \"\\n\")\n"
   ]
  },
  {
   "cell_type": "code",
   "execution_count": 63,
   "metadata": {},
   "outputs": [
    {
     "data": {
      "text/html": [
       "<pre style=\"white-space:pre;overflow-x:auto;line-height:normal;font-family:Menlo,'DejaVu Sans Mono',consolas,'Courier New',monospace\"></pre>\n"
      ],
      "text/plain": []
     },
     "metadata": {},
     "output_type": "display_data"
    },
    {
     "data": {
      "text/plain": [
       "\n",
       "\u001b[1m[\u001b[0m\n",
       "    \u001b[32m'President of the United States \u001b[0m\u001b[32m(\u001b[0m\u001b[32mdisambiguation\u001b[0m\u001b[32m)\u001b[0m\u001b[32m | The President of the United States \u001b[0m\u001b[32m(\u001b[0m\u001b[32mof America\u001b[0m\u001b[32m)\u001b[0m\u001b[32m has been chief of the United States executive branch since 1789. The current U.S. President is Donald Trump.'\u001b[0m,\n",
       "    \u001b[32m'President of the United States | The President of the United States \u001b[0m\u001b[32m(\u001b[0m\u001b[32minformally referred to as \"POTUS\"\u001b[0m\u001b[32m)\u001b[0m\u001b[32m is the head of state and head of government of the United States. The president directs the executive branch of the federal government and is the commander-in-chief of the United States Armed Forces.'\u001b[0m,\n",
       "    \u001b[32m'List of Presidents of the United States | The President of the United States is the elected head of state and head of government of the United States. The president leads the executive branch of the federal government and is the commander-in-chief of the United States Armed Forces. The president is indirectly elected to a four-year term by the people through the Electoral College \u001b[0m\u001b[32m(\u001b[0m\u001b[32mor by the House of Representatives, should the Electoral College fail to award an absolute majority of votes to any person\u001b[0m\u001b[32m)\u001b[0m\u001b[32m.'\u001b[0m\n",
       "\u001b[1m]\u001b[0m"
      ]
     },
     "execution_count": 63,
     "metadata": {},
     "output_type": "execute_result"
    }
   ],
   "source": [
    "retrieve(\"Who is the president of the United States?\").passages"
   ]
  },
  {
   "cell_type": "code",
   "execution_count": null,
   "metadata": {},
   "outputs": [],
   "source": []
  }
 ],
 "metadata": {
  "kernelspec": {
   "display_name": "venv",
   "language": "python",
   "name": "python3"
  },
  "language_info": {
   "codemirror_mode": {
    "name": "ipython",
    "version": 3
   },
   "file_extension": ".py",
   "mimetype": "text/x-python",
   "name": "python",
   "nbconvert_exporter": "python",
   "pygments_lexer": "ipython3",
   "version": "3.10.11"
  }
 },
 "nbformat": 4,
 "nbformat_minor": 2
}
