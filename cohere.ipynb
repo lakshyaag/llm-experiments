{
 "cells": [
  {
   "cell_type": "code",
   "execution_count": 5,
   "metadata": {},
   "outputs": [],
   "source": [
    "import os\n",
    "from dotenv import find_dotenv, load_dotenv\n",
    "from rich import print as rprint\n",
    "from tqdm import tqdm\n",
    "\n",
    "load_dotenv(find_dotenv())\n",
    "\n",
    "\n",
    "%load_ext rich"
   ]
  },
  {
   "cell_type": "code",
   "execution_count": 2,
   "metadata": {},
   "outputs": [],
   "source": [
    "import cohere\n",
    "from cohere import ClassifyExample\n",
    "\n",
    "co = cohere.Client()"
   ]
  },
  {
   "cell_type": "markdown",
   "metadata": {},
   "source": [
    "# Documentation"
   ]
  },
  {
   "cell_type": "markdown",
   "metadata": {},
   "source": [
    "## Classify"
   ]
  },
  {
   "cell_type": "code",
   "execution_count": 10,
   "metadata": {},
   "outputs": [
    {
     "data": {
      "text/html": [
       "<pre style=\"white-space:pre;overflow-x:auto;line-height:normal;font-family:Menlo,'DejaVu Sans Mono',consolas,'Courier New',monospace\"><span style=\"color: #800080; text-decoration-color: #800080; font-weight: bold\">ClassifyResponse</span><span style=\"font-weight: bold\">(</span>\n",
       "    <span style=\"color: #808000; text-decoration-color: #808000\">id</span>=<span style=\"color: #008000; text-decoration-color: #008000\">'546058c3-50cf-41c2-acbc-4431a2c2bad2'</span>,\n",
       "    <span style=\"color: #808000; text-decoration-color: #808000\">classifications</span>=<span style=\"font-weight: bold\">[</span>\n",
       "        <span style=\"color: #800080; text-decoration-color: #800080; font-weight: bold\">ClassifyResponseClassificationsItem</span><span style=\"font-weight: bold\">(</span>\n",
       "            <span style=\"color: #808000; text-decoration-color: #808000\">id</span>=<span style=\"color: #008000; text-decoration-color: #008000\">'3af394b5-74ae-4971-8352-004cd1d6852e'</span>,\n",
       "            <span style=\"color: #808000; text-decoration-color: #808000\">input</span>=<span style=\"color: #008000; text-decoration-color: #008000\">'Confirm your email address'</span>,\n",
       "            <span style=\"color: #808000; text-decoration-color: #808000\">prediction</span>=<span style=\"color: #008000; text-decoration-color: #008000\">'Not spam'</span>,\n",
       "            <span style=\"color: #808000; text-decoration-color: #808000\">predictions</span>=<span style=\"font-weight: bold\">[</span><span style=\"color: #008000; text-decoration-color: #008000\">'Not spam'</span><span style=\"font-weight: bold\">]</span>,\n",
       "            <span style=\"color: #808000; text-decoration-color: #808000\">confidence</span>=<span style=\"color: #008080; text-decoration-color: #008080; font-weight: bold\">0.5661598</span>,\n",
       "            <span style=\"color: #808000; text-decoration-color: #808000\">confidences</span>=<span style=\"font-weight: bold\">[</span><span style=\"color: #008080; text-decoration-color: #008080; font-weight: bold\">0.5661598</span><span style=\"font-weight: bold\">]</span>,\n",
       "            <span style=\"color: #808000; text-decoration-color: #808000\">labels</span>=<span style=\"font-weight: bold\">{</span>\n",
       "                <span style=\"color: #008000; text-decoration-color: #008000\">'Not spam'</span>: <span style=\"color: #800080; text-decoration-color: #800080; font-weight: bold\">ClassifyResponseClassificationsItemLabelsValue</span><span style=\"font-weight: bold\">(</span><span style=\"color: #808000; text-decoration-color: #808000\">confidence</span>=<span style=\"color: #008080; text-decoration-color: #008080; font-weight: bold\">0.5661598</span><span style=\"font-weight: bold\">)</span>,\n",
       "                <span style=\"color: #008000; text-decoration-color: #008000\">'Spam'</span>: <span style=\"color: #800080; text-decoration-color: #800080; font-weight: bold\">ClassifyResponseClassificationsItemLabelsValue</span><span style=\"font-weight: bold\">(</span><span style=\"color: #808000; text-decoration-color: #808000\">confidence</span>=<span style=\"color: #008080; text-decoration-color: #008080; font-weight: bold\">0.43384025</span><span style=\"font-weight: bold\">)</span>\n",
       "            <span style=\"font-weight: bold\">}</span>,\n",
       "            <span style=\"color: #808000; text-decoration-color: #808000\">classification_type</span>=<span style=\"color: #008000; text-decoration-color: #008000\">'single-label'</span>\n",
       "        <span style=\"font-weight: bold\">)</span>,\n",
       "        <span style=\"color: #800080; text-decoration-color: #800080; font-weight: bold\">ClassifyResponseClassificationsItem</span><span style=\"font-weight: bold\">(</span>\n",
       "            <span style=\"color: #808000; text-decoration-color: #808000\">id</span>=<span style=\"color: #008000; text-decoration-color: #008000\">'99711366-9851-4ea2-9734-32a1fcdb657a'</span>,\n",
       "            <span style=\"color: #808000; text-decoration-color: #808000\">input</span>=<span style=\"color: #008000; text-decoration-color: #008000\">'hey i need u to send some $'</span>,\n",
       "            <span style=\"color: #808000; text-decoration-color: #808000\">prediction</span>=<span style=\"color: #008000; text-decoration-color: #008000\">'Spam'</span>,\n",
       "            <span style=\"color: #808000; text-decoration-color: #808000\">predictions</span>=<span style=\"font-weight: bold\">[</span><span style=\"color: #008000; text-decoration-color: #008000\">'Spam'</span><span style=\"font-weight: bold\">]</span>,\n",
       "            <span style=\"color: #808000; text-decoration-color: #808000\">confidence</span>=<span style=\"color: #008080; text-decoration-color: #008080; font-weight: bold\">0.9909811</span>,\n",
       "            <span style=\"color: #808000; text-decoration-color: #808000\">confidences</span>=<span style=\"font-weight: bold\">[</span><span style=\"color: #008080; text-decoration-color: #008080; font-weight: bold\">0.9909811</span><span style=\"font-weight: bold\">]</span>,\n",
       "            <span style=\"color: #808000; text-decoration-color: #808000\">labels</span>=<span style=\"font-weight: bold\">{</span>\n",
       "                <span style=\"color: #008000; text-decoration-color: #008000\">'Not spam'</span>: <span style=\"color: #800080; text-decoration-color: #800080; font-weight: bold\">ClassifyResponseClassificationsItemLabelsValue</span><span style=\"font-weight: bold\">(</span><span style=\"color: #808000; text-decoration-color: #808000\">confidence</span>=<span style=\"color: #008080; text-decoration-color: #008080; font-weight: bold\">0.009018883</span><span style=\"font-weight: bold\">)</span>,\n",
       "                <span style=\"color: #008000; text-decoration-color: #008000\">'Spam'</span>: <span style=\"color: #800080; text-decoration-color: #800080; font-weight: bold\">ClassifyResponseClassificationsItemLabelsValue</span><span style=\"font-weight: bold\">(</span><span style=\"color: #808000; text-decoration-color: #808000\">confidence</span>=<span style=\"color: #008080; text-decoration-color: #008080; font-weight: bold\">0.9909811</span><span style=\"font-weight: bold\">)</span>\n",
       "            <span style=\"font-weight: bold\">}</span>,\n",
       "            <span style=\"color: #808000; text-decoration-color: #808000\">classification_type</span>=<span style=\"color: #008000; text-decoration-color: #008000\">'single-label'</span>\n",
       "        <span style=\"font-weight: bold\">)</span>\n",
       "    <span style=\"font-weight: bold\">]</span>,\n",
       "    <span style=\"color: #808000; text-decoration-color: #808000\">meta</span>=<span style=\"color: #800080; text-decoration-color: #800080; font-weight: bold\">ApiMeta</span><span style=\"font-weight: bold\">(</span>\n",
       "        <span style=\"color: #808000; text-decoration-color: #808000\">api_version</span>=<span style=\"color: #800080; text-decoration-color: #800080; font-weight: bold\">ApiMetaApiVersion</span><span style=\"font-weight: bold\">(</span><span style=\"color: #808000; text-decoration-color: #808000\">version</span>=<span style=\"color: #008000; text-decoration-color: #008000\">'1'</span>, <span style=\"color: #808000; text-decoration-color: #808000\">is_deprecated</span>=<span style=\"color: #800080; text-decoration-color: #800080; font-style: italic\">None</span>, <span style=\"color: #808000; text-decoration-color: #808000\">is_experimental</span>=<span style=\"color: #800080; text-decoration-color: #800080; font-style: italic\">None</span><span style=\"font-weight: bold\">)</span>,\n",
       "        <span style=\"color: #808000; text-decoration-color: #808000\">billed_units</span>=<span style=\"color: #800080; text-decoration-color: #800080; font-weight: bold\">ApiMetaBilledUnits</span><span style=\"font-weight: bold\">(</span>\n",
       "            <span style=\"color: #808000; text-decoration-color: #808000\">input_tokens</span>=<span style=\"color: #800080; text-decoration-color: #800080; font-style: italic\">None</span>,\n",
       "            <span style=\"color: #808000; text-decoration-color: #808000\">output_tokens</span>=<span style=\"color: #800080; text-decoration-color: #800080; font-style: italic\">None</span>,\n",
       "            <span style=\"color: #808000; text-decoration-color: #808000\">search_units</span>=<span style=\"color: #800080; text-decoration-color: #800080; font-style: italic\">None</span>,\n",
       "            <span style=\"color: #808000; text-decoration-color: #808000\">classifications</span>=<span style=\"color: #008080; text-decoration-color: #008080; font-weight: bold\">2</span>\n",
       "        <span style=\"font-weight: bold\">)</span>,\n",
       "        <span style=\"color: #808000; text-decoration-color: #808000\">tokens</span>=<span style=\"color: #800080; text-decoration-color: #800080; font-style: italic\">None</span>,\n",
       "        <span style=\"color: #808000; text-decoration-color: #808000\">warnings</span>=<span style=\"color: #800080; text-decoration-color: #800080; font-style: italic\">None</span>\n",
       "    <span style=\"font-weight: bold\">)</span>\n",
       "<span style=\"font-weight: bold\">)</span>\n",
       "</pre>\n"
      ],
      "text/plain": [
       "\u001b[1;35mClassifyResponse\u001b[0m\u001b[1m(\u001b[0m\n",
       "    \u001b[33mid\u001b[0m=\u001b[32m'546058c3-50cf-41c2-acbc-4431a2c2bad2'\u001b[0m,\n",
       "    \u001b[33mclassifications\u001b[0m=\u001b[1m[\u001b[0m\n",
       "        \u001b[1;35mClassifyResponseClassificationsItem\u001b[0m\u001b[1m(\u001b[0m\n",
       "            \u001b[33mid\u001b[0m=\u001b[32m'3af394b5-74ae-4971-8352-004cd1d6852e'\u001b[0m,\n",
       "            \u001b[33minput\u001b[0m=\u001b[32m'Confirm your email address'\u001b[0m,\n",
       "            \u001b[33mprediction\u001b[0m=\u001b[32m'Not spam'\u001b[0m,\n",
       "            \u001b[33mpredictions\u001b[0m=\u001b[1m[\u001b[0m\u001b[32m'Not spam'\u001b[0m\u001b[1m]\u001b[0m,\n",
       "            \u001b[33mconfidence\u001b[0m=\u001b[1;36m0\u001b[0m\u001b[1;36m.5661598\u001b[0m,\n",
       "            \u001b[33mconfidences\u001b[0m=\u001b[1m[\u001b[0m\u001b[1;36m0.5661598\u001b[0m\u001b[1m]\u001b[0m,\n",
       "            \u001b[33mlabels\u001b[0m=\u001b[1m{\u001b[0m\n",
       "                \u001b[32m'Not spam'\u001b[0m: \u001b[1;35mClassifyResponseClassificationsItemLabelsValue\u001b[0m\u001b[1m(\u001b[0m\u001b[33mconfidence\u001b[0m=\u001b[1;36m0\u001b[0m\u001b[1;36m.5661598\u001b[0m\u001b[1m)\u001b[0m,\n",
       "                \u001b[32m'Spam'\u001b[0m: \u001b[1;35mClassifyResponseClassificationsItemLabelsValue\u001b[0m\u001b[1m(\u001b[0m\u001b[33mconfidence\u001b[0m=\u001b[1;36m0\u001b[0m\u001b[1;36m.43384025\u001b[0m\u001b[1m)\u001b[0m\n",
       "            \u001b[1m}\u001b[0m,\n",
       "            \u001b[33mclassification_type\u001b[0m=\u001b[32m'single-label'\u001b[0m\n",
       "        \u001b[1m)\u001b[0m,\n",
       "        \u001b[1;35mClassifyResponseClassificationsItem\u001b[0m\u001b[1m(\u001b[0m\n",
       "            \u001b[33mid\u001b[0m=\u001b[32m'99711366-9851-4ea2-9734-32a1fcdb657a'\u001b[0m,\n",
       "            \u001b[33minput\u001b[0m=\u001b[32m'hey i need u to send some $'\u001b[0m,\n",
       "            \u001b[33mprediction\u001b[0m=\u001b[32m'Spam'\u001b[0m,\n",
       "            \u001b[33mpredictions\u001b[0m=\u001b[1m[\u001b[0m\u001b[32m'Spam'\u001b[0m\u001b[1m]\u001b[0m,\n",
       "            \u001b[33mconfidence\u001b[0m=\u001b[1;36m0\u001b[0m\u001b[1;36m.9909811\u001b[0m,\n",
       "            \u001b[33mconfidences\u001b[0m=\u001b[1m[\u001b[0m\u001b[1;36m0.9909811\u001b[0m\u001b[1m]\u001b[0m,\n",
       "            \u001b[33mlabels\u001b[0m=\u001b[1m{\u001b[0m\n",
       "                \u001b[32m'Not spam'\u001b[0m: \u001b[1;35mClassifyResponseClassificationsItemLabelsValue\u001b[0m\u001b[1m(\u001b[0m\u001b[33mconfidence\u001b[0m=\u001b[1;36m0\u001b[0m\u001b[1;36m.009018883\u001b[0m\u001b[1m)\u001b[0m,\n",
       "                \u001b[32m'Spam'\u001b[0m: \u001b[1;35mClassifyResponseClassificationsItemLabelsValue\u001b[0m\u001b[1m(\u001b[0m\u001b[33mconfidence\u001b[0m=\u001b[1;36m0\u001b[0m\u001b[1;36m.9909811\u001b[0m\u001b[1m)\u001b[0m\n",
       "            \u001b[1m}\u001b[0m,\n",
       "            \u001b[33mclassification_type\u001b[0m=\u001b[32m'single-label'\u001b[0m\n",
       "        \u001b[1m)\u001b[0m\n",
       "    \u001b[1m]\u001b[0m,\n",
       "    \u001b[33mmeta\u001b[0m=\u001b[1;35mApiMeta\u001b[0m\u001b[1m(\u001b[0m\n",
       "        \u001b[33mapi_version\u001b[0m=\u001b[1;35mApiMetaApiVersion\u001b[0m\u001b[1m(\u001b[0m\u001b[33mversion\u001b[0m=\u001b[32m'1'\u001b[0m, \u001b[33mis_deprecated\u001b[0m=\u001b[3;35mNone\u001b[0m, \u001b[33mis_experimental\u001b[0m=\u001b[3;35mNone\u001b[0m\u001b[1m)\u001b[0m,\n",
       "        \u001b[33mbilled_units\u001b[0m=\u001b[1;35mApiMetaBilledUnits\u001b[0m\u001b[1m(\u001b[0m\n",
       "            \u001b[33minput_tokens\u001b[0m=\u001b[3;35mNone\u001b[0m,\n",
       "            \u001b[33moutput_tokens\u001b[0m=\u001b[3;35mNone\u001b[0m,\n",
       "            \u001b[33msearch_units\u001b[0m=\u001b[3;35mNone\u001b[0m,\n",
       "            \u001b[33mclassifications\u001b[0m=\u001b[1;36m2\u001b[0m\n",
       "        \u001b[1m)\u001b[0m,\n",
       "        \u001b[33mtokens\u001b[0m=\u001b[3;35mNone\u001b[0m,\n",
       "        \u001b[33mwarnings\u001b[0m=\u001b[3;35mNone\u001b[0m\n",
       "    \u001b[1m)\u001b[0m\n",
       "\u001b[1m)\u001b[0m\n"
      ]
     },
     "metadata": {},
     "output_type": "display_data"
    }
   ],
   "source": [
    "examples = [\n",
    "    ClassifyExample(text=\"Dermatologists don't like her!\", label=\"Spam\"),\n",
    "    ClassifyExample(text=\"'Hello, open to this?'\", label=\"Spam\"),\n",
    "    ClassifyExample(text=\"I need help please wire me $1000 right now\", label=\"Spam\"),\n",
    "    ClassifyExample(text=\"Nice to know you ;)\", label=\"Spam\"),\n",
    "    ClassifyExample(text=\"Please help me?\", label=\"Spam\"),\n",
    "    ClassifyExample(text=\"Your parcel will be delivered today\", label=\"Not spam\"),\n",
    "    ClassifyExample(\n",
    "        text=\"Review changes to our Terms and Conditions\", label=\"Not spam\"\n",
    "    ),\n",
    "    ClassifyExample(text=\"Weekly sync notes\", label=\"Not spam\"),\n",
    "    ClassifyExample(text=\"'Re: Follow up from today's meeting'\", label=\"Not spam\"),\n",
    "    ClassifyExample(text=\"Pre-read for tomorrow\", label=\"Not spam\"),\n",
    "]\n",
    "\n",
    "inputs = [\n",
    "    \"Confirm your email address\",\n",
    "    \"hey i need u to send some $\",\n",
    "]\n",
    "\n",
    "response = co.classify(\n",
    "    inputs=inputs,\n",
    "    examples=examples,\n",
    ")\n",
    "print(response)\n"
   ]
  },
  {
   "cell_type": "markdown",
   "metadata": {},
   "source": [
    "## Define the documents"
   ]
  },
  {
   "cell_type": "code",
   "execution_count": 8,
   "metadata": {},
   "outputs": [],
   "source": [
    "documents = [\n",
    "    {\n",
    "        \"title\": \"The quick brown fox\",\n",
    "        \"text\": \"The quick brown fox jumps over the lazy dog\",\n",
    "        \"author\": \"Aesop\",\n",
    "    },\n",
    "    {\n",
    "        \"title\": \"Cats are cute\",\n",
    "        \"text\": \"Cats are cute and fluffy\",\n",
    "        \"author\": \"Aesop\",\n",
    "    },\n",
    "    {\n",
    "        \"title\": \"Tall penguins\",\n",
    "        \"text\": \"Emperor penguins are the tallest.\",\n",
    "        \"author\": \"Vlad\",\n",
    "    },\n",
    "    {\n",
    "        \"title\": \"Penguin habitats\",\n",
    "        \"text\": \"Emperor penguins only live in Antarctica.\",\n",
    "        \"author\": \"Vlad\",\n",
    "    },\n",
    "    {\n",
    "        \"title\": \"Penguin diet\",\n",
    "        \"text\": \"Emperor penguins eat fish.\",\n",
    "    }\n",
    "]"
   ]
  },
  {
   "cell_type": "code",
   "execution_count": 11,
   "metadata": {},
   "outputs": [
    {
     "name": "stdout",
     "output_type": "stream",
     "text": [
      "Vlad wrote the following books:\n",
      "- *Tall Penguins*\n",
      "- *Penguin Habitats*.\n",
      "\n",
      "Citations:\n",
      "start=35 end=48 text='Tall Penguins' document_ids=['doc_2']\n",
      "start=53 end=69 text='Penguin Habitats' document_ids=['doc_3']\n",
      "\n",
      "\n",
      "Cited Documents:\n",
      "{'author': 'Vlad', 'id': 'doc_2', 'text': 'Emperor penguins are the tallest.', 'title': 'Tall penguins'}\n",
      "{'author': 'Vlad', 'id': 'doc_3', 'text': 'Emperor penguins only live in Antarctica.', 'title': 'Penguin habitats'}\n"
     ]
    }
   ],
   "source": [
    "response = co.chat_stream(\n",
    "    preamble=\"Only return in Markdown format.\",\n",
    "    message=\"What books did Vlad write?\",\n",
    "    documents=documents,\n",
    ")\n",
    "\n",
    "\n",
    "citations = []\n",
    "cited_documents = []\n",
    "\n",
    "for event in response:\n",
    "    if event.event_type == \"text-generation\":\n",
    "        print(event.text, end=\"\")\n",
    "\n",
    "    elif event.event_type == \"citation-generation\":\n",
    "        citations.extend(event.citations)\n",
    "\n",
    "    elif event.event_type == \"stream-end\":\n",
    "        cited_documents.extend(event.response.documents)\n",
    "\n",
    "\n",
    "if citations:\n",
    "    print(\"\\n\\nCitations:\")\n",
    "    for citation in citations:\n",
    "        print(citation)\n",
    "\n",
    "if cited_documents:\n",
    "    print(\"\\n\\nCited Documents:\")\n",
    "    for document in cited_documents:\n",
    "        print(document)\n"
   ]
  }
 ],
 "metadata": {
  "kernelspec": {
   "display_name": "langchain_rag",
   "language": "python",
   "name": "python3"
  },
  "language_info": {
   "codemirror_mode": {
    "name": "ipython",
    "version": 3
   },
   "file_extension": ".py",
   "mimetype": "text/x-python",
   "name": "python",
   "nbconvert_exporter": "python",
   "pygments_lexer": "ipython3",
   "version": "3.10.11"
  }
 },
 "nbformat": 4,
 "nbformat_minor": 2
}
